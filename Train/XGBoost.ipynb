{
 "cells": [
  {
   "cell_type": "markdown",
   "id": "2db50f8e-06ff-4fb0-a584-bbd8c103f704",
   "metadata": {},
   "source": [
    "## XGBoost\n",
    "\n",
    "+ 重要参数:\n",
    "XGBoost的参数分为三种：\n",
    "\n",
    "通用参数：（两种类型的booster，因为tree的性能比线性回归好得多，因此我们很少用线性回归。）\n",
    "\n",
    "booster:使用哪个弱学习器训练，默认gbtree，可选gbtree，gblinear 或dart\n",
    "nthread：用于运行XGBoost的并行线程数，默认为最大可用线程数\n",
    "verbosity：打印消息的详细程度。有效值为0（静默），1（警告），2（信息），3（调试）。\n",
    "eta（learning_rate）：learning_rate，在更新中使用步长收缩以防止过度拟合，默认= 0.3，范围：[0,1]；典型值一般设置为：0.01-0.2\n",
    "gamma（min_split_loss）：默认= 0，分裂节点时，损失函数减小值只有大于等于gamma节点才分裂，gamma值越大，算法越保守，越不容易过拟合，但性能就不一定能保证，需要平衡。范围：[0，∞]\n",
    "max_depth：默认= 6，一棵树的最大深度。增加此值将使模型更复杂，并且更可能过度拟合。范围：[0，∞]\n",
    "min_child_weight：默认值= 1，如果新分裂的节点的样本权重和小于min_child_weight则停止分裂 。这个可以用来减少过拟合，但是也不能太高，会导致欠拟合。范围：[0，∞]\n",
    "max_delta_step：默认= 0，允许每个叶子输出的最大增量步长。如果将该值设置为0，则表示没有约束。如果将其设置为正值，则可以帮助使更新步骤更加保守。通常不需要此参数，但是当类极度不平衡时，它可能有助于逻辑回归。将其设置为1-10的值可能有助于控制更新。范围：[0，∞]\n",
    "subsample：默认值= 1，构建每棵树对样本的采样率，如果设置成0.5，XGBoost会随机选择一半的样本作为训练集。范围：（0,1]\n",
    "sampling_method：默认= uniform，用于对训练实例进行采样的方法。\n",
    "uniform：每个训练实例的选择概率均等。通常将subsample> = 0.5 设置 为良好的效果。\n",
    "gradient_based：每个训练实例的选择概率与规则化的梯度绝对值成正比，具体来说就是g 2 + λ h 2 \\sqrt{g^2+\\lambda h^2} \n"
   ]
  },
  {
   "cell_type": "code",
   "execution_count": 1,
   "id": "52eb1a79-3b2a-4e99-be92-fa10f9da48f2",
   "metadata": {},
   "outputs": [],
   "source": [
    "import random\n",
    "import joblib\n",
    "import os\n",
    "import warnings\n",
    "import pandas as pd\n",
    "import numpy as np\n",
    "import matplotlib.pyplot as plt\n",
    "import xgboost as xgb\n",
    "from pprint import pprint\n",
    "from sklearn.model_selection import train_test_split\n",
    "from sklearn.preprocessing import StandardScaler\n",
    "from sklearn.model_selection import cross_val_score\n",
    "from sklearn import metrics\n",
    "from openpyxl import load_workbook\n",
    "from sklearn.tree import export_graphviz\n",
    "from sklearn.model_selection import GridSearchCV\n",
    "from sklearn.model_selection import RandomizedSearchCV\n",
    "from xgboost.sklearn import XGBClassifier\n",
    "warnings.filterwarnings(\"ignore\")"
   ]
  },
  {
   "cell_type": "code",
   "execution_count": 2,
   "id": "b4bbdfda-9a7f-459e-b57b-3113efcc0057",
   "metadata": {},
   "outputs": [],
   "source": [
    "from sklearn.metrics import confusion_matrix    #导入计算混淆矩阵的包\n",
    "def specificity_score(y_true, y_pred):\n",
    "    C = confusion_matrix(y_true, y_pred)\n",
    "    TP = C[1,1]\n",
    "    FP = C[0,1]\n",
    "    TN = C[0,0]\n",
    "    FN = C[1,0]\n",
    "    specificity = TN/(TN+FP)\n",
    "    return specificity\n",
    "\n",
    "def classification_evaluation(y_true, y_pred, y_score):\n",
    "    precision = metrics.precision_score(y_true, y_pred)\n",
    "    recall = metrics.recall_score(y_true, y_pred)\n",
    "    accuracy = metrics.accuracy_score(y_true, y_pred)\n",
    "    auc = metrics.roc_auc_score(y_true, y_score)\n",
    "    f1 = metrics.f1_score(y_true, y_pred)\n",
    "    specificity = specificity_score(y_true, y_pred)\n",
    "    evaluation = {'accuracy':accuracy, 'recall':recall, 'precision':precision, 'f1':f1, 'auc':auc, 'specificity':specificity}\n",
    "    return evaluation"
   ]
  },
  {
   "cell_type": "markdown",
   "id": "cc767a25-e792-4e32-a971-4d324cfcad6d",
   "metadata": {},
   "source": [
    "### Global params setting and load data"
   ]
  },
  {
   "cell_type": "code",
   "execution_count": 3,
   "id": "b403aa11-0a54-40ae-927e-18820077775e",
   "metadata": {},
   "outputs": [],
   "source": [
    "cwd = os.getcwd()\n",
    "traindir = '../Feature_filter/Feas_data'\n",
    "testdir = '../Feature_filter/Feas_data_test'\n",
    "imgdir = os.path.join(cwd, 'IMG')\n",
    "modeldir = os.path.join(cwd, 'Model')\n",
    "tag_cols = ['pid', 'label', 'series', 'image', 'mask']\n",
    "sequence_id = [2, 3, 4]\n",
    "# Generate the random seed\n",
    "random_state = random.randint(1,10000)\n",
    "\n",
    "# Load the SSM features.\n",
    "SSM_train_slist = [pd.read_excel(os.path.join(traindir, 'feas_mrmr_sel.xlsx'), sheet_name=f'sequence{num}') for num in sequence_id]\n",
    "SSM_test_slist = [pd.read_excel(os.path.join(testdir, 'SSM_test.xlsx'), sheet_name=f'sequence{num}') for num in sequence_id]"
   ]
  },
  {
   "cell_type": "code",
   "execution_count": 4,
   "id": "c7faacc6-3a5c-498e-ab0a-343a8074a627",
   "metadata": {
    "tags": []
   },
   "outputs": [
    {
     "name": "stdout",
     "output_type": "stream",
     "text": [
      "['pid', 'label', 'series', 'image', 'mask', 'glszm_SmallAreaEmphasis_logarithm', 'glcm_InverseVariance_exponential', 'glszm_GrayLevelNonUniformity_wavelet-HHH', 'firstorder_Skewness_logarithm', 'glcm_Correlation_log-sigma-3-0-mm-3D']\n",
      "['pid', 'label', 'series', 'image', 'mask', 'gldm_DependenceVariance_wavelet-LLH', 'ngtdm_Contrast_wavelet-HHL', 'firstorder_Skewness_log-sigma-2-0-mm-3D', 'glcm_Imc2_wavelet-HHH', 'glrlm_RunEntropy_exponential']\n",
      "['pid', 'label', 'series', 'image', 'mask', 'glrlm_ShortRunLowGrayLevelEmphasis_square', 'glszm_ZoneEntropy_exponential']\n",
      "6 6 3\n"
     ]
    }
   ],
   "source": [
    "# Print features\n",
    "SSM_features_list = [df.columns for df in SSM_train_slist]\n",
    "print(SSM_features_list[0].to_list())\n",
    "print(SSM_features_list[1].to_list())\n",
    "print(SSM_features_list[2].to_list())\n",
    "print(len(SSM_features_list[0])-4, len(SSM_features_list[1])-4, len(SSM_features_list[2])-4)"
   ]
  },
  {
   "cell_type": "code",
   "execution_count": 5,
   "id": "a5e4d22d-7468-4b72-aac8-0a666ccc9efa",
   "metadata": {},
   "outputs": [],
   "source": [
    "# Train data\n",
    "standardscaler = StandardScaler()\n",
    "SSM_train_slist = [df.sample(frac=1.0, random_state=random_state) for df in SSM_train_slist]\n",
    "SSM_train_y = [df['label'] for df in SSM_train_slist]\n",
    "SSM_train_x = [df.drop(tag_cols, axis=1) for df in SSM_train_slist]\n",
    "SSM_train_x = [standardscaler.fit_transform(df) for df in SSM_train_x]\n",
    "# Test data\n",
    "SSM_test_slist = [df.sample(frac=1.0, random_state=random_state) for df in SSM_test_slist]\n",
    "SSM_test_y = [df['label'] for df in SSM_test_slist]\n",
    "SSM_test_x = [df.drop(tag_cols, axis=1) for df in SSM_test_slist]\n",
    "SSM_test_x = [standardscaler.fit_transform(df) for df in SSM_test_x]\n",
    "\n",
    "SSM2_train_y, SSM3_train_y, SSM4_train_y = (y_.to_list() for y_ in SSM_train_y)             \n",
    "SSM2_train_x, SSM3_train_x, SSM4_train_x = (x_ for x_ in SSM_train_x)\n",
    "SSM2_test_y, SSM3_test_y, SSM4_test_y = (y_.to_list() for y_ in SSM_test_y)\n",
    "SSM2_test_x, SSM3_test_x, SSM4_test_x = (x_ for x_ in SSM_test_x)\n",
    "SSM2_model, SSM3_model, SSM4_model = (f'XGBoost_SSM{i+2}.model' for i in range(3))"
   ]
  },
  {
   "cell_type": "markdown",
   "id": "0eedf637-cdd3-48a6-b19c-cac679fff0d1",
   "metadata": {},
   "source": [
    "### 系统调参"
   ]
  },
  {
   "cell_type": "markdown",
   "id": "beab93fb-6af0-4857-84ce-91772a6391a1",
   "metadata": {},
   "source": [
    "### SSM2"
   ]
  },
  {
   "cell_type": "markdown",
   "id": "c49942c7-2803-45e8-9a80-c69d5b03424d",
   "metadata": {},
   "source": [
    "#### 超参数遍历匹配择优\n",
    "+ 依据上述所得到的随机最优匹配结果，进行遍历全部组合的匹配择优。"
   ]
  },
  {
   "cell_type": "code",
   "execution_count": 6,
   "id": "ade62c72-b763-412e-ba05-0688ddfa28df",
   "metadata": {
    "tags": []
   },
   "outputs": [
    {
     "name": "stdout",
     "output_type": "stream",
     "text": [
      "Fitting 4 folds for each of 100 candidates, totalling 400 fits\n"
     ]
    },
    {
     "ename": "NameError",
     "evalue": "name 'model_random1' is not defined",
     "output_type": "error",
     "traceback": [
      "\u001b[0;31m---------------------------------------------------------------------------\u001b[0m",
      "\u001b[0;31mNameError\u001b[0m                                 Traceback (most recent call last)",
      "\u001b[0;32m/tmp/ipykernel_15905/98542390.py\u001b[0m in \u001b[0;36m<module>\u001b[0;34m\u001b[0m\n\u001b[1;32m     28\u001b[0m \u001b[0mmodel_random\u001b[0m\u001b[0;34m.\u001b[0m\u001b[0mfit\u001b[0m\u001b[0;34m(\u001b[0m\u001b[0mSSM2_train_x\u001b[0m\u001b[0;34m,\u001b[0m \u001b[0mSSM2_train_y\u001b[0m\u001b[0;34m)\u001b[0m\u001b[0;34m\u001b[0m\u001b[0;34m\u001b[0m\u001b[0m\n\u001b[1;32m     29\u001b[0m \u001b[0;34m\u001b[0m\u001b[0m\n\u001b[0;32m---> 30\u001b[0;31m \u001b[0mbest_SSM2\u001b[0m \u001b[0;34m=\u001b[0m \u001b[0mmodel_random1\u001b[0m\u001b[0;34m.\u001b[0m\u001b[0mbest_params_\u001b[0m\u001b[0;34m\u001b[0m\u001b[0;34m\u001b[0m\u001b[0m\n\u001b[0m\u001b[1;32m     31\u001b[0m \u001b[0mpprint\u001b[0m\u001b[0;34m(\u001b[0m\u001b[0mbest_SSM2\u001b[0m\u001b[0;34m)\u001b[0m\u001b[0;34m\u001b[0m\u001b[0;34m\u001b[0m\u001b[0m\n",
      "\u001b[0;31mNameError\u001b[0m: name 'model_random1' is not defined"
     ]
    }
   ],
   "source": [
    "# Search optimal hyperparameter\n",
    "random_seed = np.random.randint(low=1,high=230)\n",
    "\n",
    "hparam = {\n",
    "              'max_depth': [5, 10, 15, 20, 25],\n",
    "              'learning_rate': [0.01, 0.02, 0.05, 0.1, 0.15],\n",
    "              'n_estimators': [500, 1000, 2000, 3000, 5000],\n",
    "              'min_child_weight': [0, 2, 5, 10, 20],\n",
    "              'max_delta_step': [0, 0.2, 0.6, 1, 2],\n",
    "              'subsample': [0.6, 0.7, 0.8, 0.85, 0.95],\n",
    "              'colsample_bytree': [0.5, 0.6, 0.7, 0.8, 0.9],\n",
    "              'reg_alpha': [0, 0.25, 0.5, 0.75, 1],\n",
    "              'reg_lambda': [0.2, 0.4, 0.6, 0.8, 1],\n",
    "              'scale_pos_weight': [0.2, 0.4, 0.6, 0.8, 1]\n",
    "\n",
    "}\n",
    "\n",
    "model_base = xgb.XGBClassifier()\n",
    "model_random = RandomizedSearchCV(estimator=model_base,\n",
    "                                  param_distributions=hparam,\n",
    "                                  n_iter=100,\n",
    "                                  n_jobs=-1,\n",
    "                                  cv=4,\n",
    "                                  verbose=1,\n",
    "                                  scoring='roc_auc',\n",
    "                                  random_state=random_seed\n",
    "                                 )\n",
    "model_random.fit(SSM2_train_x, SSM2_train_y)\n",
    "\n"
   ]
  },
  {
   "cell_type": "code",
   "execution_count": 7,
   "id": "0889a84f-815d-409e-b7c8-7f1a2c7fcdd4",
   "metadata": {},
   "outputs": [
    {
     "name": "stdout",
     "output_type": "stream",
     "text": [
      "{'colsample_bytree': 0.6,\n",
      " 'learning_rate': 0.02,\n",
      " 'max_delta_step': 0.2,\n",
      " 'max_depth': 5,\n",
      " 'min_child_weight': 5,\n",
      " 'n_estimators': 1000,\n",
      " 'reg_alpha': 0,\n",
      " 'reg_lambda': 0.4,\n",
      " 'scale_pos_weight': 0.6,\n",
      " 'subsample': 0.8}\n"
     ]
    }
   ],
   "source": [
    "\n",
    "best_SSM2 = model_random.best_params_\n",
    "pprint(best_SSM2)"
   ]
  },
  {
   "cell_type": "code",
   "execution_count": 8,
   "id": "1b358c38-6fcb-435c-86e8-1cf85f85c919",
   "metadata": {},
   "outputs": [
    {
     "name": "stdout",
     "output_type": "stream",
     "text": [
      "Fitting 3 folds for each of 100 candidates, totalling 300 fits\n"
     ]
    },
    {
     "data": {
      "text/plain": [
       "RandomizedSearchCV(cv=3,\n",
       "                   estimator=XGBClassifier(base_score=None, booster=None,\n",
       "                                           callbacks=None,\n",
       "                                           colsample_bylevel=None,\n",
       "                                           colsample_bynode=None,\n",
       "                                           colsample_bytree=None,\n",
       "                                           early_stopping_rounds=None,\n",
       "                                           enable_categorical=False,\n",
       "                                           eval_metric=None, gamma=None,\n",
       "                                           gpu_id=None, grow_policy=None,\n",
       "                                           importance_type=None,\n",
       "                                           interaction_constraints=None,\n",
       "                                           learning_rate=None, max_bin=None,...\n",
       "                   param_distributions={'colsample_bytree': [0.5, 0.6, 0.7],\n",
       "                                        'learning_rate': [0.01, 0.02, 0.03],\n",
       "                                        'max_delta_step': [0.1, 0.2, 0.3],\n",
       "                                        'max_depth': [4, 7, 8],\n",
       "                                        'min_child_weight': [4, 5, 6],\n",
       "                                        'n_estimators': [800, 1000, 1200],\n",
       "                                        'reg_alpha': [0.0, 0.2],\n",
       "                                        'reg_lambda': [0.3, 0.4, 0.5],\n",
       "                                        'scale_pos_weight': [0.5, 0.6, 0.7],\n",
       "                                        'subsample': [0.7, 0.8, 0.85]},\n",
       "                   random_state=202, scoring='roc_auc', verbose=1)"
      ]
     },
     "execution_count": 8,
     "metadata": {},
     "output_type": "execute_result"
    }
   ],
   "source": [
    "hparam1 = {\n",
    "              'colsample_bytree': [0.5, 0.6, 0.7],\n",
    "              'learning_rate': [0.01,0.02,0.03],\n",
    "              'max_delta_step': [0.1, 0.2, 0.3],\n",
    "              'max_depth': [4, 7, 8],\n",
    "              'min_child_weight': [4,5,6],\n",
    "              'n_estimators': [800, 1000, 1200],\n",
    "              'reg_alpha': [0., 0.2],\n",
    "              'reg_lambda': [0.3,0.4,0.5],\n",
    "              'scale_pos_weight': [0.5, 0.6, 0.7],\n",
    "              'subsample': [0.7,0.8, 0.85],\n",
    "}\n",
    "model_base = xgb.XGBClassifier()\n",
    "model_random1 = RandomizedSearchCV(estimator=model_base,\n",
    "                                  param_distributions=hparam1,\n",
    "                                  n_iter=100,\n",
    "                                  n_jobs=-1,\n",
    "                                  cv=3,\n",
    "                                  verbose=1,\n",
    "                                  scoring='roc_auc',\n",
    "                                  random_state=random_seed\n",
    "                                 )\n",
    "model_random1.fit(SSM2_train_x, SSM2_train_y)"
   ]
  },
  {
   "cell_type": "code",
   "execution_count": 9,
   "id": "adc3af4d-d18b-4061-bd29-893efdc5f857",
   "metadata": {},
   "outputs": [
    {
     "name": "stdout",
     "output_type": "stream",
     "text": [
      "{'colsample_bytree': 0.6,\n",
      " 'learning_rate': 0.01,\n",
      " 'max_delta_step': 0.1,\n",
      " 'max_depth': 4,\n",
      " 'min_child_weight': 5,\n",
      " 'n_estimators': 1200,\n",
      " 'reg_alpha': 0.2,\n",
      " 'reg_lambda': 0.5,\n",
      " 'scale_pos_weight': 0.7,\n",
      " 'subsample': 0.8}\n"
     ]
    }
   ],
   "source": [
    "best_SSM2 = model_random1.best_params_\n",
    "pprint(best_SSM2)"
   ]
  },
  {
   "cell_type": "code",
   "execution_count": 25,
   "id": "aa3ce0f3-6d5e-41eb-8a97-9dd2b4d8ea73",
   "metadata": {},
   "outputs": [
    {
     "name": "stdout",
     "output_type": "stream",
     "text": [
      "Fitting 2 folds for each of 1 candidates, totalling 2 fits\n",
      "{'colsample_bytree': 0.6,\n",
      " 'learning_rate': 0.01,\n",
      " 'max_delta_step': 0.1,\n",
      " 'max_depth': 8,\n",
      " 'min_child_weight': 5,\n",
      " 'n_estimators': 1300,\n",
      " 'reg_alpha': 0.2,\n",
      " 'reg_lambda': 0.5,\n",
      " 'scale_pos_weight': 0.8,\n",
      " 'subsample': 0.8}\n"
     ]
    }
   ],
   "source": [
    "hparam_grid = {\n",
    "              'colsample_bytree': [0.6],\n",
    "              'learning_rate': [0.01],\n",
    "              'max_delta_step': [0.1],\n",
    "              'max_depth': [8],\n",
    "              'min_child_weight': [5],\n",
    "              'n_estimators': [1300],\n",
    "              'reg_alpha': [0.2],\n",
    "              'reg_lambda': [0.5],\n",
    "              'scale_pos_weight': [0.8],\n",
    "              'subsample': [0.8],\n",
    "}\n",
    "model_base = xgb.XGBClassifier()\n",
    "model_grid = GridSearchCV(estimator=model_base,\n",
    "                          param_grid=hparam_grid,\n",
    "                          n_jobs=-1,\n",
    "                          cv=2,\n",
    "                          verbose=1,\n",
    "                          scoring='roc_auc'\n",
    ")\n",
    "model_grid.fit(SSM2_train_x, SSM2_train_y)\n",
    "best_SSM2 = model_grid.best_params_\n",
    "pprint(best_SSM2)"
   ]
  },
  {
   "cell_type": "code",
   "execution_count": 26,
   "id": "c1b276be-30f1-4669-99fb-8e13c5f92073",
   "metadata": {},
   "outputs": [
    {
     "name": "stdout",
     "output_type": "stream",
     "text": [
      "0.6857142857142857\n"
     ]
    },
    {
     "data": {
      "text/plain": [
       "['/media/tx-deepocean/Data/2022/chongfu1/Model/Train/Model/XGBoost_SSM2.model']"
      ]
     },
     "execution_count": 26,
     "metadata": {},
     "output_type": "execute_result"
    }
   ],
   "source": [
    "# Build RF regression model with optimal hyperparameters\n",
    "SSM2=model_grid.best_estimator_\n",
    "# Predict test set data\n",
    "score = SSM2.score(SSM2_test_x, SSM2_test_y)\n",
    "print(score)\n",
    "joblib.dump(SSM2, os.path.join(modeldir, SSM2_model))"
   ]
  },
  {
   "cell_type": "code",
   "execution_count": 27,
   "id": "441f2f38-29ee-42a7-bec8-3ac059975e4d",
   "metadata": {
    "tags": []
   },
   "outputs": [
    {
     "data": {
      "text/plain": [
       "{'accuracy': 0.6857142857142857,\n",
       " 'recall': 0.8043478260869565,\n",
       " 'precision': 0.74,\n",
       " 'f1': 0.7708333333333333,\n",
       " 'auc': 0.6096014492753623,\n",
       " 'specificity': 0.4583333333333333}"
      ]
     },
     "execution_count": 27,
     "metadata": {},
     "output_type": "execute_result"
    }
   ],
   "source": [
    "model= joblib.load(os.path.join(modeldir, SSM2_model)) \n",
    "predict_label = model.predict(SSM2_test_x)#, probability=True) #预测的标签\n",
    "predict_score = model.predict_proba(SSM2_test_x)#得到标签0 (y_predict[:,0])和1 (y_predict[:,1])对应的概率\n",
    "label = SSM2_test_y  #真实标签\n",
    "eva_dic = classification_evaluation(label, predict_label, predict_score[:,1])\n",
    "eva_dic"
   ]
  },
  {
   "cell_type": "markdown",
   "id": "97235b70-eeea-44fc-ab32-6f6436112f83",
   "metadata": {},
   "source": [
    "### SSM3"
   ]
  },
  {
   "cell_type": "markdown",
   "id": "b3e45433-3dbc-4640-94a4-4d960b1bed80",
   "metadata": {},
   "source": [
    "#### 超参数遍历匹配择优\n",
    "+ 依据上述所得到的随机最优匹配结果，进行遍历全部组合的匹配择优。"
   ]
  },
  {
   "cell_type": "code",
   "execution_count": 28,
   "id": "67ecd46c-9a1d-4ed7-b603-2e3a8b4d7a39",
   "metadata": {
    "tags": []
   },
   "outputs": [
    {
     "name": "stdout",
     "output_type": "stream",
     "text": [
      "Fitting 3 folds for each of 100 candidates, totalling 300 fits\n"
     ]
    },
    {
     "data": {
      "text/plain": [
       "RandomizedSearchCV(cv=3,\n",
       "                   estimator=XGBClassifier(base_score=None, booster=None,\n",
       "                                           callbacks=None,\n",
       "                                           colsample_bylevel=None,\n",
       "                                           colsample_bynode=None,\n",
       "                                           colsample_bytree=None,\n",
       "                                           early_stopping_rounds=None,\n",
       "                                           enable_categorical=False,\n",
       "                                           eval_metric=None, gamma=None,\n",
       "                                           gpu_id=None, grow_policy=None,\n",
       "                                           importance_type=None,\n",
       "                                           interaction_constraints=None,\n",
       "                                           learning_rate=None, max_bin=None,...\n",
       "                                        'learning_rate': [0.01, 0.02, 0.05, 0.1,\n",
       "                                                          0.15],\n",
       "                                        'max_delta_step': [0, 0.2, 0.6, 1, 2],\n",
       "                                        'max_depth': [5, 10, 15, 20, 25],\n",
       "                                        'min_child_weight': [0, 2, 5, 10, 20],\n",
       "                                        'n_estimators': [500, 1000, 2000, 3000,\n",
       "                                                         5000],\n",
       "                                        'reg_alpha': [0, 0.25, 0.5, 0.75, 1],\n",
       "                                        'reg_lambda': [0.2, 0.4, 0.6, 0.8, 1],\n",
       "                                        'scale_pos_weight': [0.2, 0.4, 0.6, 0.8,\n",
       "                                                             1],\n",
       "                                        'subsample': [0.6, 0.7, 0.8, 0.85,\n",
       "                                                      0.95]},\n",
       "                   random_state=112, scoring='roc_auc', verbose=1)"
      ]
     },
     "execution_count": 28,
     "metadata": {},
     "output_type": "execute_result"
    }
   ],
   "source": [
    "# Search optimal hyperparameter\n",
    "random_seed = np.random.randint(low=1,high=230)\n",
    "\n",
    "hparam = {\n",
    "              'colsample_bytree': [0.5, 0.6, 0.7, 0.8, 0.9],\n",
    "              'learning_rate': [0.01, 0.02, 0.05, 0.1, 0.15],\n",
    "              'max_delta_step': [0, 0.2, 0.6, 1, 2],\n",
    "              'max_depth': [5, 10, 15, 20, 25],\n",
    "              'min_child_weight': [0, 2, 5, 10, 20],\n",
    "              'n_estimators': [500, 1000, 2000, 3000, 5000],\n",
    "              'reg_alpha': [0, 0.25, 0.5, 0.75, 1],\n",
    "              'reg_lambda': [0.2, 0.4, 0.6, 0.8, 1],\n",
    "              'scale_pos_weight': [0.2, 0.4, 0.6, 0.8, 1],\n",
    "              'subsample': [0.6, 0.7, 0.8, 0.85, 0.95]\n",
    "\n",
    "}\n",
    "\n",
    "model_base = xgb.XGBClassifier()\n",
    "model_random = RandomizedSearchCV(estimator=model_base,\n",
    "                                  param_distributions=hparam,\n",
    "                                  n_iter=100,\n",
    "                                  n_jobs=-1,\n",
    "                                  cv=3,\n",
    "                                  verbose=1,\n",
    "                                  scoring='roc_auc',\n",
    "                                  random_state=random_seed\n",
    "                                 )\n",
    "model_random.fit(SSM3_train_x, SSM3_train_y)\n",
    "\n"
   ]
  },
  {
   "cell_type": "code",
   "execution_count": 29,
   "id": "6bbe4f09-ae2c-4a79-9087-5940b15e0964",
   "metadata": {},
   "outputs": [
    {
     "name": "stdout",
     "output_type": "stream",
     "text": [
      "{'colsample_bytree': 0.7,\n",
      " 'learning_rate': 0.02,\n",
      " 'max_delta_step': 0,\n",
      " 'max_depth': 20,\n",
      " 'min_child_weight': 10,\n",
      " 'n_estimators': 5000,\n",
      " 'reg_alpha': 0.25,\n",
      " 'reg_lambda': 0.2,\n",
      " 'scale_pos_weight': 1,\n",
      " 'subsample': 0.7}\n"
     ]
    }
   ],
   "source": [
    "best_SSM3 = model_random.best_params_\n",
    "pprint(best_SSM3)"
   ]
  },
  {
   "cell_type": "code",
   "execution_count": 30,
   "id": "41951ec2-1ace-47f3-a4f2-0d84f1852ff5",
   "metadata": {},
   "outputs": [
    {
     "name": "stdout",
     "output_type": "stream",
     "text": [
      "Fitting 3 folds for each of 100 candidates, totalling 300 fits\n",
      "{'colsample_bytree': 0.7,\n",
      " 'learning_rate': 0.03,\n",
      " 'max_delta_step': 0.2,\n",
      " 'max_depth': 18,\n",
      " 'min_child_weight': 8,\n",
      " 'n_estimators': 4500,\n",
      " 'reg_alpha': 0.8,\n",
      " 'reg_lambda': 0.1,\n",
      " 'scale_pos_weight': 0.8,\n",
      " 'subsample': 0.6}\n"
     ]
    }
   ],
   "source": [
    "hparam1 = {\n",
    "              'colsample_bytree': [0.6, 0.7, 0.8],\n",
    "              'learning_rate': [0.01, 0.02, 0.03],\n",
    "              'max_delta_step': [0, 0.1, 0.2],\n",
    "              'max_depth': [18, 20, 22],\n",
    "              'min_child_weight': [8, 10, 15],\n",
    "              'n_estimators': [4500, 5000],\n",
    "              'reg_alpha': [0.6, 0.75, 0.8],\n",
    "              'reg_lambda': [0.1, 0.25, 0.3],\n",
    "              'scale_pos_weight': [0.8,1],\n",
    "              'subsample': [0.6,0.7,0.8],\n",
    "}\n",
    "model_base = xgb.XGBClassifier()\n",
    "model_random = RandomizedSearchCV(estimator=model_base,\n",
    "                                  param_distributions=hparam1,\n",
    "                                  n_iter=100,\n",
    "                                  n_jobs=-1,\n",
    "                                  cv=3,\n",
    "                                  verbose=1,\n",
    "                                  scoring='roc_auc',\n",
    "                                  random_state=random_seed\n",
    "                                 )\n",
    "model_random.fit(SSM3_train_x, SSM3_train_y)\n",
    "best_SSM3 = model_random.best_params_\n",
    "pprint(best_SSM3)"
   ]
  },
  {
   "cell_type": "code",
   "execution_count": 40,
   "id": "45e83c1a-90a4-42a4-ad94-5d9b1e38e952",
   "metadata": {},
   "outputs": [
    {
     "name": "stdout",
     "output_type": "stream",
     "text": [
      "Fitting 5 folds for each of 2 candidates, totalling 10 fits\n",
      "{'colsample_bytree': 0.7,\n",
      " 'learning_rate': 0.03,\n",
      " 'max_delta_step': 0.2,\n",
      " 'max_depth': 9,\n",
      " 'min_child_weight': 8,\n",
      " 'n_estimators': 4500,\n",
      " 'reg_alpha': 0.9,\n",
      " 'reg_lambda': 0.2,\n",
      " 'scale_pos_weight': 0.8,\n",
      " 'subsample': 0.6}\n"
     ]
    }
   ],
   "source": [
    "hparam_grid = {\n",
    "              'colsample_bytree': [0.7],\n",
    "              'learning_rate': [0.03],\n",
    "              'max_delta_step': [0.2],\n",
    "              'max_depth': [9,10],\n",
    "              'min_child_weight': [8],\n",
    "              'n_estimators': [4500],\n",
    "              'reg_alpha': [0.9],\n",
    "              'reg_lambda': [0.2],\n",
    "              'scale_pos_weight': [0.8],\n",
    "              'subsample': [0.6],\n",
    "}\n",
    "model_base = xgb.XGBClassifier()\n",
    "model_grid = GridSearchCV(estimator=model_base,\n",
    "                          param_grid=hparam_grid,\n",
    "                          n_jobs=-1,\n",
    "                          cv=5,\n",
    "                          verbose=1,\n",
    "                          scoring='roc_auc'\n",
    ")\n",
    "model_grid.fit(SSM3_train_x, SSM3_train_y)\n",
    "best_SSM3 = model_grid.best_params_\n",
    "pprint(best_SSM3)"
   ]
  },
  {
   "cell_type": "code",
   "execution_count": 41,
   "id": "32c5c8ba-750c-4eb2-94e3-c1d56a93dfb6",
   "metadata": {},
   "outputs": [
    {
     "name": "stdout",
     "output_type": "stream",
     "text": [
      "0.6571428571428571\n"
     ]
    },
    {
     "data": {
      "text/plain": [
       "['/media/tx-deepocean/Data/2022/chongfu1/Model/Train/Model/XGBoost_SSM3.model']"
      ]
     },
     "execution_count": 41,
     "metadata": {},
     "output_type": "execute_result"
    }
   ],
   "source": [
    "# Build RF regression model with optimal hyperparameters\n",
    "SSM3=model_grid.best_estimator_\n",
    "# Predict test set data\n",
    "score = SSM3.score(SSM3_test_x, SSM3_test_y)\n",
    "print(score)\n",
    "joblib.dump(SSM3, os.path.join(modeldir, SSM3_model))"
   ]
  },
  {
   "cell_type": "code",
   "execution_count": 42,
   "id": "96786072-aac1-48fe-a955-90f8b0669c31",
   "metadata": {
    "tags": []
   },
   "outputs": [
    {
     "data": {
      "text/plain": [
       "{'accuracy': 0.6571428571428571,\n",
       " 'recall': 0.8260869565217391,\n",
       " 'precision': 0.7037037037037037,\n",
       " 'f1': 0.76,\n",
       " 'auc': 0.5955615942028986,\n",
       " 'specificity': 0.3333333333333333}"
      ]
     },
     "execution_count": 42,
     "metadata": {},
     "output_type": "execute_result"
    }
   ],
   "source": [
    "model= joblib.load(os.path.join(modeldir, SSM3_model)) \n",
    "predict_label = model.predict(SSM3_test_x)#, probability=True) #预测的标签\n",
    "predict_score = model.predict_proba(SSM3_test_x)#得到标签0 (y_predict[:,0])和1 (y_predict[:,1])对应的概率\n",
    "label = SSM3_test_y  #真实标签\n",
    "eva_dic = classification_evaluation(label, predict_label, predict_score[:,1])\n",
    "eva_dic"
   ]
  },
  {
   "cell_type": "markdown",
   "id": "8b4055b8-456e-4499-9084-d9c83b28c8fc",
   "metadata": {},
   "source": [
    "### SSM4"
   ]
  },
  {
   "cell_type": "markdown",
   "id": "77adaf0f-8865-4b16-9ad4-d311fb76db79",
   "metadata": {},
   "source": [
    "#### 超参数遍历匹配择优\n",
    "+ 依据上述所得到的随机最优匹配结果，进行遍历全部组合的匹配择优。"
   ]
  },
  {
   "cell_type": "code",
   "execution_count": 43,
   "id": "8a83fada-8844-4c84-be77-5ed674112f4b",
   "metadata": {
    "tags": []
   },
   "outputs": [
    {
     "name": "stdout",
     "output_type": "stream",
     "text": [
      "Fitting 2 folds for each of 100 candidates, totalling 200 fits\n",
      "{'colsample_bytree': 0.8,\n",
      " 'learning_rate': 0.02,\n",
      " 'max_delta_step': 1,\n",
      " 'max_depth': 25,\n",
      " 'min_child_weight': 0,\n",
      " 'n_estimators': 2000,\n",
      " 'reg_alpha': 0,\n",
      " 'reg_lambda': 0.2,\n",
      " 'scale_pos_weight': 1,\n",
      " 'subsample': 0.7}\n"
     ]
    }
   ],
   "source": [
    "# Search optimal hyperparameter\n",
    "random_seed = np.random.randint(low=1,high=230)\n",
    "\n",
    "hparam = {\n",
    "              'colsample_bytree': [0.5, 0.6, 0.7, 0.8, 0.9],\n",
    "              'learning_rate': [0.01, 0.02, 0.05, 0.1, 0.15],\n",
    "              'max_delta_step': [0, 0.2, 0.6, 1, 2],\n",
    "              'max_depth': [5, 10, 15, 20, 25],\n",
    "              'min_child_weight': [0, 2, 5, 10, 20],\n",
    "              'n_estimators': [500, 1000, 2000, 3000, 5000],\n",
    "              'reg_alpha': [0, 0.25, 0.5, 0.75, 1],\n",
    "              'reg_lambda': [0.2, 0.4, 0.6, 0.8, 1],\n",
    "              'scale_pos_weight': [0.2, 0.4, 0.6, 0.8, 1],\n",
    "              'subsample': [0.6, 0.7, 0.8, 0.85, 0.95]\n",
    "\n",
    "}\n",
    "\n",
    "model_base = xgb.XGBClassifier()\n",
    "model_random = RandomizedSearchCV(estimator=model_base,\n",
    "                                  param_distributions=hparam,\n",
    "                                  n_iter=100,\n",
    "                                  n_jobs=-1,\n",
    "                                  cv=2,\n",
    "                                  verbose=1,\n",
    "                                  scoring='roc_auc',\n",
    "                                  random_state=random_seed\n",
    "                                 )\n",
    "model_random.fit(SSM4_train_x, SSM4_train_y)\n",
    "\n",
    "best_SSM4 = model_random.best_params_\n",
    "pprint(best_SSM4)"
   ]
  },
  {
   "cell_type": "code",
   "execution_count": 44,
   "id": "83459373-71a3-4772-8d50-05fcb7e660d4",
   "metadata": {},
   "outputs": [
    {
     "name": "stdout",
     "output_type": "stream",
     "text": [
      "Fitting 2 folds for each of 100 candidates, totalling 200 fits\n",
      "{'colsample_bytree': 0.9,\n",
      " 'learning_rate': 0.01,\n",
      " 'max_delta_step': 1.5,\n",
      " 'max_depth': 25,\n",
      " 'min_child_weight': 0,\n",
      " 'n_estimators': 1500,\n",
      " 'reg_alpha': 0,\n",
      " 'reg_lambda': 0.1,\n",
      " 'scale_pos_weight': 8,\n",
      " 'subsample': 0.6}\n"
     ]
    }
   ],
   "source": [
    "hparam1 = {\n",
    "              'colsample_bytree': [0.7,0.8,0.9],\n",
    "              'learning_rate': [0.01, 0.02, 0.03],\n",
    "              'max_delta_step': [0.8, 1, 1.5],\n",
    "              'max_depth': [20, 25, 30],\n",
    "              'min_child_weight': [0,1,2],\n",
    "              'n_estimators': [1500, 2000],\n",
    "              'reg_alpha': [0, 0.1],\n",
    "              'reg_lambda': [0.1,0.2,0.3],\n",
    "              'scale_pos_weight': [0,8, 1],\n",
    "              'subsample': [0.6,0.7,0.8],\n",
    "}\n",
    "model_base = xgb.XGBClassifier()\n",
    "model_random1 = RandomizedSearchCV(estimator=model_base,\n",
    "                                  param_distributions=hparam1,\n",
    "                                  n_iter=100,\n",
    "                                  n_jobs=-1,\n",
    "                                  cv=2,\n",
    "                                  verbose=1,\n",
    "                                  scoring='roc_auc',\n",
    "                                  random_state=random_seed\n",
    "                                 )\n",
    "model_random1.fit(SSM4_train_x, SSM4_train_y)\n",
    "best_SSM4 = model_random1.best_params_\n",
    "pprint(best_SSM4)"
   ]
  },
  {
   "cell_type": "code",
   "execution_count": 48,
   "id": "af3e7d34-cf4a-4197-a1aa-e029c85a9f1e",
   "metadata": {},
   "outputs": [
    {
     "name": "stdout",
     "output_type": "stream",
     "text": [
      "Fitting 5 folds for each of 4 candidates, totalling 20 fits\n",
      "{'colsample_bytree': 0.9,\n",
      " 'learning_rate': 0.01,\n",
      " 'max_delta_step': 2,\n",
      " 'max_depth': 25,\n",
      " 'min_child_weight': 0,\n",
      " 'n_estimators': 1500,\n",
      " 'reg_alpha': 0,\n",
      " 'reg_lambda': 0.1,\n",
      " 'scale_pos_weight': 1,\n",
      " 'subsample': 0.6}\n"
     ]
    }
   ],
   "source": [
    "hparam_grid = {\n",
    "              'colsample_bytree': [0.9,0.95],\n",
    "              'learning_rate': [0.01],\n",
    "              'max_delta_step': [2,2.5],\n",
    "              'max_depth': [25],\n",
    "              'min_child_weight': [0],\n",
    "              'n_estimators': [1500],\n",
    "              'reg_alpha': [0],\n",
    "              'reg_lambda': [0.1],\n",
    "              'scale_pos_weight': [1],\n",
    "              'subsample': [0.6],\n",
    "}\n",
    "model_base = xgb.XGBClassifier()\n",
    "model_grid = GridSearchCV(estimator=model_base,\n",
    "                          param_grid=hparam_grid,\n",
    "                          n_jobs=-1,\n",
    "                          cv=5,\n",
    "                          verbose=1,\n",
    "                          scoring='roc_auc'\n",
    ")\n",
    "model_grid.fit(SSM4_train_x, SSM4_train_y)\n",
    "best_SSM4 = model_grid.best_params_\n",
    "pprint(best_SSM4)"
   ]
  },
  {
   "cell_type": "code",
   "execution_count": 49,
   "id": "3cce3042-2632-42a8-93ba-abbd47bbce28",
   "metadata": {},
   "outputs": [
    {
     "name": "stdout",
     "output_type": "stream",
     "text": [
      "0.6428571428571429\n"
     ]
    },
    {
     "data": {
      "text/plain": [
       "['/media/tx-deepocean/Data/2022/chongfu1/Model/Train/Model/XGBoost_SSM4.model']"
      ]
     },
     "execution_count": 49,
     "metadata": {},
     "output_type": "execute_result"
    }
   ],
   "source": [
    "# Build RF regression model with optimal hyperparameters\n",
    "SSM4=model_grid.best_estimator_\n",
    "# Predict test set data\n",
    "score = SSM4.score(SSM4_test_x, SSM4_test_y)\n",
    "print(score)\n",
    "joblib.dump(SSM4, os.path.join(modeldir, SSM4_model))"
   ]
  },
  {
   "cell_type": "code",
   "execution_count": 50,
   "id": "d3b1ac5f-3464-4c6d-a4d6-c7a5fd9e4a7b",
   "metadata": {
    "tags": []
   },
   "outputs": [
    {
     "data": {
      "text/plain": [
       "{'accuracy': 0.6428571428571429,\n",
       " 'recall': 0.7391304347826086,\n",
       " 'precision': 0.723404255319149,\n",
       " 'f1': 0.7311827956989247,\n",
       " 'auc': 0.6322463768115942,\n",
       " 'specificity': 0.4583333333333333}"
      ]
     },
     "execution_count": 50,
     "metadata": {},
     "output_type": "execute_result"
    }
   ],
   "source": [
    "model= joblib.load(os.path.join(modeldir, SSM4_model)) \n",
    "predict_label = model.predict(SSM4_test_x)#, probability=True) #预测的标签\n",
    "predict_score = model.predict_proba(SSM4_test_x)#得到标签0 (y_predict[:,0])和1 (y_predict[:,1])对应的概率\n",
    "label = SSM4_test_y  #真实标签\n",
    "eva_dic = classification_evaluation(label, predict_label, predict_score[:,1])\n",
    "eva_dic"
   ]
  },
  {
   "cell_type": "markdown",
   "id": "2171acc0-f85d-48ea-831f-b67d9deb7dab",
   "metadata": {},
   "source": [
    "### DSM"
   ]
  },
  {
   "cell_type": "code",
   "execution_count": 6,
   "id": "babc304c-e024-430a-b54e-0b011d19c411",
   "metadata": {},
   "outputs": [],
   "source": [
    "# Load the DSM features.\n",
    "Dtag_cols = ['pid', 'label']\n",
    "DSM_train_slist = [pd.read_excel(os.path.join(traindir, 'DSM_feas_mrmr_sel.xlsx'), sheet_name=f'no_sequence{num}') for num in sequence_id]\n",
    "DSM_test_slist = [pd.read_excel(os.path.join(testdir, 'DSM_test.xlsx'), sheet_name=f'no_sequence{num}') for num in sequence_id]\n",
    "# Train data\n",
    "standardscaler = StandardScaler()\n",
    "DSM_train_slist = [df.sample(frac=1.0, random_state=random_state) for df in DSM_train_slist]\n",
    "DSM_train_y = [df['label'] for df in DSM_train_slist]\n",
    "DSM_train_x = [df.drop(Dtag_cols, axis=1) for df in DSM_train_slist]\n",
    "DSM_train_x = [standardscaler.fit_transform(df) for df in DSM_train_x]\n",
    "# Test data\n",
    "DSM_test_slist = [df.sample(frac=1.0, random_state=random_state) for df in DSM_test_slist]\n",
    "DSM_test_y = [df['label'] for df in DSM_test_slist]\n",
    "DSM_test_x = [df.drop(Dtag_cols, axis=1) for df in DSM_test_slist]\n",
    "DSM_test_x = [standardscaler.fit_transform(df) for df in DSM_test_x]\n",
    "\n",
    "DSM2_train_y, DSM3_train_y, DSM4_train_y = (y_.to_list() for y_ in DSM_train_y)             \n",
    "DSM2_train_x, DSM3_train_x, DSM4_train_x = (x_ for x_ in DSM_train_x)\n",
    "DSM2_test_y, DSM3_test_y, DSM4_test_y = (y_.to_list() for y_ in DSM_test_y)\n",
    "DSM2_test_x, DSM3_test_x, DSM4_test_x = (x_ for x_ in DSM_test_x)\n",
    "DSM2_model, DSM3_model, DSM4_model = (f'XGBoost_DSM{i+2}.model' for i in range(3))"
   ]
  },
  {
   "cell_type": "code",
   "execution_count": 8,
   "id": "53a01d1b-c279-4914-a55d-2dec83b3d7a5",
   "metadata": {
    "tags": []
   },
   "outputs": [
    {
     "name": "stdout",
     "output_type": "stream",
     "text": [
      "Fitting 2 folds for each of 50 candidates, totalling 100 fits\n",
      "{'colsample_bytree': 0.6,\n",
      " 'learning_rate': 0.01,\n",
      " 'max_delta_step': 0.2,\n",
      " 'max_depth': 5,\n",
      " 'min_child_weight': 2,\n",
      " 'n_estimators': 2000,\n",
      " 'reg_alpha': 1,\n",
      " 'reg_lambda': 0.2,\n",
      " 'scale_pos_weight': 1,\n",
      " 'subsample': 0.6}\n"
     ]
    }
   ],
   "source": [
    "# Search optimal hyperparameter\n",
    "random_seed = np.random.randint(low=1,high=230)\n",
    "\n",
    "hparam = {\n",
    "              'colsample_bytree': [0.5, 0.6, 0.7, 0.8, 0.9],\n",
    "              'learning_rate': [0.01, 0.02, 0.05, 0.1, 0.15],\n",
    "              'max_delta_step': [0, 0.2, 0.6, 1, 2],\n",
    "              'max_depth': [5, 10, 15, 20, 25],\n",
    "              'min_child_weight': [0, 2, 5, 10, 20],\n",
    "              'n_estimators': [500, 1000, 2000, 3000, 5000],\n",
    "              'reg_alpha': [0, 0.25, 0.5, 0.75, 1],\n",
    "              'reg_lambda': [0.2, 0.4, 0.6, 0.8, 1],\n",
    "              'scale_pos_weight': [0.2, 0.4, 0.6, 0.8, 1],\n",
    "              'subsample': [0.6, 0.7, 0.8, 0.85, 0.95]\n",
    "\n",
    "}\n",
    "\n",
    "model_base = xgb.XGBClassifier()\n",
    "model_random = RandomizedSearchCV(estimator=model_base,\n",
    "                                  param_distributions=hparam,\n",
    "                                  n_iter=50,\n",
    "                                  n_jobs=-1,\n",
    "                                  cv=2,\n",
    "                                  verbose=1,\n",
    "                                  scoring='roc_auc',\n",
    "                                  random_state=random_seed\n",
    "                                 )\n",
    "model_random.fit(DSM3_train_x, DSM3_train_y)\n",
    "\n",
    "best_DSM3 = model_random.best_params_\n",
    "pprint(best_DSM3)"
   ]
  },
  {
   "cell_type": "code",
   "execution_count": 9,
   "id": "2efbe8f9-41aa-439a-ad41-4ac1c9723b5b",
   "metadata": {},
   "outputs": [
    {
     "name": "stdout",
     "output_type": "stream",
     "text": [
      "Fitting 3 folds for each of 70 candidates, totalling 210 fits\n",
      "{'colsample_bytree': 0.5,\n",
      " 'learning_rate': 0.01,\n",
      " 'max_delta_step': 0.3,\n",
      " 'max_depth': 8,\n",
      " 'min_child_weight': 3,\n",
      " 'n_estimators': 1500,\n",
      " 'reg_alpha': 0.9,\n",
      " 'reg_lambda': 0.3,\n",
      " 'scale_pos_weight': 1.0,\n",
      " 'subsample': 0.6}\n"
     ]
    }
   ],
   "source": [
    "hparam1 = {\n",
    "              'colsample_bytree': [0.5, 0.6, 0.7],\n",
    "              'learning_rate': [0.01, 0.02],\n",
    "              'max_delta_step': [0.1, 0.2, 0.3],\n",
    "              'max_depth': [5, 8],\n",
    "              'min_child_weight': [1, 2, 3],\n",
    "              'n_estimators': [1500, 2000],\n",
    "              'reg_alpha': [0.8,0.9,1],\n",
    "              'reg_lambda': [0.1, 0.2, 0.3],\n",
    "              'scale_pos_weight': [0.8,0.9,1.0],\n",
    "              'subsample': [0.5, 0.6,0.7],\n",
    "}\n",
    "model_base = xgb.XGBClassifier()\n",
    "model_random1 = RandomizedSearchCV(estimator=model_base,\n",
    "                                  param_distributions=hparam1,\n",
    "                                  n_iter=70,\n",
    "                                  n_jobs=-1,\n",
    "                                  cv=3,\n",
    "                                  verbose=1,\n",
    "                                  scoring='accuracy',\n",
    "                                  random_state=random_seed\n",
    "                                 )\n",
    "model_random1.fit(DSM3_train_x, DSM3_train_y)\n",
    "best_DSM3 = model_random1.best_params_\n",
    "pprint(best_DSM3)"
   ]
  },
  {
   "cell_type": "code",
   "execution_count": 25,
   "id": "fa81d4df-e307-46b0-a0f7-e086e31e875d",
   "metadata": {},
   "outputs": [
    {
     "name": "stdout",
     "output_type": "stream",
     "text": [
      "Fitting 6 folds for each of 2 candidates, totalling 12 fits\n",
      "{'colsample_bytree': 0.5,\n",
      " 'learning_rate': 0.01,\n",
      " 'max_delta_step': 0.4,\n",
      " 'max_depth': 8,\n",
      " 'min_child_weight': 1,\n",
      " 'n_estimators': 500,\n",
      " 'reg_alpha': 0.9,\n",
      " 'reg_lambda': 0.3,\n",
      " 'scale_pos_weight': 1.0,\n",
      " 'subsample': 0.6}\n"
     ]
    }
   ],
   "source": [
    "hparam_grid = {\n",
    "              'colsample_bytree': [0.5],\n",
    "              'learning_rate': [0.01],\n",
    "              'max_delta_step': [0.4],\n",
    "              'max_depth': [8],\n",
    "              'min_child_weight': [0,1],\n",
    "              'n_estimators': [500],\n",
    "              'reg_alpha': [0.9],\n",
    "              'reg_lambda': [0.3],\n",
    "              'scale_pos_weight': [1.0],\n",
    "              'subsample': [0.6],\n",
    "}\n",
    "model_base = xgb.XGBClassifier()\n",
    "model_grid = GridSearchCV(estimator=model_base,\n",
    "                          param_grid=hparam_grid,\n",
    "                          n_jobs=-1,\n",
    "                          cv=6,\n",
    "                          verbose=1,\n",
    "                          scoring='roc_auc'\n",
    ")\n",
    "model_grid.fit(DSM3_train_x, DSM3_train_y)\n",
    "best_DSM3 = model_grid.best_params_\n",
    "pprint(best_DSM3)"
   ]
  },
  {
   "cell_type": "code",
   "execution_count": 26,
   "id": "09f19ab1-98fc-492f-b19a-78f65a019232",
   "metadata": {},
   "outputs": [
    {
     "name": "stdout",
     "output_type": "stream",
     "text": [
      "0.7571428571428571\n"
     ]
    },
    {
     "data": {
      "text/plain": [
       "['/media/tx-deepocean/Data/2022/chongfu1/Model/Train/Model/XGBoost_DSM3.model']"
      ]
     },
     "execution_count": 26,
     "metadata": {},
     "output_type": "execute_result"
    }
   ],
   "source": [
    "# Build RF regression model with optimal hyperparameters\n",
    "DSM3=model_grid.best_estimator_\n",
    "# Predict test set data\n",
    "score = DSM3.score(DSM3_test_x, DSM3_test_y)\n",
    "print(score)\n",
    "joblib.dump(DSM3, os.path.join(modeldir, DSM3_model))"
   ]
  },
  {
   "cell_type": "code",
   "execution_count": 27,
   "id": "dd6e107d-664d-48dd-a690-3c419ff16695",
   "metadata": {
    "tags": []
   },
   "outputs": [
    {
     "data": {
      "text/plain": [
       "{'accuracy': 0.7571428571428571,\n",
       " 'recall': 0.9565217391304348,\n",
       " 'precision': 0.7457627118644068,\n",
       " 'f1': 0.8380952380952381,\n",
       " 'auc': 0.7110507246376813,\n",
       " 'specificity': 0.375}"
      ]
     },
     "execution_count": 27,
     "metadata": {},
     "output_type": "execute_result"
    }
   ],
   "source": [
    "model= joblib.load(os.path.join(modeldir, DSM3_model)) \n",
    "predict_label = model.predict(DSM3_test_x)#, probability=True) #预测的标签\n",
    "predict_score = model.predict_proba(DSM3_test_x)#得到标签0 (y_predict[:,0])和1 (y_predict[:,1])对应的概率\n",
    "label = DSM3_test_y  #真实标签\n",
    "eva_dic = classification_evaluation(label, predict_label, predict_score[:,1])\n",
    "eva_dic"
   ]
  },
  {
   "cell_type": "markdown",
   "id": "8b165eb3-5f9b-47a5-a376-f90106d930e6",
   "metadata": {},
   "source": [
    "### ASM"
   ]
  },
  {
   "cell_type": "code",
   "execution_count": 28,
   "id": "3742b0ec-bd24-4bc9-acc2-7a574e798171",
   "metadata": {},
   "outputs": [],
   "source": [
    "# Load the ASM features.\n",
    "Atag_cols = ['pid', 'label']\n",
    "ASM_train = pd.read_csv(os.path.join(traindir, 'ASM_mrmr_feas.csv')) \n",
    "ASM_test = pd.read_csv(os.path.join(testdir, 'ASM_test.csv')) \n",
    "# Train data\n",
    "standardscaler = StandardScaler()\n",
    "ASM_train = ASM_train.sample(frac=1.0, random_state=random_state) \n",
    "ASM_train_y = ASM_train['label'] \n",
    "ASM_train_x = ASM_train.drop(Atag_cols, axis=1) \n",
    "ASM_train_x = standardscaler.fit_transform(ASM_train_x) \n",
    "# Test data\n",
    "ASM_test = ASM_test.sample(frac=1.0, random_state=random_state)\n",
    "ASM_test_y = ASM_test['label']\n",
    "ASM_test_x =ASM_test.drop(Dtag_cols, axis=1)\n",
    "ASM_test_x = standardscaler.fit_transform(ASM_test_x)\n",
    "\n",
    "ASM_model = f'XGBoost_ASM.model'"
   ]
  },
  {
   "cell_type": "code",
   "execution_count": 29,
   "id": "6a855a14-6c9b-47a5-ac84-358cde911a56",
   "metadata": {
    "tags": []
   },
   "outputs": [
    {
     "name": "stdout",
     "output_type": "stream",
     "text": [
      "Fitting 3 folds for each of 50 candidates, totalling 150 fits\n",
      "{'colsample_bytree': 0.5,\n",
      " 'learning_rate': 0.02,\n",
      " 'max_delta_step': 2,\n",
      " 'max_depth': 15,\n",
      " 'min_child_weight': 2,\n",
      " 'n_estimators': 1000,\n",
      " 'reg_alpha': 1,\n",
      " 'reg_lambda': 1,\n",
      " 'scale_pos_weight': 0.2,\n",
      " 'subsample': 0.7}\n"
     ]
    }
   ],
   "source": [
    "# Search optimal hyperparameter\n",
    "random_seed = np.random.randint(low=1,high=230)\n",
    "\n",
    "hparam = {\n",
    "              'colsample_bytree': [0.5, 0.6, 0.7, 0.8, 0.9],\n",
    "              'learning_rate': [0.01, 0.02, 0.05, 0.1, 0.15],\n",
    "              'max_delta_step': [0, 0.2, 0.6, 1, 2],\n",
    "              'max_depth': [5, 10, 15, 20, 25],\n",
    "              'min_child_weight': [0, 2, 5, 10, 20],\n",
    "              'n_estimators': [500, 1000, 2000, 3000, 5000],\n",
    "              'reg_alpha': [0, 0.25, 0.5, 0.75, 1],\n",
    "              'reg_lambda': [0.2, 0.4, 0.6, 0.8, 1],\n",
    "              'scale_pos_weight': [0.2, 0.4, 0.6, 0.8, 1],\n",
    "              'subsample': [0.6, 0.7, 0.8, 0.85, 0.95]\n",
    "\n",
    "}\n",
    "\n",
    "model_base = xgb.XGBClassifier()\n",
    "model_random = RandomizedSearchCV(estimator=model_base,\n",
    "                                  param_distributions=hparam,\n",
    "                                  n_iter=50,\n",
    "                                  n_jobs=-1,\n",
    "                                  cv=3,\n",
    "                                  verbose=1,\n",
    "                                  scoring='roc_auc',\n",
    "                                  random_state=random_seed\n",
    "                                 )\n",
    "model_random.fit(ASM_train_x, ASM_train_y)\n",
    "\n",
    "best_ASM = model_random.best_params_\n",
    "pprint(best_ASM)"
   ]
  },
  {
   "cell_type": "code",
   "execution_count": 30,
   "id": "1e4ed65f-f3b1-49e1-bafa-80e8c2a3d72a",
   "metadata": {},
   "outputs": [
    {
     "name": "stdout",
     "output_type": "stream",
     "text": [
      "Fitting 3 folds for each of 70 candidates, totalling 210 fits\n",
      "{'colsample_bytree': 0.5,\n",
      " 'learning_rate': 0.03,\n",
      " 'max_delta_step': 2,\n",
      " 'max_depth': 18,\n",
      " 'min_child_weight': 1,\n",
      " 'n_estimators': 1000,\n",
      " 'reg_alpha': 1,\n",
      " 'reg_lambda': 1,\n",
      " 'scale_pos_weight': 0.3,\n",
      " 'subsample': 0.7}\n"
     ]
    }
   ],
   "source": [
    "hparam1 = {\n",
    "              'colsample_bytree': [0.4, 0.5,0.6],\n",
    "              'learning_rate': [0.01,0.02,0.03],\n",
    "              'max_delta_step': [1.5,2,2.5],\n",
    "              'max_depth': [12, 15, 18],\n",
    "              'min_child_weight': [1,2,3],\n",
    "              'n_estimators': [500, 1000],\n",
    "              'reg_alpha': [0.9,1],\n",
    "              'reg_lambda': [0.9,1],\n",
    "              'scale_pos_weight': [0.1, 0.2, 0.3],\n",
    "              'subsample': [0.6, 0.7,0.8],\n",
    "}\n",
    "model_base = xgb.XGBClassifier()\n",
    "model_random1 = RandomizedSearchCV(estimator=model_base,\n",
    "                                  param_distributions=hparam1,\n",
    "                                  n_iter=70,\n",
    "                                  n_jobs=-1,\n",
    "                                  cv=3,\n",
    "                                  verbose=1,\n",
    "                                  scoring='accuracy',\n",
    "                                  random_state=random_seed\n",
    "                                 )\n",
    "model_random1.fit(ASM_train_x, ASM_train_y)\n",
    "best_ASM = model_random1.best_params_\n",
    "pprint(best_ASM)"
   ]
  },
  {
   "cell_type": "code",
   "execution_count": 43,
   "id": "16c7e1c4-e224-4dae-a99e-79a002f658ad",
   "metadata": {},
   "outputs": [
    {
     "name": "stdout",
     "output_type": "stream",
     "text": [
      "Fitting 4 folds for each of 4 candidates, totalling 16 fits\n",
      "{'colsample_bytree': 0.5,\n",
      " 'learning_rate': 0.05,\n",
      " 'max_delta_step': 2,\n",
      " 'max_depth': 18,\n",
      " 'min_child_weight': 0,\n",
      " 'n_estimators': 1200,\n",
      " 'reg_alpha': 1,\n",
      " 'reg_lambda': 1,\n",
      " 'scale_pos_weight': 0.5,\n",
      " 'subsample': 0.7}\n"
     ]
    }
   ],
   "source": [
    "hparam_grid = {\n",
    "              'colsample_bytree': [0.5],\n",
    "              'learning_rate': [0.03,0.05],\n",
    "              'max_delta_step': [2],\n",
    "              'max_depth': [18],\n",
    "              'min_child_weight': [0],\n",
    "              'n_estimators': [1200],\n",
    "              'reg_alpha': [1],\n",
    "              'reg_lambda': [1],\n",
    "              'scale_pos_weight': [0.5,0.6],\n",
    "              'subsample': [0.7],\n",
    "}\n",
    "model_base = xgb.XGBClassifier()\n",
    "model_grid = GridSearchCV(estimator=model_base,\n",
    "                          param_grid=hparam_grid,\n",
    "                          n_jobs=-1,\n",
    "                          cv=4,\n",
    "                          verbose=1,\n",
    "                          scoring='accuracy'\n",
    ")\n",
    "model_grid.fit(ASM_train_x, ASM_train_y)\n",
    "best_ASM = model_grid.best_params_\n",
    "pprint(best_ASM)"
   ]
  },
  {
   "cell_type": "code",
   "execution_count": 44,
   "id": "9bab94b4-f72a-4864-b310-917245d3b763",
   "metadata": {},
   "outputs": [
    {
     "name": "stdout",
     "output_type": "stream",
     "text": [
      "0.6428571428571429\n"
     ]
    },
    {
     "data": {
      "text/plain": [
       "['/media/tx-deepocean/Data/2022/chongfu1/Model/Train/Model/XGBoost_ASM.model']"
      ]
     },
     "execution_count": 44,
     "metadata": {},
     "output_type": "execute_result"
    }
   ],
   "source": [
    "# Build RF regression model with optimal hyperparameters\n",
    "ASM=model_grid.best_estimator_\n",
    "# Predict test set data\n",
    "score = ASM.score(ASM_test_x, ASM_test_y)\n",
    "print(score)\n",
    "joblib.dump(ASM, os.path.join(modeldir, ASM_model))"
   ]
  },
  {
   "cell_type": "code",
   "execution_count": 45,
   "id": "a12c1e88-4a95-4446-9024-c653b2e20f51",
   "metadata": {
    "tags": []
   },
   "outputs": [
    {
     "data": {
      "text/plain": [
       "{'accuracy': 0.6428571428571429,\n",
       " 'recall': 0.782608695652174,\n",
       " 'precision': 0.7058823529411765,\n",
       " 'f1': 0.7422680412371134,\n",
       " 'auc': 0.5615942028985508,\n",
       " 'specificity': 0.375}"
      ]
     },
     "execution_count": 45,
     "metadata": {},
     "output_type": "execute_result"
    }
   ],
   "source": [
    "model= joblib.load(os.path.join(modeldir, ASM_model)) \n",
    "predict_label = model.predict(ASM_test_x)#, probability=True) #预测的标签\n",
    "predict_score = model.predict_proba(ASM_test_x)#得到标签0 (y_predict[:,0])和1 (y_predict[:,1])对应的概率\n",
    "label = ASM_test_y  #真实标签\n",
    "eva_dic = classification_evaluation(label, predict_label, predict_score[:,1])\n",
    "eva_dic"
   ]
  },
  {
   "cell_type": "markdown",
   "id": "08225bcf-bd5e-4b5a-9816-514a48f581a6",
   "metadata": {},
   "source": [
    "### Clinical"
   ]
  },
  {
   "cell_type": "code",
   "execution_count": 14,
   "id": "40f9bcfb-41e8-424e-81be-881e9b01b426",
   "metadata": {},
   "outputs": [],
   "source": [
    "# Load the Clinical features.\n",
    "Atag_cols = ['pid', 'label']\n",
    "Clinical_train = pd.read_csv(os.path.join(traindir, 'clinical_lasso_sel.csv')) \n",
    "Clinical_test = pd.read_csv(os.path.join(testdir, 'clinical_test.csv')) \n",
    "# Train data\n",
    "standardscaler = StandardScaler()\n",
    "Clinical_train = Clinical_train.sample(frac=1.0, random_state=random_state) \n",
    "Clinical_train_y = Clinical_train['label'] \n",
    "Clinical_train_x = Clinical_train.drop(Atag_cols, axis=1) \n",
    "Clinical_train_x = standardscaler.fit_transform(Clinical_train_x) \n",
    "# Test data\n",
    "Clinical_test = Clinical_test.sample(frac=1.0, random_state=random_state)\n",
    "Clinical_test_y = Clinical_test['label']\n",
    "Clinical_test_x =Clinical_test.drop(Dtag_cols, axis=1)\n",
    "Clinical_test_x = standardscaler.fit_transform(Clinical_test_x)\n",
    "\n",
    "Clinical_model = f'XGBoost_Clinical.model'"
   ]
  },
  {
   "cell_type": "code",
   "execution_count": 15,
   "id": "4e636be9-e580-4780-8199-69394bb18534",
   "metadata": {
    "tags": []
   },
   "outputs": [
    {
     "name": "stdout",
     "output_type": "stream",
     "text": [
      "Fitting 3 folds for each of 50 candidates, totalling 150 fits\n",
      "{'colsample_bytree': 0.5,\n",
      " 'learning_rate': 0.15,\n",
      " 'max_delta_step': 2,\n",
      " 'max_depth': 5,\n",
      " 'min_child_weight': 0,\n",
      " 'n_estimators': 1000,\n",
      " 'reg_alpha': 0.75,\n",
      " 'reg_lambda': 0.6,\n",
      " 'scale_pos_weight': 0.8,\n",
      " 'subsample': 0.6}\n"
     ]
    }
   ],
   "source": [
    "# Search optimal hyperparameter\n",
    "random_seed = np.random.randint(low=1,high=230)\n",
    "\n",
    "hparam = {\n",
    "              'colsample_bytree': [0.5, 0.6, 0.7, 0.8, 0.9],\n",
    "              'learning_rate': [0.01, 0.02, 0.05, 0.1, 0.15],\n",
    "              'max_delta_step': [0, 0.2, 0.6, 1, 2],\n",
    "              'max_depth': [5, 10, 15, 20, 25],\n",
    "              'min_child_weight': [0, 2, 5, 10, 20],\n",
    "              'n_estimators': [500, 1000, 2000, 3000, 5000],\n",
    "              'reg_alpha': [0, 0.25, 0.5, 0.75, 1],\n",
    "              'reg_lambda': [0.2, 0.4, 0.6, 0.8, 1],\n",
    "              'scale_pos_weight': [0.2, 0.4, 0.6, 0.8, 1],\n",
    "              'subsample': [0.6, 0.7, 0.8, 0.85, 0.95]\n",
    "\n",
    "}\n",
    "\n",
    "model_base = xgb.XGBClassifier()\n",
    "model_random = RandomizedSearchCV(estimator=model_base,\n",
    "                                  param_distributions=hparam,\n",
    "                                  n_iter=50,\n",
    "                                  n_jobs=-1,\n",
    "                                  cv=3,\n",
    "                                  verbose=1,\n",
    "                                  scoring='balanced_accuracy',\n",
    "                                  random_state=random_seed\n",
    "                                 )\n",
    "model_random.fit(Clinical_train_x, Clinical_train_y)\n",
    "\n",
    "best_Clinical = model_random.best_params_\n",
    "pprint(best_Clinical)"
   ]
  },
  {
   "cell_type": "code",
   "execution_count": 16,
   "id": "52c6f716-f907-430d-909e-b35ef7f03241",
   "metadata": {},
   "outputs": [
    {
     "name": "stdout",
     "output_type": "stream",
     "text": [
      "Fitting 3 folds for each of 70 candidates, totalling 210 fits\n",
      "{'colsample_bytree': 0.5,\n",
      " 'learning_rate': 0.1,\n",
      " 'max_delta_step': 2,\n",
      " 'max_depth': 7,\n",
      " 'min_child_weight': 0,\n",
      " 'n_estimators': 800,\n",
      " 'reg_alpha': 0.75,\n",
      " 'reg_lambda': 0.5,\n",
      " 'scale_pos_weight': 0.8,\n",
      " 'subsample': 0.7}\n"
     ]
    }
   ],
   "source": [
    "hparam1 = {\n",
    "              'colsample_bytree': [0.4,0.5,0.6],\n",
    "              'learning_rate': [0.05,0.10,0.15,0.20],\n",
    "              'max_delta_step': [1,1.5,2],\n",
    "              'max_depth': [5,6,7],\n",
    "              'min_child_weight': [0, 1],\n",
    "              'n_estimators': [800, 1000, 1200],\n",
    "              'reg_alpha': [0.7, 0.75,0.8],\n",
    "              'reg_lambda': [0.5,0.6,0.7],\n",
    "              'scale_pos_weight': [0.7,0.8,0.9],\n",
    "              'subsample': [0.5,0.60,0.7],\n",
    "}\n",
    "model_base = xgb.XGBClassifier()\n",
    "model_random1 = RandomizedSearchCV(estimator=model_base,\n",
    "                                  param_distributions=hparam1,\n",
    "                                  n_iter=70,\n",
    "                                  n_jobs=-1,\n",
    "                                  cv=3,\n",
    "                                  verbose=1,\n",
    "                                  scoring='balanced_accuracy',\n",
    "                                  random_state=random_seed\n",
    "                                 )\n",
    "model_random1.fit(Clinical_train_x, Clinical_train_y)\n",
    "best_Clinical = model_random1.best_params_\n",
    "pprint(best_Clinical)"
   ]
  },
  {
   "cell_type": "code",
   "execution_count": 17,
   "id": "5ee04431-372f-4156-a041-3d6fbd5db47a",
   "metadata": {},
   "outputs": [
    {
     "name": "stdout",
     "output_type": "stream",
     "text": [
      "Fitting 5 folds for each of 48 candidates, totalling 240 fits\n",
      "{'colsample_bytree': 0.5,\n",
      " 'learning_rate': 0.1,\n",
      " 'max_delta_step': 2,\n",
      " 'max_depth': 9,\n",
      " 'min_child_weight': 0,\n",
      " 'n_estimators': 600,\n",
      " 'reg_alpha': 0.75,\n",
      " 'reg_lambda': 0.5,\n",
      " 'scale_pos_weight': 0.8,\n",
      " 'subsample': 0.8}\n"
     ]
    }
   ],
   "source": [
    "hparam_grid = {\n",
    "              'colsample_bytree': [0.5],\n",
    "              'learning_rate': [0.1],\n",
    "              'max_delta_step': [2,3],\n",
    "              'max_depth': [7,9,11],\n",
    "              'min_child_weight': [0],\n",
    "              'n_estimators': [600,800],\n",
    "              'reg_alpha': [0.75],\n",
    "              'reg_lambda': [0.4,0.5],\n",
    "              'scale_pos_weight': [0.8],\n",
    "              'subsample': [0.7,0.8],\n",
    "}\n",
    "model_base = xgb.XGBClassifier()\n",
    "model_grid = GridSearchCV(estimator=model_base,\n",
    "                          param_grid=hparam_grid,\n",
    "                          n_jobs=-1,\n",
    "                          cv=5,\n",
    "                          verbose=1,\n",
    "                          scoring='balanced_accuracy'\n",
    ")\n",
    "model_grid.fit(Clinical_train_x, Clinical_train_y)\n",
    "best_Clinical = model_grid.best_params_\n",
    "pprint(best_Clinical)"
   ]
  },
  {
   "cell_type": "code",
   "execution_count": 18,
   "id": "08bc414b-40d6-496c-b9f5-07e9c0a5c1d9",
   "metadata": {},
   "outputs": [
    {
     "name": "stdout",
     "output_type": "stream",
     "text": [
      "0.8142857142857143\n"
     ]
    },
    {
     "data": {
      "text/plain": [
       "['/media/tx-deepocean/Data/2022/chongfu1/Model/Train/Model/XGBoost_Clinical.model']"
      ]
     },
     "execution_count": 18,
     "metadata": {},
     "output_type": "execute_result"
    }
   ],
   "source": [
    "# Build RF regression model with optimal hyperparameters\n",
    "Clinical=model_grid.best_estimator_\n",
    "# Predict test set data\n",
    "score = Clinical.score(Clinical_test_x, Clinical_test_y)\n",
    "print(score)\n",
    "joblib.dump(Clinical, os.path.join(modeldir, Clinical_model))"
   ]
  },
  {
   "cell_type": "code",
   "execution_count": 19,
   "id": "5b2c78a3-6722-4030-86ce-abc43dae8766",
   "metadata": {
    "tags": []
   },
   "outputs": [
    {
     "data": {
      "text/plain": [
       "{'accuracy': 0.8142857142857143,\n",
       " 'recall': 0.8695652173913043,\n",
       " 'precision': 0.851063829787234,\n",
       " 'f1': 0.8602150537634409,\n",
       " 'auc': 0.8614130434782609,\n",
       " 'specificity': 0.7083333333333334}"
      ]
     },
     "execution_count": 19,
     "metadata": {},
     "output_type": "execute_result"
    }
   ],
   "source": [
    "model= joblib.load(os.path.join(modeldir, Clinical_model)) \n",
    "predict_label = model.predict(Clinical_test_x)#, probability=True) #预测的标签\n",
    "predict_score = model.predict_proba(Clinical_test_x)#得到标签0 (y_predict[:,0])和1 (y_predict[:,1])对应的概率\n",
    "label = Clinical_test_y  #真实标签\n",
    "eva_dic = classification_evaluation(label, predict_label, predict_score[:,1])\n",
    "eva_dic"
   ]
  },
  {
   "cell_type": "code",
   "execution_count": null,
   "id": "aceb72e1-bb27-4374-8d57-a114762c1798",
   "metadata": {},
   "outputs": [],
   "source": []
  }
 ],
 "metadata": {
  "kernelspec": {
   "display_name": "txpython3.7",
   "language": "python",
   "name": "python3.7"
  },
  "language_info": {
   "codemirror_mode": {
    "name": "ipython",
    "version": 3
   },
   "file_extension": ".py",
   "mimetype": "text/x-python",
   "name": "python",
   "nbconvert_exporter": "python",
   "pygments_lexer": "ipython3",
   "version": "3.7.12"
  }
 },
 "nbformat": 4,
 "nbformat_minor": 5
}
