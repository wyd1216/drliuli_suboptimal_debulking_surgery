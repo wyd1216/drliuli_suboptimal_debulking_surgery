{
 "cells": [
  {
   "cell_type": "markdown",
   "id": "2db50f8e-06ff-4fb0-a584-bbd8c103f704",
   "metadata": {},
   "source": [
    "## NaiveBayes\n",
    "\n",
    "+ 重要参数:\n",
    "sklearn GaussianNB（高斯朴素贝叶斯）模型使用RandomSearchCV获取最优参数及可视化\n",
    "\n",
    " \n",
    "\n",
    "GaussianNB是高斯贝叶斯分类器，它假设特征的条件分布概率满足高斯分布，其原型为：\n",
    "\n",
    "sklearn.naive_bayes.GaussianNB\n",
    "\n",
    "GaussianNB没有参数，所以不需要调参。\n",
    "\n",
    "但是：\n",
    "\n",
    "param_dict = dict(\n",
    "        priors=[[0.68,0.32],[0.7,0.3],[0.8,0.2]],\n",
    "        var_smoothing = [1e-9,1e-8,1e-7],\n",
    "    )\n",
    "\n",
    "依旧是可以进行设置的。\n"
   ]
  },
  {
   "cell_type": "code",
   "execution_count": 1,
   "id": "52eb1a79-3b2a-4e99-be92-fa10f9da48f2",
   "metadata": {},
   "outputs": [],
   "source": [
    "import random\n",
    "import joblib\n",
    "import os\n",
    "import warnings\n",
    "import pandas as pd\n",
    "import numpy as np\n",
    "import matplotlib.pyplot as plt\n",
    "from pprint import pprint\n",
    "from sklearn.model_selection import train_test_split\n",
    "from sklearn.preprocessing import StandardScaler\n",
    "from sklearn.model_selection import cross_val_score\n",
    "from sklearn import metrics\n",
    "from openpyxl import load_workbook\n",
    "from sklearn.tree import export_graphviz\n",
    "from sklearn.model_selection import GridSearchCV\n",
    "from sklearn.model_selection import RandomizedSearchCV\n",
    "from sklearn.naive_bayes import GaussianNB\n",
    "warnings.filterwarnings(\"ignore\")"
   ]
  },
  {
   "cell_type": "code",
   "execution_count": 2,
   "id": "7e600bed-9936-480f-aa5b-38a346d4f85f",
   "metadata": {},
   "outputs": [],
   "source": [
    "from sklearn.metrics import confusion_matrix    #导入计算混淆矩阵的包\n",
    "def specificity_score(y_true, y_pred):\n",
    "    C = confusion_matrix(y_true, y_pred)\n",
    "    TP = C[1,1]\n",
    "    FP = C[0,1]\n",
    "    TN = C[0,0]\n",
    "    FN = C[1,0]\n",
    "    specificity = TN/(TN+FP)\n",
    "    return specificity\n",
    "\n",
    "def classification_evaluation(y_true, y_pred, y_score):\n",
    "    precision = metrics.precision_score(y_true, y_pred)\n",
    "    recall = metrics.recall_score(y_true, y_pred)\n",
    "    accuracy = metrics.accuracy_score(y_true, y_pred)\n",
    "    auc = metrics.roc_auc_score(y_true, y_score)\n",
    "    f1 = metrics.f1_score(y_true, y_pred)\n",
    "    specificity = specificity_score(y_true, y_pred)\n",
    "    evaluation = {'accuracy':accuracy, 'recall':recall, 'precision':precision, 'f1':f1, 'auc':auc, 'specificity':specificity}\n",
    "    return evaluation"
   ]
  },
  {
   "cell_type": "markdown",
   "id": "8cd6223e-6ce3-4c72-bb23-08b70ce05b1e",
   "metadata": {},
   "source": [
    "### Global params setting and load data"
   ]
  },
  {
   "cell_type": "code",
   "execution_count": 3,
   "id": "8c3069fd-9247-4f53-b0ce-77580357a933",
   "metadata": {},
   "outputs": [],
   "source": [
    "cwd = os.getcwd()\n",
    "traindir = '../Feature_filter/Feas_data'\n",
    "testdir = '../Feature_filter/Feas_data_test'\n",
    "imgdir = os.path.join(cwd, 'IMG')\n",
    "modeldir = os.path.join(cwd, 'Model')\n",
    "tag_cols = ['pid', 'label', 'series', 'image', 'mask']\n",
    "sequence_id = [2, 3, 4]\n",
    "# Generate the random seed\n",
    "random_state = random.randint(1,10000)\n",
    "\n",
    "# Load the SSM features.\n",
    "SSM_train_slist = [pd.read_excel(os.path.join(traindir, 'feas_mrmr_sel.xlsx'), sheet_name=f'sequence{num}') for num in sequence_id]\n",
    "SSM_test_slist = [pd.read_excel(os.path.join(testdir, 'SSM_test.xlsx'), sheet_name=f'sequence{num}') for num in sequence_id]"
   ]
  },
  {
   "cell_type": "code",
   "execution_count": 4,
   "id": "30b95589-cdde-4d16-b3db-553d4fc35ed5",
   "metadata": {
    "tags": []
   },
   "outputs": [
    {
     "name": "stdout",
     "output_type": "stream",
     "text": [
      "['pid', 'label', 'series', 'image', 'mask', 'glszm_SmallAreaEmphasis_logarithm', 'glcm_InverseVariance_exponential', 'glszm_GrayLevelNonUniformity_wavelet-HHH', 'firstorder_Skewness_logarithm', 'glcm_Correlation_log-sigma-3-0-mm-3D']\n",
      "['pid', 'label', 'series', 'image', 'mask', 'gldm_DependenceVariance_wavelet-LLH', 'ngtdm_Contrast_wavelet-HHL', 'firstorder_Skewness_log-sigma-2-0-mm-3D', 'glcm_Imc2_wavelet-HHH', 'glrlm_RunEntropy_exponential']\n",
      "['pid', 'label', 'series', 'image', 'mask', 'glrlm_ShortRunLowGrayLevelEmphasis_square', 'glszm_ZoneEntropy_exponential']\n",
      "6 6 3\n"
     ]
    }
   ],
   "source": [
    "# Print features\n",
    "SSM_features_list = [df.columns for df in SSM_train_slist]\n",
    "print(SSM_features_list[0].to_list())\n",
    "print(SSM_features_list[1].to_list())\n",
    "print(SSM_features_list[2].to_list())\n",
    "print(len(SSM_features_list[0])-4, len(SSM_features_list[1])-4, len(SSM_features_list[2])-4)"
   ]
  },
  {
   "cell_type": "code",
   "execution_count": 5,
   "id": "44f89582-8482-43aa-952a-b28f34dc63ca",
   "metadata": {},
   "outputs": [],
   "source": [
    "# Train data\n",
    "standardscaler = StandardScaler()\n",
    "SSM_train_slist = [df.sample(frac=1.0, random_state=random_state) for df in SSM_train_slist]\n",
    "SSM_train_y = [df['label'] for df in SSM_train_slist]\n",
    "SSM_train_x = [df.drop(tag_cols, axis=1) for df in SSM_train_slist]\n",
    "SSM_train_x = [standardscaler.fit_transform(df) for df in SSM_train_x]\n",
    "# Test data\n",
    "SSM_test_slist = [df.sample(frac=1.0, random_state=random_state) for df in SSM_test_slist]\n",
    "SSM_test_y = [df['label'] for df in SSM_test_slist]\n",
    "SSM_test_x = [df.drop(tag_cols, axis=1) for df in SSM_test_slist]\n",
    "SSM_test_x = [standardscaler.fit_transform(df) for df in SSM_test_x]\n",
    "\n",
    "SSM2_train_y, SSM3_train_y, SSM4_train_y = (y_.to_list() for y_ in SSM_train_y)             \n",
    "SSM2_train_x, SSM3_train_x, SSM4_train_x = (x_ for x_ in SSM_train_x)\n",
    "SSM2_test_y, SSM3_test_y, SSM4_test_y = (y_.to_list() for y_ in SSM_test_y)\n",
    "SSM2_test_x, SSM3_test_x, SSM4_test_x = (x_ for x_ in SSM_test_x)\n",
    "SSM2_model, SSM3_model, SSM4_model = (f'NaiveBayes_SSM{i+2}.model' for i in range(3))"
   ]
  },
  {
   "cell_type": "markdown",
   "id": "0eedf637-cdd3-48a6-b19c-cac679fff0d1",
   "metadata": {},
   "source": [
    "### 系统调参"
   ]
  },
  {
   "cell_type": "markdown",
   "id": "beab93fb-6af0-4857-84ce-91772a6391a1",
   "metadata": {},
   "source": [
    "### SSM2"
   ]
  },
  {
   "cell_type": "markdown",
   "id": "c49942c7-2803-45e8-9a80-c69d5b03424d",
   "metadata": {},
   "source": [
    "#### 超参数遍历匹配择优\n",
    "+ 依据上述所得到的随机最优匹配结果，进行遍历全部组合的匹配择优。"
   ]
  },
  {
   "cell_type": "code",
   "execution_count": 48,
   "id": "ade62c72-b763-412e-ba05-0688ddfa28df",
   "metadata": {
    "tags": []
   },
   "outputs": [
    {
     "name": "stdout",
     "output_type": "stream",
     "text": [
      "Fitting 6 folds for each of 6 candidates, totalling 36 fits\n",
      "{'var_smoothing': 1e-12}\n"
     ]
    }
   ],
   "source": [
    "# Search optimal hyperparameter\n",
    "hparam = { \n",
    "#        'priors':[[0.68,0.32],[0.7,0.3],[0.8,0.2]],\n",
    "        'var_smoothing':[1e-12, 1e-11, 1e-10, 1e-9,1e-8,1e-7]\n",
    "}\n",
    "\n",
    "# Random search\n",
    "model_base = GaussianNB()\n",
    "model_grid = GridSearchCV(estimator=model_base,\n",
    "                          param_grid=hparam,\n",
    "                          n_jobs=-1,\n",
    "                          cv=6,\n",
    "                          verbose=1,\n",
    "                          scoring='roc_auc'\n",
    ")\n",
    "model_grid.fit(SSM2_train_x, SSM2_train_y)\n",
    "\n",
    "best_SSM2 = model_grid.best_params_\n",
    "pprint(best_SSM2)"
   ]
  },
  {
   "cell_type": "code",
   "execution_count": 49,
   "id": "c1b276be-30f1-4669-99fb-8e13c5f92073",
   "metadata": {},
   "outputs": [
    {
     "name": "stdout",
     "output_type": "stream",
     "text": [
      "0.7142857142857143\n"
     ]
    },
    {
     "data": {
      "text/plain": [
       "['/media/tx-deepocean/Data/2022/chongfu1/Model/Train/Model/NaiveBayes_SSM2.model']"
      ]
     },
     "execution_count": 49,
     "metadata": {},
     "output_type": "execute_result"
    }
   ],
   "source": [
    "# Build RF regression model with optimal hyperparameters\n",
    "SSM2=model_grid.best_estimator_\n",
    "# Predict test set data\n",
    "score = SSM2.score(SSM2_test_x, SSM2_test_y)\n",
    "print(score)\n",
    "joblib.dump(SSM2, os.path.join(modeldir, SSM2_model))"
   ]
  },
  {
   "cell_type": "code",
   "execution_count": 50,
   "id": "441f2f38-29ee-42a7-bec8-3ac059975e4d",
   "metadata": {
    "tags": []
   },
   "outputs": [
    {
     "data": {
      "text/plain": [
       "{'accuracy': 0.7142857142857143,\n",
       " 'recall': 0.8695652173913043,\n",
       " 'precision': 0.7407407407407407,\n",
       " 'f1': 0.7999999999999999,\n",
       " 'auc': 0.6521739130434783,\n",
       " 'specificity': 0.4166666666666667}"
      ]
     },
     "execution_count": 50,
     "metadata": {},
     "output_type": "execute_result"
    }
   ],
   "source": [
    "model= joblib.load(os.path.join(modeldir, SSM2_model)) \n",
    "predict_label = model.predict(SSM2_test_x)#, probability=True) #预测的标签\n",
    "predict_score = model.predict_proba(SSM2_test_x)#得到标签0 (y_predict[:,0])和1 (y_predict[:,1])对应的概率\n",
    "label = SSM2_test_y  #真实标签\n",
    "eva_dic = classification_evaluation(label, predict_label, predict_score[:,1])\n",
    "eva_dic"
   ]
  },
  {
   "cell_type": "markdown",
   "id": "97235b70-eeea-44fc-ab32-6f6436112f83",
   "metadata": {},
   "source": [
    "### SSM3"
   ]
  },
  {
   "cell_type": "markdown",
   "id": "b3e45433-3dbc-4640-94a4-4d960b1bed80",
   "metadata": {},
   "source": [
    "#### 超参数遍历匹配择优\n",
    "+ 依据上述所得到的随机最优匹配结果，进行遍历全部组合的匹配择优。"
   ]
  },
  {
   "cell_type": "code",
   "execution_count": 57,
   "id": "6590f4f6-f79a-4dcb-a46f-1d49af4c57f6",
   "metadata": {
    "tags": []
   },
   "outputs": [
    {
     "name": "stdout",
     "output_type": "stream",
     "text": [
      "Fitting 3 folds for each of 4 candidates, totalling 12 fits\n",
      "{'var_smoothing': 1e-12}\n"
     ]
    }
   ],
   "source": [
    "# Search optimal hyperparameter\n",
    "hparam = { \n",
    "#        'priors':[[0.68,0.32],[0.7,0.3],[0.8,0.2]],\n",
    "        'var_smoothing':[1e-12,1e-9,1e-8,1e-7]\n",
    "}\n",
    "\n",
    "# Random search\n",
    "model_base = GaussianNB()\n",
    "model_grid = GridSearchCV(estimator=model_base,\n",
    "                          param_grid=hparam,\n",
    "                          n_jobs=-1,\n",
    "                          cv=3,\n",
    "                          verbose=1,\n",
    "                          scoring='roc_auc'\n",
    ")\n",
    "model_grid.fit(SSM3_train_x, SSM3_train_y)\n",
    "\n",
    "best_SSM3 = model_grid.best_params_\n",
    "pprint(best_SSM3)"
   ]
  },
  {
   "cell_type": "code",
   "execution_count": 58,
   "id": "7dbd6b03-9d21-465d-9ec5-08d92d9d2779",
   "metadata": {},
   "outputs": [
    {
     "name": "stdout",
     "output_type": "stream",
     "text": [
      "0.7285714285714285\n"
     ]
    },
    {
     "data": {
      "text/plain": [
       "['/media/tx-deepocean/Data/2022/chongfu1/Model/Train/Model/NaiveBayes_SSM3.model']"
      ]
     },
     "execution_count": 58,
     "metadata": {},
     "output_type": "execute_result"
    }
   ],
   "source": [
    "# Build RF regression model with optimal hyperparameters\n",
    "SSM3=model_grid.best_estimator_\n",
    "# Predict test set data\n",
    "score = SSM3.score(SSM3_test_x, SSM3_test_y)\n",
    "print(score)\n",
    "joblib.dump(SSM3, os.path.join(modeldir, SSM3_model))"
   ]
  },
  {
   "cell_type": "code",
   "execution_count": 59,
   "id": "32d8c014-24b2-4b32-904e-a488f1c1f871",
   "metadata": {
    "tags": []
   },
   "outputs": [
    {
     "data": {
      "text/plain": [
       "{'accuracy': 0.7285714285714285,\n",
       " 'recall': 0.8913043478260869,\n",
       " 'precision': 0.7454545454545455,\n",
       " 'f1': 0.8118811881188119,\n",
       " 'auc': 0.6802536231884058,\n",
       " 'specificity': 0.4166666666666667}"
      ]
     },
     "execution_count": 59,
     "metadata": {},
     "output_type": "execute_result"
    }
   ],
   "source": [
    "model= joblib.load(os.path.join(modeldir, SSM3_model)) \n",
    "predict_label = model.predict(SSM3_test_x)#, probability=True) #预测的标签\n",
    "predict_score = model.predict_proba(SSM3_test_x)#得到标签0 (y_predict[:,0])和1 (y_predict[:,1])对应的概率\n",
    "label = SSM3_test_y  #真实标签\n",
    "eva_dic = classification_evaluation(label, predict_label, predict_score[:,1])\n",
    "eva_dic"
   ]
  },
  {
   "cell_type": "markdown",
   "id": "8b4055b8-456e-4499-9084-d9c83b28c8fc",
   "metadata": {},
   "source": [
    "### SSM4"
   ]
  },
  {
   "cell_type": "markdown",
   "id": "77adaf0f-8865-4b16-9ad4-d311fb76db79",
   "metadata": {},
   "source": [
    "#### 超参数遍历匹配择优\n",
    "+ 依据上述所得到的随机最优匹配结果，进行遍历全部组合的匹配择优。"
   ]
  },
  {
   "cell_type": "code",
   "execution_count": 84,
   "id": "d36559cf-6115-4a56-b52b-98b83c040eca",
   "metadata": {
    "tags": []
   },
   "outputs": [
    {
     "name": "stdout",
     "output_type": "stream",
     "text": [
      "Fitting 7 folds for each of 4 candidates, totalling 28 fits\n",
      "{'var_smoothing': 1e-10}\n"
     ]
    }
   ],
   "source": [
    "# Search optimal hyperparameter\n",
    "hparam = { \n",
    "#        'priors':[[0.68,0.32],[0.7,0.3],[0.8,0.2]],\n",
    "        'var_smoothing':[1e-10,1e-9,1e-8,1e-7]\n",
    "}\n",
    "\n",
    "# Random search\n",
    "model_base = GaussianNB()\n",
    "model_grid = GridSearchCV(estimator=model_base,\n",
    "                          param_grid=hparam,\n",
    "                          n_jobs=-1,\n",
    "                          cv=7,\n",
    "                          verbose=1,\n",
    "                          scoring='roc_auc'\n",
    ")\n",
    "model_grid.fit(SSM4_train_x, SSM4_train_y)\n",
    "\n",
    "best_SSM4 = model_grid.best_params_\n",
    "pprint(best_SSM4)"
   ]
  },
  {
   "cell_type": "code",
   "execution_count": 85,
   "id": "b4537bab-4b8e-4b65-8698-fd07622704a8",
   "metadata": {},
   "outputs": [
    {
     "name": "stdout",
     "output_type": "stream",
     "text": [
      "0.6714285714285714\n"
     ]
    },
    {
     "data": {
      "text/plain": [
       "['/media/tx-deepocean/Data/2022/chongfu1/Model/Train/Model/NaiveBayes_SSM4.model']"
      ]
     },
     "execution_count": 85,
     "metadata": {},
     "output_type": "execute_result"
    }
   ],
   "source": [
    "# Build RF regression model with optimal hyperparameters\n",
    "SSM4=model_grid.best_estimator_\n",
    "# Predict test set data\n",
    "score = SSM4.score(SSM4_test_x, SSM4_test_y)\n",
    "print(score)\n",
    "joblib.dump(SSM4, os.path.join(modeldir, SSM4_model))"
   ]
  },
  {
   "cell_type": "code",
   "execution_count": 86,
   "id": "65b28d02-c264-4f45-9431-447fe828c690",
   "metadata": {
    "tags": []
   },
   "outputs": [
    {
     "data": {
      "text/plain": [
       "{'accuracy': 0.6714285714285714,\n",
       " 'recall': 0.8913043478260869,\n",
       " 'precision': 0.6949152542372882,\n",
       " 'f1': 0.780952380952381,\n",
       " 'auc': 0.7047101449275364,\n",
       " 'specificity': 0.25}"
      ]
     },
     "execution_count": 86,
     "metadata": {},
     "output_type": "execute_result"
    }
   ],
   "source": [
    "model= joblib.load(os.path.join(modeldir, SSM4_model)) \n",
    "predict_label = model.predict(SSM4_test_x)#, probability=True) #预测的标签\n",
    "predict_score = model.predict_proba(SSM4_test_x)#得到标签0 (y_predict[:,0])和1 (y_predict[:,1])对应的概率\n",
    "label = SSM4_test_y  #真实标签\n",
    "eva_dic = classification_evaluation(label, predict_label, predict_score[:,1])\n",
    "eva_dic"
   ]
  },
  {
   "cell_type": "markdown",
   "id": "e43e9c11-56d7-42ca-9f09-dd17ca478b75",
   "metadata": {},
   "source": [
    "### DSM"
   ]
  },
  {
   "cell_type": "code",
   "execution_count": 6,
   "id": "ebf5b1b2-73ac-474f-a864-faf28770c69b",
   "metadata": {},
   "outputs": [],
   "source": [
    "# Load the DSM features.\n",
    "Dtag_cols = ['pid', 'label']\n",
    "DSM_train_slist = [pd.read_excel(os.path.join(traindir, 'DSM_feas_mrmr_sel.xlsx'), sheet_name=f'no_sequence{num}') for num in sequence_id]\n",
    "DSM_test_slist = [pd.read_excel(os.path.join(testdir, 'DSM_test.xlsx'), sheet_name=f'no_sequence{num}') for num in sequence_id]\n",
    "# Train data\n",
    "standardscaler = StandardScaler()\n",
    "DSM_train_slist = [df.sample(frac=1.0, random_state=random_state) for df in DSM_train_slist]\n",
    "DSM_train_y = [df['label'] for df in DSM_train_slist]\n",
    "DSM_train_x = [df.drop(Dtag_cols, axis=1) for df in DSM_train_slist]\n",
    "DSM_train_x = [standardscaler.fit_transform(df) for df in DSM_train_x]\n",
    "# Test data\n",
    "DSM_test_slist = [df.sample(frac=1.0, random_state=random_state) for df in DSM_test_slist]\n",
    "DSM_test_y = [df['label'] for df in DSM_test_slist]\n",
    "DSM_test_x = [df.drop(Dtag_cols, axis=1) for df in DSM_test_slist]\n",
    "DSM_test_x = [standardscaler.fit_transform(df) for df in DSM_test_x]\n",
    "\n",
    "DSM2_train_y, DSM3_train_y, DSM4_train_y = (y_.to_list() for y_ in DSM_train_y)             \n",
    "DSM2_train_x, DSM3_train_x, DSM4_train_x = (x_ for x_ in DSM_train_x)\n",
    "DSM2_test_y, DSM3_test_y, DSM4_test_y = (y_.to_list() for y_ in DSM_test_y)\n",
    "DSM2_test_x, DSM3_test_x, DSM4_test_x = (x_ for x_ in DSM_test_x)\n",
    "DSM2_model, DSM3_model, DSM4_model = (f'NaiveBayes_DSM{i+2}.model' for i in range(3))"
   ]
  },
  {
   "cell_type": "code",
   "execution_count": 98,
   "id": "689f049f-8eeb-499e-b9b5-f084d6d73eb7",
   "metadata": {
    "tags": []
   },
   "outputs": [
    {
     "name": "stdout",
     "output_type": "stream",
     "text": [
      "Fitting 3 folds for each of 4 candidates, totalling 12 fits\n",
      "{'var_smoothing': 1e-12}\n"
     ]
    }
   ],
   "source": [
    "# Search optimal hyperparameter\n",
    "hparam = { \n",
    "#        'priors':[[0.68,0.32],[0.7,0.3],[0.8,0.2]],\n",
    "        'var_smoothing':[1e-12,1e-9,1e-8,1e-7]\n",
    "}\n",
    "\n",
    "# Random search\n",
    "model_base = GaussianNB()\n",
    "model_grid = GridSearchCV(estimator=model_base,\n",
    "                          param_grid=hparam,\n",
    "                          n_jobs=-1,\n",
    "                          cv=3,\n",
    "                          verbose=1,\n",
    "                          scoring='accuracy'\n",
    ")\n",
    "model_grid.fit(DSM3_train_x, DSM3_train_y)\n",
    "\n",
    "best_DSM3 = model_grid.best_params_\n",
    "pprint(best_DSM3)"
   ]
  },
  {
   "cell_type": "code",
   "execution_count": 99,
   "id": "f2d7b13d-338d-4e11-8373-fbc83455fb40",
   "metadata": {},
   "outputs": [
    {
     "name": "stdout",
     "output_type": "stream",
     "text": [
      "0.7428571428571429\n"
     ]
    },
    {
     "data": {
      "text/plain": [
       "['/media/tx-deepocean/Data/2022/chongfu1/Model/Train/Model/NaiveBayes_DSM3.model']"
      ]
     },
     "execution_count": 99,
     "metadata": {},
     "output_type": "execute_result"
    }
   ],
   "source": [
    "# Build RF regression model with optimal hyperparameters\n",
    "DSM3=model_grid.best_estimator_\n",
    "# Predict test set data\n",
    "score = DSM3.score(DSM3_test_x, DSM3_test_y)\n",
    "print(score)\n",
    "joblib.dump(DSM3, os.path.join(modeldir, DSM3_model))"
   ]
  },
  {
   "cell_type": "code",
   "execution_count": 100,
   "id": "b11fe345-0fd0-494d-b63f-25029a4af07c",
   "metadata": {
    "tags": []
   },
   "outputs": [
    {
     "data": {
      "text/plain": [
       "{'accuracy': 0.7428571428571429,\n",
       " 'recall': 0.8478260869565217,\n",
       " 'precision': 0.78,\n",
       " 'f1': 0.8125,\n",
       " 'auc': 0.7028985507246376,\n",
       " 'specificity': 0.5416666666666666}"
      ]
     },
     "execution_count": 100,
     "metadata": {},
     "output_type": "execute_result"
    }
   ],
   "source": [
    "model= joblib.load(os.path.join(modeldir, DSM3_model)) \n",
    "predict_label = model.predict(DSM3_test_x)#, probability=True) #预测的标签\n",
    "predict_score = model.predict_proba(DSM3_test_x)#得到标签0 (y_predict[:,0])和1 (y_predict[:,1])对应的概率\n",
    "label = DSM3_test_y  #真实标签\n",
    "eva_dic = classification_evaluation(label, predict_label, predict_score[:,1])\n",
    "eva_dic"
   ]
  },
  {
   "cell_type": "markdown",
   "id": "f5f307d6-973e-46c0-b67d-f297ef31ca27",
   "metadata": {},
   "source": [
    "### ASM"
   ]
  },
  {
   "cell_type": "code",
   "execution_count": 101,
   "id": "19c0c2f2-e57a-4e28-84e3-d8eece3929d7",
   "metadata": {},
   "outputs": [],
   "source": [
    "# Load the ASM features.\n",
    "Atag_cols = ['pid', 'label']\n",
    "ASM_train = pd.read_csv(os.path.join(traindir, 'ASM_mrmr_feas.csv')) \n",
    "ASM_test = pd.read_csv(os.path.join(testdir, 'ASM_test.csv')) \n",
    "# Train data\n",
    "standardscaler = StandardScaler()\n",
    "ASM_train = ASM_train.sample(frac=1.0, random_state=random_state) \n",
    "ASM_train_y = ASM_train['label'] \n",
    "ASM_train_x = ASM_train.drop(Atag_cols, axis=1) \n",
    "ASM_train_x = standardscaler.fit_transform(ASM_train_x) \n",
    "# Test data\n",
    "ASM_test = ASM_test.sample(frac=1.0, random_state=random_state)\n",
    "ASM_test_y = ASM_test['label']\n",
    "ASM_test_x =ASM_test.drop(Dtag_cols, axis=1)\n",
    "ASM_test_x = standardscaler.fit_transform(ASM_test_x)\n",
    "\n",
    "ASM_model = f'NaiveBayes_ASM.model'"
   ]
  },
  {
   "cell_type": "code",
   "execution_count": 102,
   "id": "31a74231-cdec-474b-b596-1a7589a022b6",
   "metadata": {
    "tags": []
   },
   "outputs": [
    {
     "name": "stdout",
     "output_type": "stream",
     "text": [
      "Fitting 5 folds for each of 4 candidates, totalling 20 fits\n",
      "{'var_smoothing': 1e-12}\n"
     ]
    }
   ],
   "source": [
    "# Search optimal hyperparameter\n",
    "hparam = { \n",
    "#        'priors':[[0.68,0.32],[0.7,0.3],[0.8,0.2]],\n",
    "        'var_smoothing':[1e-12,1e-9,1e-8,1e-7]\n",
    "}\n",
    "\n",
    "# Random search\n",
    "model_base = GaussianNB()\n",
    "model_grid = GridSearchCV(estimator=model_base,\n",
    "                          param_grid=hparam,\n",
    "                          n_jobs=-1,\n",
    "                          cv=5,\n",
    "                          verbose=1,\n",
    "                          scoring='roc_auc'\n",
    ")\n",
    "model_grid.fit(ASM_train_x, ASM_train_y)\n",
    "\n",
    "best_ASM = model_grid.best_params_\n",
    "pprint(best_ASM)"
   ]
  },
  {
   "cell_type": "code",
   "execution_count": 103,
   "id": "0678f97b-f6f4-45ab-b35c-45fe0ccb727f",
   "metadata": {},
   "outputs": [
    {
     "name": "stdout",
     "output_type": "stream",
     "text": [
      "0.7\n"
     ]
    },
    {
     "data": {
      "text/plain": [
       "['/media/tx-deepocean/Data/2022/chongfu1/Model/Train/Model/NaiveBayes_ASM.model']"
      ]
     },
     "execution_count": 103,
     "metadata": {},
     "output_type": "execute_result"
    }
   ],
   "source": [
    "# Build RF regression model with optimal hyperparameters\n",
    "ASM=model_grid.best_estimator_\n",
    "# Predict test set data\n",
    "score = ASM.score(ASM_test_x, ASM_test_y)\n",
    "print(score)\n",
    "joblib.dump(ASM, os.path.join(modeldir, ASM_model))"
   ]
  },
  {
   "cell_type": "code",
   "execution_count": 104,
   "id": "742c25b8-acd7-48de-be89-49689c9792af",
   "metadata": {
    "tags": []
   },
   "outputs": [
    {
     "data": {
      "text/plain": [
       "{'accuracy': 0.7,\n",
       " 'recall': 0.782608695652174,\n",
       " 'precision': 0.7659574468085106,\n",
       " 'f1': 0.7741935483870968,\n",
       " 'auc': 0.6829710144927537,\n",
       " 'specificity': 0.5416666666666666}"
      ]
     },
     "execution_count": 104,
     "metadata": {},
     "output_type": "execute_result"
    }
   ],
   "source": [
    "model= joblib.load(os.path.join(modeldir, ASM_model)) \n",
    "predict_label = model.predict(ASM_test_x)#, probability=True) #预测的标签\n",
    "predict_score = model.predict_proba(ASM_test_x)#得到标签0 (y_predict[:,0])和1 (y_predict[:,1])对应的概率\n",
    "label = ASM_test_y  #真实标签\n",
    "eva_dic = classification_evaluation(label, predict_label, predict_score[:,1])\n",
    "eva_dic"
   ]
  },
  {
   "cell_type": "markdown",
   "id": "24d14b2f-53eb-44bd-94c7-d21a0d2c3a3c",
   "metadata": {},
   "source": [
    "### Clinical"
   ]
  },
  {
   "cell_type": "code",
   "execution_count": 20,
   "id": "40f9bcfb-41e8-424e-81be-881e9b01b426",
   "metadata": {},
   "outputs": [],
   "source": [
    "# Load the Clinical features.\n",
    "Atag_cols = ['pid', 'label']\n",
    "Clinical_train = pd.read_csv(os.path.join(traindir, 'clinical_lasso_sel.csv')) \n",
    "Clinical_test = pd.read_csv(os.path.join(testdir, 'clinical_test.csv')) \n",
    "# Train data\n",
    "standardscaler = StandardScaler()\n",
    "Clinical_train = Clinical_train.sample(frac=1.0, random_state=random_state) \n",
    "Clinical_train_y = Clinical_train['label'] \n",
    "Clinical_train_x = Clinical_train.drop(Atag_cols, axis=1) \n",
    "Clinical_train_x = standardscaler.fit_transform(Clinical_train_x) \n",
    "# Test data\n",
    "Clinical_test = Clinical_test.sample(frac=1.0, random_state=random_state)\n",
    "Clinical_test_y = Clinical_test['label']\n",
    "Clinical_test_x =Clinical_test.drop(Dtag_cols, axis=1)\n",
    "Clinical_test_x = standardscaler.fit_transform(Clinical_test_x)\n",
    "\n",
    "Clinical_model = f'NaiveBayes_Clinical.model'"
   ]
  },
  {
   "cell_type": "code",
   "execution_count": 22,
   "id": "fac3a688-4e59-4c0e-a020-21a8e3cd0fe8",
   "metadata": {},
   "outputs": [
    {
     "name": "stdout",
     "output_type": "stream",
     "text": [
      "Fitting 2 folds for each of 4 candidates, totalling 8 fits\n",
      "{'var_smoothing': 1e-07}\n",
      "0.6571428571428571\n"
     ]
    },
    {
     "data": {
      "text/plain": [
       "['/media/tx-deepocean/Data/2022/chongfu1/Model/Train/Model/NaiveBayes_Clinical.model']"
      ]
     },
     "execution_count": 22,
     "metadata": {},
     "output_type": "execute_result"
    }
   ],
   "source": [
    "# Search optimal hyperparameter\n",
    "hparam = { \n",
    "#        'priors':[[0.68,0.32],[0.7,0.3],[0.8,0.2]],\n",
    "        'var_smoothing':[1e-12,1e-9,1e-8,1e-7]\n",
    "}\n",
    "\n",
    "# Random search\n",
    "model_base = GaussianNB()\n",
    "model_grid = GridSearchCV(estimator=model_base,\n",
    "                          param_grid=hparam,\n",
    "                          n_jobs=-1,\n",
    "                          cv=2,\n",
    "                          verbose=1,\n",
    "                          scoring='balanced_accuracy'\n",
    ")\n",
    "model_grid.fit(Clinical_train_x, Clinical_train_y)\n",
    "\n",
    "best_Clinical = model_grid.best_params_\n",
    "pprint(best_Clinical)\n",
    "\n",
    "# Build RF regression model with optimal hyperparameters\n",
    "Clinical=model_grid.best_estimator_\n",
    "# Predict test set data\n",
    "score = Clinical.score(Clinical_test_x, Clinical_test_y)\n",
    "print(score)\n",
    "joblib.dump(Clinical, os.path.join(modeldir, Clinical_model))"
   ]
  },
  {
   "cell_type": "code",
   "execution_count": 23,
   "id": "cb8c9105-89a0-40b2-9820-cdd63349805f",
   "metadata": {},
   "outputs": [
    {
     "data": {
      "text/plain": [
       "{'accuracy': 0.6571428571428571,\n",
       " 'recall': 1.0,\n",
       " 'precision': 0.6571428571428571,\n",
       " 'f1': 0.7931034482758621,\n",
       " 'auc': 0.5,\n",
       " 'specificity': 0.0}"
      ]
     },
     "execution_count": 23,
     "metadata": {},
     "output_type": "execute_result"
    }
   ],
   "source": [
    "model= joblib.load(os.path.join(modeldir, Clinical_model)) \n",
    "predict_label = model.predict(Clinical_test_x)#, probability=True) #预测的标签\n",
    "predict_score = model.predict_proba(Clinical_test_x)#得到标签0 (y_predict[:,0])和1 (y_predict[:,1])对应的概率\n",
    "label = Clinical_test_y  #真实标签\n",
    "eva_dic = classification_evaluation(label, predict_label, predict_score[:,1])\n",
    "eva_dic"
   ]
  },
  {
   "cell_type": "code",
   "execution_count": null,
   "id": "2e42d631-0789-40f2-b6ed-07241e0117e5",
   "metadata": {},
   "outputs": [],
   "source": []
  }
 ],
 "metadata": {
  "kernelspec": {
   "display_name": "txpython3.7",
   "language": "python",
   "name": "python3.7"
  },
  "language_info": {
   "codemirror_mode": {
    "name": "ipython",
    "version": 3
   },
   "file_extension": ".py",
   "mimetype": "text/x-python",
   "name": "python",
   "nbconvert_exporter": "python",
   "pygments_lexer": "ipython3",
   "version": "3.7.12"
  }
 },
 "nbformat": 4,
 "nbformat_minor": 5
}
