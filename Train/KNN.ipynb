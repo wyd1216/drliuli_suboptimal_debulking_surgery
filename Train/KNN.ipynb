{
 "cells": [
  {
   "cell_type": "markdown",
   "id": "2db50f8e-06ff-4fb0-a584-bbd8c103f704",
   "metadata": {},
   "source": [
    "## KNN\n",
    "\n",
    "+ 重要参数:\n",
    "以下是 GridSearchCV 方法中常用的超参数。\n",
    "1. estimator ：创建的算法对象。\n",
    "2. param_grid ：值为字典或者列表，需要最优化的参数的取值。\n",
    "3. scoring ：准确度评价标准，默认 None ,这时需要使用 score 函数；或者如 scoring='roc_auc' ，根据所选模型不同，评价准则不同。字符串（函数名）或是可调用对象，需要其函数签名，形如 scorer(estimator, X, y) ；如果是 None ，则使用 estimator 的误差估计函数。\n",
    "4. n_jobs ：并行数，默认为 1 ， n_jobs = -1 表示跟CPU核数一致。\n",
    "5. cv ：交叉验证参数，默认 None ，使用三折交叉验证。指定 fold 数量，默认为 3 ，也可以是 yield 训练或测试数据的生成器。\n",
    "6. verbose ：日志冗长度。 verbose = 0 表示不输出训练过程， verbose = 1 表示偶尔输出， verbose > 1 表示对每个子模型都输出。\n",
    "GridSearchCV 还内置了一些属性。\n",
    "1. best_estimator_ ：效果最好的分类器。\n",
    "2. best_score_ ：成员提供优化过程期间观察到的最好的评分。\n",
    "3. best_params_ ：描述了已取得最佳结果的参数的组合。\n",
    "4. best_index_ ：对应于最佳候选参数设置的索引（ cv_results_ 数组的索引）。\n",
    "\n",
    "sklearn 库中的k-NN方法有很多超参数，常用的超参数如下：\n",
    "1. weights ：用于分配权重。基本的最近邻回归使用统一的权重，即本地邻域内的每个邻点对查询点的分类贡献一致。在某些环境下，对邻点加权可能是有利的，使得附近点对于回归所作出的贡献多于远处点。默认为 weights = 'uniform' ，表示为所有点分配同等权重。 weights = 'distance' 表示分配的权重与查询点距离呈反比。此外，我们还可以自定义一个距离函数用来计算权重。\n",
    "2. n_neighbors ：邻居个数。\n",
    "3. p ： p 参数只有在 weights = 'distance' 时才有。 p 是一个大于或等于1的值。 p = 1 表示曼哈顿距离 (Manhattan Distance)， p = 2 表示欧式距离 (Euclidean Distance)， p = ∞ 表示它是各个坐标距离的最大值。"
   ]
  },
  {
   "cell_type": "code",
   "execution_count": 6,
   "id": "52eb1a79-3b2a-4e99-be92-fa10f9da48f2",
   "metadata": {},
   "outputs": [],
   "source": [
    "import random\n",
    "import joblib\n",
    "import os\n",
    "import warnings\n",
    "import pandas as pd\n",
    "import numpy as np\n",
    "import matplotlib.pyplot as plt\n",
    "from pprint import pprint\n",
    "from sklearn.model_selection import train_test_split\n",
    "from sklearn.preprocessing import StandardScaler\n",
    "from sklearn.model_selection import cross_val_score\n",
    "from sklearn import metrics\n",
    "from openpyxl import load_workbook\n",
    "from sklearn.tree import export_graphviz\n",
    "from sklearn.model_selection import GridSearchCV\n",
    "from sklearn.model_selection import RandomizedSearchCV\n",
    "from sklearn.neighbors import KNeighborsClassifier\n",
    "warnings.filterwarnings(\"ignore\")"
   ]
  },
  {
   "cell_type": "code",
   "execution_count": 7,
   "id": "16f7abfa-985b-4758-9b3f-4811915bb603",
   "metadata": {},
   "outputs": [],
   "source": [
    "from sklearn.metrics import confusion_matrix    #导入计算混淆矩阵的包\n",
    "def specificity_score(y_true, y_pred):\n",
    "    C = confusion_matrix(y_true, y_pred)\n",
    "    TP = C[1,1]\n",
    "    FP = C[0,1]\n",
    "    TN = C[0,0]\n",
    "    FN = C[1,0]\n",
    "    specificity = TN/(TN+FP)\n",
    "    return specificity\n",
    "\n",
    "def classification_evaluation(y_true, y_pred, y_score):\n",
    "    precision = metrics.precision_score(y_true, y_pred)\n",
    "    recall = metrics.recall_score(y_true, y_pred)\n",
    "    accuracy = metrics.accuracy_score(y_true, y_pred)\n",
    "    auc = metrics.roc_auc_score(y_true, y_score)\n",
    "    f1 = metrics.f1_score(y_true, y_pred)\n",
    "    specificity = specificity_score(y_true, y_pred)\n",
    "    evaluation = {'accuracy':accuracy, 'recall':recall, 'precision':precision, 'f1':f1, 'auc':auc, 'specificity':specificity}\n",
    "    return evaluation"
   ]
  },
  {
   "cell_type": "markdown",
   "id": "9046c9b0-d904-4761-b130-261354219fff",
   "metadata": {},
   "source": [
    "### Global params setting and load data"
   ]
  },
  {
   "cell_type": "code",
   "execution_count": 8,
   "id": "5dafd158-4239-4516-bfa2-31039827fd4e",
   "metadata": {},
   "outputs": [],
   "source": [
    "cwd = os.getcwd()\n",
    "traindir = '../Feature_filter/Feas_data'\n",
    "testdir = '../Feature_filter/Feas_data_test'\n",
    "imgdir = os.path.join(cwd, 'IMG')\n",
    "modeldir = os.path.join(cwd, 'Model')\n",
    "tag_cols = ['pid', 'label', 'series', 'image', 'mask']\n",
    "sequence_id = [2, 3, 4]\n",
    "# Generate the random seed\n",
    "random_state = random.randint(1,10000)\n",
    "\n",
    "# Load the SSM features.\n",
    "# SSM_train_slist = [pd.read_excel(os.path.join(traindir, 'feas_lasso.xlsx'), sheet_name=f'sequence{num}') for num in sequence_id]\n",
    "SSM_train_slist = [pd.read_excel(os.path.join(traindir,'feas_mrmr_sel.xlsx'), sheet_name=f'sequence{num}') for num in sequence_id]\n",
    "SSM_test_slist = [pd.read_excel(os.path.join(testdir, 'SSM_test.xlsx'), sheet_name=f'sequence{num}') for num in sequence_id]"
   ]
  },
  {
   "cell_type": "code",
   "execution_count": 9,
   "id": "3ae9756e-b724-4463-9ebb-fadddb076088",
   "metadata": {
    "tags": []
   },
   "outputs": [
    {
     "name": "stdout",
     "output_type": "stream",
     "text": [
      "['pid', 'label', 'series', 'image', 'mask', 'glszm_SmallAreaEmphasis_logarithm', 'glcm_InverseVariance_exponential', 'glszm_GrayLevelNonUniformity_wavelet-HHH', 'firstorder_Skewness_logarithm', 'glcm_Correlation_log-sigma-3-0-mm-3D']\n",
      "['pid', 'label', 'series', 'image', 'mask', 'gldm_DependenceVariance_wavelet-LLH', 'ngtdm_Contrast_wavelet-HHL', 'firstorder_Skewness_log-sigma-2-0-mm-3D', 'glcm_Imc2_wavelet-HHH', 'glrlm_RunEntropy_exponential']\n",
      "['pid', 'label', 'series', 'image', 'mask', 'glrlm_ShortRunLowGrayLevelEmphasis_square', 'glszm_ZoneEntropy_exponential']\n",
      "5 5 2\n"
     ]
    }
   ],
   "source": [
    "# Print features\n",
    "SSM_features_list = [df.columns for df in SSM_train_slist]\n",
    "print(SSM_features_list[0].to_list())\n",
    "print(SSM_features_list[1].to_list())\n",
    "print(SSM_features_list[2].to_list())\n",
    "print(len(SSM_features_list[0])-5, len(SSM_features_list[1])-5, len(SSM_features_list[2])-5)"
   ]
  },
  {
   "cell_type": "code",
   "execution_count": 10,
   "id": "9ebc84d6-e2cc-41f3-819e-6d1deb0484db",
   "metadata": {},
   "outputs": [],
   "source": [
    "# Train data\n",
    "standardscaler = StandardScaler()\n",
    "SSM_train_slist = [df.sample(frac=1.0, random_state=random_state) for df in SSM_train_slist]\n",
    "SSM_train_y = [df['label'] for df in SSM_train_slist]\n",
    "SSM_train_x = [df.drop(tag_cols, axis=1) for df in SSM_train_slist]\n",
    "SSM_train_x = [standardscaler.fit_transform(df) for df in SSM_train_x]\n",
    "# Test data\n",
    "SSM_test_slist = [df.sample(frac=1.0, random_state=random_state) for df in SSM_test_slist]\n",
    "SSM_test_y = [df['label'] for df in SSM_test_slist]\n",
    "SSM_test_x = [df.drop(tag_cols, axis=1) for df in SSM_test_slist]\n",
    "SSM_test_x = [standardscaler.fit_transform(df) for df in SSM_test_x]\n",
    "\n",
    "SSM2_train_y, SSM3_train_y, SSM4_train_y = (y_.to_list() for y_ in SSM_train_y)             \n",
    "SSM2_train_x, SSM3_train_x, SSM4_train_x = (x_ for x_ in SSM_train_x)\n",
    "SSM2_test_y, SSM3_test_y, SSM4_test_y = (y_.to_list() for y_ in SSM_test_y)\n",
    "SSM2_test_x, SSM3_test_x, SSM4_test_x = (x_ for x_ in SSM_test_x)\n",
    "SSM2_model, SSM3_model, SSM4_model = (f'KNN_SSM{i+2}.model' for i in range(3))"
   ]
  },
  {
   "cell_type": "markdown",
   "id": "0eedf637-cdd3-48a6-b19c-cac679fff0d1",
   "metadata": {},
   "source": [
    "### 系统调参"
   ]
  },
  {
   "cell_type": "markdown",
   "id": "beab93fb-6af0-4857-84ce-91772a6391a1",
   "metadata": {},
   "source": [
    "### SSM2"
   ]
  },
  {
   "cell_type": "markdown",
   "id": "c49942c7-2803-45e8-9a80-c69d5b03424d",
   "metadata": {},
   "source": [
    "#### 超参数遍历匹配择优\n",
    "+ 依据上述所得到的随机最优匹配结果，进行遍历全部组合的匹配择优。"
   ]
  },
  {
   "cell_type": "code",
   "execution_count": 133,
   "id": "ade62c72-b763-412e-ba05-0688ddfa28df",
   "metadata": {
    "tags": []
   },
   "outputs": [
    {
     "name": "stdout",
     "output_type": "stream",
     "text": [
      "Fitting 3 folds for each of 60 candidates, totalling 180 fits\n",
      "{'n_neighbors': 8, 'p': 1, 'weights': 'distance'}\n"
     ]
    }
   ],
   "source": [
    "# Search optimal hyperparameter\n",
    "random_regression_seed=np.random.randint(low=1,high=230)\n",
    "\n",
    "hparam = [\n",
    "    {\n",
    "        'weights': ['uniform'],\n",
    "        'n_neighbors': [i for i in range(1, 11)]\n",
    "    },\n",
    "    {\n",
    "        'weights': ['distance'],\n",
    "        'n_neighbors': [i for i in range(1, 11)],\n",
    "        'p': [i for i in range(1, 6)]\n",
    "    }\n",
    "]\n",
    "\n",
    "# Random search\n",
    "model_base = KNeighborsClassifier()\n",
    "model_grid = GridSearchCV(estimator=model_base,\n",
    "                          param_grid=hparam,\n",
    "                          n_jobs=-1,\n",
    "                          cv=3,\n",
    "                          verbose=1,\n",
    "                          scoring='f1'\n",
    ")\n",
    "model_grid.fit(SSM2_train_x, SSM2_train_y)\n",
    "\n",
    "best_SSM2 = model_grid.best_params_\n",
    "pprint(best_SSM2)"
   ]
  },
  {
   "cell_type": "code",
   "execution_count": 134,
   "id": "c1b276be-30f1-4669-99fb-8e13c5f92073",
   "metadata": {},
   "outputs": [
    {
     "name": "stdout",
     "output_type": "stream",
     "text": [
      "0.6285714285714286\n"
     ]
    },
    {
     "data": {
      "text/plain": [
       "['/media/tx-deepocean/Data/2022/chongfu1/Model/Train/Model/KNN_SSM2.model']"
      ]
     },
     "execution_count": 134,
     "metadata": {},
     "output_type": "execute_result"
    }
   ],
   "source": [
    "# Build RF regression model with optimal hyperparameters\n",
    "SSM2=model_grid.best_estimator_\n",
    "# Predict test set data\n",
    "score = SSM2.score(SSM2_test_x, SSM2_test_y)\n",
    "print(score)\n",
    "joblib.dump(SSM2, os.path.join(modeldir, SSM2_model))"
   ]
  },
  {
   "cell_type": "code",
   "execution_count": 135,
   "id": "441f2f38-29ee-42a7-bec8-3ac059975e4d",
   "metadata": {
    "tags": []
   },
   "outputs": [
    {
     "data": {
      "text/plain": [
       "{'accuracy': 0.6285714285714286,\n",
       " 'recall': 0.8260869565217391,\n",
       " 'precision': 0.6785714285714286,\n",
       " 'f1': 0.7450980392156864,\n",
       " 'auc': 0.5996376811594203,\n",
       " 'specificity': 0.25}"
      ]
     },
     "execution_count": 135,
     "metadata": {},
     "output_type": "execute_result"
    }
   ],
   "source": [
    "model= joblib.load(os.path.join(modeldir, SSM2_model)) \n",
    "predict_label = model.predict(SSM2_test_x)#, probability=True) #预测的标签\n",
    "predict_score = model.predict_proba(SSM2_test_x)#得到标签0 (y_predict[:,0])和1 (y_predict[:,1])对应的概率\n",
    "label = SSM2_test_y  #真实标签\n",
    "eva_dic = classification_evaluation(label, predict_label, predict_score[:,1])\n",
    "eva_dic"
   ]
  },
  {
   "cell_type": "markdown",
   "id": "97235b70-eeea-44fc-ab32-6f6436112f83",
   "metadata": {},
   "source": [
    "### SSM3"
   ]
  },
  {
   "cell_type": "markdown",
   "id": "b3e45433-3dbc-4640-94a4-4d960b1bed80",
   "metadata": {},
   "source": [
    "#### 超参数遍历匹配择优\n",
    "+ 依据上述所得到的随机最优匹配结果，进行遍历全部组合的匹配择优。"
   ]
  },
  {
   "cell_type": "code",
   "execution_count": 151,
   "id": "3349ecb0-0de0-4d39-b9c5-c8a9ea822fae",
   "metadata": {
    "tags": []
   },
   "outputs": [
    {
     "name": "stdout",
     "output_type": "stream",
     "text": [
      "Fitting 5 folds for each of 60 candidates, totalling 300 fits\n",
      "{'n_neighbors': 7, 'p': 3, 'weights': 'distance'}\n"
     ]
    }
   ],
   "source": [
    "# Search optimal hyperparameter\n",
    "random_regression_seed=np.random.randint(low=1,high=230)\n",
    "\n",
    "hparam = [\n",
    "    {\n",
    "        'weights': ['uniform'],\n",
    "        'n_neighbors': [i for i in range(1, 11)]\n",
    "    },\n",
    "    {\n",
    "        'weights': ['distance'],\n",
    "        'n_neighbors': [i for i in range(1, 11)],\n",
    "        'p': [i for i in range(1, 6)]\n",
    "    }\n",
    "]\n",
    "\n",
    "# Random search\n",
    "model_base = KNeighborsClassifier()\n",
    "model_grid = GridSearchCV(estimator=model_base,\n",
    "                          param_grid=hparam,\n",
    "                          n_jobs=-1,\n",
    "                          cv=5,\n",
    "                          verbose=1,\n",
    "                          scoring='accuracy'\n",
    ")\n",
    "model_grid.fit(SSM3_train_x, SSM3_train_y)\n",
    "\n",
    "best_SSM3 = model_grid.best_params_\n",
    "pprint(best_SSM3)"
   ]
  },
  {
   "cell_type": "code",
   "execution_count": 152,
   "id": "c3302df5-7506-4412-8ab6-3c616b919a45",
   "metadata": {},
   "outputs": [
    {
     "name": "stdout",
     "output_type": "stream",
     "text": [
      "0.6428571428571429\n"
     ]
    },
    {
     "data": {
      "text/plain": [
       "['/media/tx-deepocean/Data/2022/chongfu1/Model/Train/Model/KNN_SSM3.model']"
      ]
     },
     "execution_count": 152,
     "metadata": {},
     "output_type": "execute_result"
    }
   ],
   "source": [
    "# Build RF regression model with optimal hyperparameters\n",
    "SSM3=model_grid.best_estimator_\n",
    "# Predict test set data\n",
    "score = SSM3.score(SSM3_test_x, SSM3_test_y)\n",
    "print(score)\n",
    "joblib.dump(SSM3, os.path.join(modeldir, SSM3_model))"
   ]
  },
  {
   "cell_type": "code",
   "execution_count": 153,
   "id": "a69fdf50-5204-46a3-acf0-57e11469ecda",
   "metadata": {
    "tags": []
   },
   "outputs": [
    {
     "data": {
      "text/plain": [
       "{'accuracy': 0.6428571428571429,\n",
       " 'recall': 0.7391304347826086,\n",
       " 'precision': 0.723404255319149,\n",
       " 'f1': 0.7311827956989247,\n",
       " 'auc': 0.6304347826086957,\n",
       " 'specificity': 0.4583333333333333}"
      ]
     },
     "execution_count": 153,
     "metadata": {},
     "output_type": "execute_result"
    }
   ],
   "source": [
    "model= joblib.load(os.path.join(modeldir, SSM3_model)) \n",
    "predict_label = model.predict(SSM3_test_x)#, probability=True) #预测的标签\n",
    "predict_score = model.predict_proba(SSM3_test_x)#得到标签0 (y_predict[:,0])和1 (y_predict[:,1])对应的概率\n",
    "label = SSM3_test_y  #真实标签\n",
    "eva_dic = classification_evaluation(label, predict_label, predict_score[:,1])\n",
    "eva_dic"
   ]
  },
  {
   "cell_type": "markdown",
   "id": "8b4055b8-456e-4499-9084-d9c83b28c8fc",
   "metadata": {},
   "source": [
    "### SSM4"
   ]
  },
  {
   "cell_type": "markdown",
   "id": "77adaf0f-8865-4b16-9ad4-d311fb76db79",
   "metadata": {},
   "source": [
    "#### 超参数遍历匹配择优\n",
    "+ 依据上述所得到的随机最优匹配结果，进行遍历全部组合的匹配择优。"
   ]
  },
  {
   "cell_type": "code",
   "execution_count": 181,
   "id": "5c3b627c-e5e7-4ac2-a033-a1ffb9fb13bd",
   "metadata": {
    "tags": []
   },
   "outputs": [
    {
     "name": "stdout",
     "output_type": "stream",
     "text": [
      "Fitting 5 folds for each of 60 candidates, totalling 300 fits\n",
      "{'n_neighbors': 10, 'weights': 'uniform'}\n"
     ]
    }
   ],
   "source": [
    "# Search optimal hyperparameter\n",
    "random_regression_seed=np.random.randint(low=1,high=230)\n",
    "\n",
    "hparam = [\n",
    "    {\n",
    "        'weights': ['uniform'],\n",
    "        'n_neighbors': [i for i in range(1, 11)]\n",
    "    },\n",
    "    {\n",
    "        'weights': ['distance'],\n",
    "        'n_neighbors': [i for i in range(1, 11)],\n",
    "        'p': [i for i in range(1, 6)]\n",
    "    }\n",
    "]\n",
    "\n",
    "# Random search\n",
    "model_base = KNeighborsClassifier()\n",
    "model_grid = GridSearchCV(estimator=model_base,\n",
    "                          param_grid=hparam,\n",
    "                          n_jobs=-1,\n",
    "                          cv=5,\n",
    "                          verbose=1,\n",
    "                          scoring='accuracy'\n",
    ")\n",
    "model_grid.fit(SSM4_train_x, SSM4_train_y)\n",
    "\n",
    "best_SSM4 = model_grid.best_params_\n",
    "pprint(best_SSM4)"
   ]
  },
  {
   "cell_type": "code",
   "execution_count": 182,
   "id": "964f1e7b-8df3-4743-9566-aee80af23efe",
   "metadata": {},
   "outputs": [
    {
     "name": "stdout",
     "output_type": "stream",
     "text": [
      "0.6571428571428571\n"
     ]
    },
    {
     "data": {
      "text/plain": [
       "['/media/tx-deepocean/Data/2022/chongfu1/Model/Train/Model/KNN_SSM4.model']"
      ]
     },
     "execution_count": 182,
     "metadata": {},
     "output_type": "execute_result"
    }
   ],
   "source": [
    "# Build RF regression model with optimal hyperparameters\n",
    "SSM4=model_grid.best_estimator_\n",
    "# Predict test set data\n",
    "score = SSM4.score(SSM4_test_x, SSM4_test_y)\n",
    "print(score)\n",
    "joblib.dump(SSM4, os.path.join(modeldir, SSM4_model))"
   ]
  },
  {
   "cell_type": "code",
   "execution_count": 183,
   "id": "412df1ca-6cc3-48f0-8f52-d14469366acb",
   "metadata": {
    "tags": []
   },
   "outputs": [
    {
     "data": {
      "text/plain": [
       "{'accuracy': 0.6571428571428571,\n",
       " 'recall': 0.782608695652174,\n",
       " 'precision': 0.72,\n",
       " 'f1': 0.7499999999999999,\n",
       " 'auc': 0.6413043478260869,\n",
       " 'specificity': 0.4166666666666667}"
      ]
     },
     "execution_count": 183,
     "metadata": {},
     "output_type": "execute_result"
    }
   ],
   "source": [
    "model= joblib.load(os.path.join(modeldir, SSM4_model)) \n",
    "predict_label = model.predict(SSM4_test_x)#, probability=True) #预测的标签\n",
    "predict_score = model.predict_proba(SSM4_test_x)#得到标签0 (y_predict[:,0])和1 (y_predict[:,1])对应的概率\n",
    "label = SSM4_test_y  #真实标签\n",
    "eva_dic = classification_evaluation(label, predict_label, predict_score[:,1])\n",
    "eva_dic"
   ]
  },
  {
   "cell_type": "markdown",
   "id": "8acb38bf-9a8d-4860-9827-e8323fa22893",
   "metadata": {},
   "source": [
    "### DSM"
   ]
  },
  {
   "cell_type": "code",
   "execution_count": 184,
   "id": "c9dd5a61-7eb6-4f1c-bc29-f6f4ae36d019",
   "metadata": {},
   "outputs": [],
   "source": [
    "# Load the DSM features.\n",
    "Dtag_cols = ['pid', 'label']\n",
    "DSM_train_slist = [pd.read_excel(os.path.join(traindir, 'DSM_feas_mrmr_sel.xlsx'), sheet_name=f'no_sequence{num}') for num in sequence_id]\n",
    "DSM_test_slist = [pd.read_excel(os.path.join(testdir, 'DSM_test.xlsx'), sheet_name=f'no_sequence{num}') for num in sequence_id]\n",
    "# Train data\n",
    "standardscaler = StandardScaler()\n",
    "DSM_train_slist = [df.sample(frac=1.0, random_state=random_state) for df in DSM_train_slist]\n",
    "DSM_train_y = [df['label'] for df in DSM_train_slist]\n",
    "DSM_train_x = [df.drop(Dtag_cols, axis=1) for df in DSM_train_slist]\n",
    "DSM_train_x = [standardscaler.fit_transform(df) for df in DSM_train_x]\n",
    "# Test data\n",
    "DSM_test_slist = [df.sample(frac=1.0, random_state=random_state) for df in DSM_test_slist]\n",
    "DSM_test_y = [df['label'] for df in DSM_test_slist]\n",
    "DSM_test_x = [df.drop(Dtag_cols, axis=1) for df in DSM_test_slist]\n",
    "DSM_test_x = [standardscaler.fit_transform(df) for df in DSM_test_x]\n",
    "\n",
    "DSM2_train_y, DSM3_train_y, DSM4_train_y = (y_.to_list() for y_ in DSM_train_y)             \n",
    "DSM2_train_x, DSM3_train_x, DSM4_train_x = (x_ for x_ in DSM_train_x)\n",
    "DSM2_test_y, DSM3_test_y, DSM4_test_y = (y_.to_list() for y_ in DSM_test_y)\n",
    "DSM2_test_x, DSM3_test_x, DSM4_test_x = (x_ for x_ in DSM_test_x)\n",
    "DSM2_model, DSM3_model, DSM4_model = (f'KNN_DSM{i+2}.model' for i in range(3))"
   ]
  },
  {
   "cell_type": "code",
   "execution_count": 257,
   "id": "9a14e2f6-e9cc-4bee-a780-8f80306a4f49",
   "metadata": {
    "tags": []
   },
   "outputs": [
    {
     "name": "stdout",
     "output_type": "stream",
     "text": [
      "Fitting 4 folds for each of 60 candidates, totalling 240 fits\n",
      "{'n_neighbors': 10, 'p': 1, 'weights': 'distance'}\n"
     ]
    }
   ],
   "source": [
    "# Search optimal hyperparameter\n",
    "random_regression_seed=np.random.randint(low=1,high=230)\n",
    "\n",
    "hparam = [\n",
    "    {\n",
    "        'weights': ['uniform'],\n",
    "        'n_neighbors': [i for i in range(1, 11)]\n",
    "    },\n",
    "    {\n",
    "        'weights': ['distance'],\n",
    "        'n_neighbors': [i for i in range(1, 11)],\n",
    "        'p': [i for i in range(1, 6)]\n",
    "    }\n",
    "]\n",
    "\n",
    "# Random search\n",
    "model_base = KNeighborsClassifier()\n",
    "model_grid = GridSearchCV(estimator=model_base,\n",
    "                          param_grid=hparam,\n",
    "                          n_jobs=-1,\n",
    "                          cv=4,\n",
    "                          verbose=1,\n",
    "                          scoring='f1'\n",
    ")\n",
    "model_grid.fit(DSM3_train_x, DSM3_train_y)\n",
    "\n",
    "best_DSM3 = model_grid.best_params_\n",
    "pprint(best_DSM3)"
   ]
  },
  {
   "cell_type": "code",
   "execution_count": 258,
   "id": "b7682081-b845-435a-b715-90ff2b62a786",
   "metadata": {},
   "outputs": [
    {
     "name": "stdout",
     "output_type": "stream",
     "text": [
      "0.6285714285714286\n"
     ]
    },
    {
     "data": {
      "text/plain": [
       "['/media/tx-deepocean/Data/2022/chongfu1/Model/Train/Model/KNN_DSM3.model']"
      ]
     },
     "execution_count": 258,
     "metadata": {},
     "output_type": "execute_result"
    }
   ],
   "source": [
    "# Build RF regression model with optimal hyperparameters\n",
    "DSM3=model_grid.best_estimator_\n",
    "# Predict test set data\n",
    "score = DSM3.score(DSM3_test_x, DSM3_test_y)\n",
    "print(score)\n",
    "joblib.dump(DSM3, os.path.join(modeldir, DSM3_model))"
   ]
  },
  {
   "cell_type": "code",
   "execution_count": 259,
   "id": "2732d5cf-84d7-4a30-8da2-471f892eaec7",
   "metadata": {
    "tags": []
   },
   "outputs": [
    {
     "data": {
      "text/plain": [
       "{'accuracy': 0.6285714285714286,\n",
       " 'recall': 0.8043478260869565,\n",
       " 'precision': 0.6851851851851852,\n",
       " 'f1': 0.74,\n",
       " 'auc': 0.6268115942028987,\n",
       " 'specificity': 0.2916666666666667}"
      ]
     },
     "execution_count": 259,
     "metadata": {},
     "output_type": "execute_result"
    }
   ],
   "source": [
    "model= joblib.load(os.path.join(modeldir, DSM3_model)) \n",
    "predict_label = model.predict(DSM3_test_x)#, probability=True) #预测的标签\n",
    "predict_score = model.predict_proba(DSM3_test_x)#得到标签0 (y_predict[:,0])和1 (y_predict[:,1])对应的概率\n",
    "label = DSM3_test_y  #真实标签\n",
    "eva_dic = classification_evaluation(label, predict_label, predict_score[:,1])\n",
    "eva_dic"
   ]
  },
  {
   "cell_type": "markdown",
   "id": "c1ef6fb4-7c59-4a34-8da8-59ee34b79e93",
   "metadata": {},
   "source": [
    "### ASM"
   ]
  },
  {
   "cell_type": "code",
   "execution_count": 260,
   "id": "45e94cf2-41a0-4e20-b1e3-4f6615414436",
   "metadata": {},
   "outputs": [],
   "source": [
    "# Load the ASM features.\n",
    "Atag_cols = ['pid', 'label']\n",
    "ASM_train = pd.read_csv(os.path.join(traindir, 'ASM_mrmr_feas.csv')) \n",
    "ASM_test = pd.read_csv(os.path.join(testdir, 'ASM_test.csv')) \n",
    "# Train data\n",
    "standardscaler = StandardScaler()\n",
    "ASM_train = ASM_train.sample(frac=1.0, random_state=random_state) \n",
    "ASM_train_y = ASM_train['label'] \n",
    "ASM_train_x = ASM_train.drop(Atag_cols, axis=1) \n",
    "ASM_train_x = standardscaler.fit_transform(ASM_train_x) \n",
    "# Test data\n",
    "ASM_test = ASM_test.sample(frac=1.0, random_state=random_state)\n",
    "ASM_test_y = ASM_test['label']\n",
    "ASM_test_x =ASM_test.drop(Dtag_cols, axis=1)\n",
    "ASM_test_x = standardscaler.fit_transform(ASM_test_x)\n",
    "\n",
    "ASM_model = f'KNN_ASM.model'"
   ]
  },
  {
   "cell_type": "code",
   "execution_count": 270,
   "id": "872420a1-f5f0-4c2e-8d25-41408a3de140",
   "metadata": {
    "tags": []
   },
   "outputs": [
    {
     "name": "stdout",
     "output_type": "stream",
     "text": [
      "Fitting 4 folds for each of 60 candidates, totalling 240 fits\n",
      "{'n_neighbors': 8, 'p': 1, 'weights': 'distance'}\n"
     ]
    }
   ],
   "source": [
    "# Search optimal hyperparameter\n",
    "random_regression_seed=np.random.randint(low=1,high=230)\n",
    "\n",
    "hparam = [\n",
    "    {\n",
    "        'weights': ['uniform'],\n",
    "        'n_neighbors': [i for i in range(1, 11)]\n",
    "    },\n",
    "    {\n",
    "        'weights': ['distance'],\n",
    "        'n_neighbors': [i for i in range(1, 11)],\n",
    "        'p': [i for i in range(1, 6)]\n",
    "    }\n",
    "]\n",
    "\n",
    "# Random search\n",
    "model_base = KNeighborsClassifier()\n",
    "model_grid = GridSearchCV(estimator=model_base,\n",
    "                          param_grid=hparam,\n",
    "                          n_jobs=-1,\n",
    "                          cv=4,\n",
    "                          verbose=1,\n",
    "                          scoring='roc_auc'\n",
    ")\n",
    "model_grid.fit(ASM_train_x, ASM_train_y)\n",
    "\n",
    "best_ASM = model_grid.best_params_\n",
    "pprint(best_ASM)"
   ]
  },
  {
   "cell_type": "code",
   "execution_count": 271,
   "id": "2580e269-6957-4a54-b84d-e91e6e649ba6",
   "metadata": {},
   "outputs": [
    {
     "name": "stdout",
     "output_type": "stream",
     "text": [
      "0.6857142857142857\n"
     ]
    },
    {
     "data": {
      "text/plain": [
       "['/media/tx-deepocean/Data/2022/chongfu1/Model/Train/Model/KNN_ASM.model']"
      ]
     },
     "execution_count": 271,
     "metadata": {},
     "output_type": "execute_result"
    }
   ],
   "source": [
    "# Build RF regression model with optimal hyperparameters\n",
    "ASM=model_grid.best_estimator_\n",
    "# Predict test set data\n",
    "score = ASM.score(ASM_test_x, ASM_test_y)\n",
    "print(score)\n",
    "joblib.dump(ASM, os.path.join(modeldir, ASM_model))"
   ]
  },
  {
   "cell_type": "code",
   "execution_count": 272,
   "id": "a6a164f5-13a1-4b8e-a91a-f012ece86240",
   "metadata": {
    "tags": []
   },
   "outputs": [
    {
     "data": {
      "text/plain": [
       "{'accuracy': 0.6857142857142857,\n",
       " 'recall': 0.8913043478260869,\n",
       " 'precision': 0.7068965517241379,\n",
       " 'f1': 0.7884615384615384,\n",
       " 'auc': 0.6231884057971014,\n",
       " 'specificity': 0.2916666666666667}"
      ]
     },
     "execution_count": 272,
     "metadata": {},
     "output_type": "execute_result"
    }
   ],
   "source": [
    "model= joblib.load(os.path.join(modeldir, ASM_model)) \n",
    "predict_label = model.predict(ASM_test_x)#, probability=True) #预测的标签\n",
    "predict_score = model.predict_proba(ASM_test_x)#得到标签0 (y_predict[:,0])和1 (y_predict[:,1])对应的概率\n",
    "label = ASM_test_y  #真实标签\n",
    "eva_dic = classification_evaluation(label, predict_label, predict_score[:,1])\n",
    "eva_dic"
   ]
  },
  {
   "cell_type": "markdown",
   "id": "9d67792b-654e-4a62-8f9b-af249e2d1ccb",
   "metadata": {},
   "source": [
    "### Clinical"
   ]
  },
  {
   "cell_type": "code",
   "execution_count": 18,
   "id": "40f9bcfb-41e8-424e-81be-881e9b01b426",
   "metadata": {},
   "outputs": [],
   "source": [
    "# Load the Clinical features.\n",
    "Atag_cols = ['pid', 'label']\n",
    "Clinical_train = pd.read_csv(os.path.join(traindir, 'clinical_lasso_sel.csv')) \n",
    "Clinical_test = pd.read_csv(os.path.join(testdir, 'clinical_test.csv')) \n",
    "# Train data\n",
    "standardscaler = StandardScaler()\n",
    "Clinical_train = Clinical_train.sample(frac=1.0, random_state=random_state) \n",
    "Clinical_train_y = Clinical_train['label'] \n",
    "Clinical_train_x = Clinical_train.drop(Atag_cols, axis=1) \n",
    "Clinical_train_x = standardscaler.fit_transform(Clinical_train_x) \n",
    "# Test data\n",
    "Clinical_test = Clinical_test.sample(frac=1.0, random_state=random_state)\n",
    "Clinical_test_y = Clinical_test['label']\n",
    "Clinical_test_x =Clinical_test.drop(Atag_cols, axis=1)\n",
    "Clinical_test_x = standardscaler.fit_transform(Clinical_test_x)\n",
    "\n",
    "Clinical_model = f'KNN_Clinical.model'"
   ]
  },
  {
   "cell_type": "code",
   "execution_count": 19,
   "id": "fac3a688-4e59-4c0e-a020-21a8e3cd0fe8",
   "metadata": {},
   "outputs": [
    {
     "name": "stdout",
     "output_type": "stream",
     "text": [
      "Fitting 5 folds for each of 60 candidates, totalling 300 fits\n",
      "{'n_neighbors': 7, 'p': 2, 'weights': 'distance'}\n",
      "0.8285714285714286\n"
     ]
    },
    {
     "data": {
      "text/plain": [
       "['/media/tx-deepocean/Data/2022/chongfu1/Model/Train/Model/KNN_Clinical.model']"
      ]
     },
     "execution_count": 19,
     "metadata": {},
     "output_type": "execute_result"
    }
   ],
   "source": [
    "# Search optimal hyperparameter\n",
    "random_regression_seed=np.random.randint(low=1,high=230)\n",
    "\n",
    "hparam = [\n",
    "    {\n",
    "        'weights': ['uniform'],\n",
    "        'n_neighbors': [i for i in range(1, 11)]\n",
    "    },\n",
    "    {\n",
    "        'weights': ['distance'],\n",
    "        'n_neighbors': [i for i in range(1, 11)],\n",
    "        'p': [i for i in range(1, 6)]\n",
    "    }\n",
    "]\n",
    "\n",
    "# Random search\n",
    "model_base = KNeighborsClassifier()\n",
    "model_grid = GridSearchCV(estimator=model_base,\n",
    "                          param_grid=hparam,\n",
    "                          n_jobs=-1,\n",
    "                          cv=5,\n",
    "                          verbose=1,\n",
    "                          scoring='roc_auc'\n",
    ")\n",
    "model_grid.fit(Clinical_train_x, Clinical_train_y)\n",
    "\n",
    "best_Clinical = model_grid.best_params_\n",
    "pprint(best_Clinical)\n",
    "\n",
    "# Build RF regression model with optimal hyperparameters\n",
    "Clinical=model_grid.best_estimator_\n",
    "# Predict test set data\n",
    "score = Clinical.score(Clinical_test_x, Clinical_test_y)\n",
    "print(score)\n",
    "joblib.dump(Clinical, os.path.join(modeldir, Clinical_model))"
   ]
  },
  {
   "cell_type": "code",
   "execution_count": 20,
   "id": "cb8c9105-89a0-40b2-9820-cdd63349805f",
   "metadata": {},
   "outputs": [
    {
     "data": {
      "text/plain": [
       "{'accuracy': 0.8285714285714286,\n",
       " 'recall': 0.8913043478260869,\n",
       " 'precision': 0.8541666666666666,\n",
       " 'f1': 0.8723404255319149,\n",
       " 'auc': 0.8858695652173914,\n",
       " 'specificity': 0.7083333333333334}"
      ]
     },
     "execution_count": 20,
     "metadata": {},
     "output_type": "execute_result"
    }
   ],
   "source": [
    "model= joblib.load(os.path.join(modeldir, Clinical_model)) \n",
    "predict_label = model.predict(Clinical_test_x)#, probability=True) #预测的标签\n",
    "predict_score = model.predict_proba(Clinical_test_x)#得到标签0 (y_predict[:,0])和1 (y_predict[:,1])对应的概率\n",
    "label = Clinical_test_y  #真实标签\n",
    "eva_dic = classification_evaluation(label, predict_label, predict_score[:,1])\n",
    "eva_dic"
   ]
  },
  {
   "cell_type": "code",
   "execution_count": null,
   "id": "e5cdf61f-b256-4f34-888a-f9870a6ff027",
   "metadata": {},
   "outputs": [],
   "source": []
  }
 ],
 "metadata": {
  "kernelspec": {
   "display_name": "txpython3.7",
   "language": "python",
   "name": "python3.7"
  },
  "language_info": {
   "codemirror_mode": {
    "name": "ipython",
    "version": 3
   },
   "file_extension": ".py",
   "mimetype": "text/x-python",
   "name": "python",
   "nbconvert_exporter": "python",
   "pygments_lexer": "ipython3",
   "version": "3.7.12"
  }
 },
 "nbformat": 4,
 "nbformat_minor": 5
}
