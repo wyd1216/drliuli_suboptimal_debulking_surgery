{
 "cells": [
  {
   "cell_type": "markdown",
   "id": "2db50f8e-06ff-4fb0-a584-bbd8c103f704",
   "metadata": {},
   "source": [
    "## SVM \n",
    "\n",
    "+ 重要参数:\n",
    "  1. kernal \n",
    "  2. C: 其中 C是惩罚系数，即对误差的宽容度。c越高，说明越不能容忍出现误差,容易过拟合。C越小，容易欠拟合。C过大或过小，泛化能力变差。C一般可以选择为：10^t , t=[- 4，4]就是0.0001 到10000。\n",
    "  3. gamma"
   ]
  },
  {
   "cell_type": "code",
   "execution_count": 2,
   "id": "52eb1a79-3b2a-4e99-be92-fa10f9da48f2",
   "metadata": {},
   "outputs": [],
   "source": [
    "import random\n",
    "import joblib\n",
    "import os\n",
    "import warnings\n",
    "import pandas as pd\n",
    "import numpy as np\n",
    "import matplotlib.pyplot as plt\n",
    "from pprint import pprint\n",
    "from sklearn.model_selection import train_test_split\n",
    "from sklearn.preprocessing import StandardScaler\n",
    "from sklearn.model_selection import cross_val_score\n",
    "from sklearn import metrics\n",
    "from openpyxl import load_workbook\n",
    "from sklearn.tree import export_graphviz\n",
    "from sklearn.model_selection import GridSearchCV\n",
    "from sklearn.model_selection import RandomizedSearchCV\n",
    "from sklearn.svm import SVC \n",
    "warnings.filterwarnings(\"ignore\")"
   ]
  },
  {
   "cell_type": "code",
   "execution_count": 3,
   "id": "2a5a4969-19a8-4af7-b547-9beb2e7f7690",
   "metadata": {},
   "outputs": [],
   "source": [
    "from sklearn.metrics import confusion_matrix    #导入计算混淆矩阵的包\n",
    "def specificity_score(y_true, y_pred):\n",
    "    C = confusion_matrix(y_true, y_pred)\n",
    "    TP = C[1,1]\n",
    "    FP = C[0,1]\n",
    "    TN = C[0,0]\n",
    "    FN = C[1,0]\n",
    "    specificity = TN/(TN+FP)\n",
    "    return specificity\n",
    "\n",
    "def classification_evaluation(y_true, y_pred, y_score):\n",
    "    precision = metrics.precision_score(y_true, y_pred)\n",
    "    recall = metrics.recall_score(y_true, y_pred)\n",
    "    accuracy = metrics.accuracy_score(y_true, y_pred)\n",
    "    auc = metrics.roc_auc_score(y_true, y_score)\n",
    "    f1 = metrics.f1_score(y_true, y_pred)\n",
    "    specificity = specificity_score(y_true, y_pred)\n",
    "    evaluation = {'accuracy':accuracy, 'recall':recall, 'precision':precision, 'f1':f1, 'auc':auc, 'specificity':specificity}\n",
    "    return evaluation"
   ]
  },
  {
   "cell_type": "markdown",
   "id": "9046c9b0-d904-4761-b130-261354219fff",
   "metadata": {},
   "source": [
    "### Global params setting and load data"
   ]
  },
  {
   "cell_type": "code",
   "execution_count": 4,
   "id": "5dafd158-4239-4516-bfa2-31039827fd4e",
   "metadata": {},
   "outputs": [],
   "source": [
    "cwd = os.getcwd()\n",
    "traindir = '../Feature_filter/Feas_data'\n",
    "testdir = '../Feature_filter/Feas_data_test'\n",
    "imgdir = os.path.join(cwd, 'IMG')\n",
    "modeldir = os.path.join(cwd, 'Model')\n",
    "tag_cols = ['pid', 'label', 'series','image', 'mask']\n",
    "sequence_id = [2, 3, 4]\n",
    "# Generate the random seed\n",
    "random_state = random.randint(1,10000)\n",
    "\n",
    "# Load the SSM features.\n",
    "SSM_train_slist = [pd.read_excel(os.path.join(traindir, 'feas_mrmr_sel.xlsx'), sheet_name=f'sequence{num}') for num in sequence_id]\n",
    "SSM_test_slist = [pd.read_excel(os.path.join(testdir, 'SSM_test.xlsx'), sheet_name=f'sequence{num}') for num in sequence_id]"
   ]
  },
  {
   "cell_type": "code",
   "execution_count": 5,
   "id": "9ebc84d6-e2cc-41f3-819e-6d1deb0484db",
   "metadata": {},
   "outputs": [],
   "source": [
    "# Train data\n",
    "standardscaler = StandardScaler()\n",
    "SSM_train_slist = [df.sample(frac=1.0, random_state=random_state) for df in SSM_train_slist]\n",
    "SSM_train_y = [df['label'] for df in SSM_train_slist]\n",
    "SSM_train_x = [df.drop(tag_cols, axis=1) for df in SSM_train_slist]\n",
    "SSM_train_x = [standardscaler.fit_transform(df) for df in SSM_train_x]\n",
    "# Test data\n",
    "SSM_test_slist = [df.sample(frac=1.0, random_state=random_state) for df in SSM_test_slist]\n",
    "SSM_test_y = [df['label'] for df in SSM_test_slist]\n",
    "SSM_test_x = [df.drop(tag_cols, axis=1) for df in SSM_test_slist]\n",
    "SSM_test_x = [standardscaler.fit_transform(df) for df in SSM_test_x]\n",
    "\n",
    "SSM2_train_y, SSM3_train_y, SSM4_train_y = (y_.to_list() for y_ in SSM_train_y)             \n",
    "SSM2_train_x, SSM3_train_x, SSM4_train_x = (x_ for x_ in SSM_train_x)\n",
    "SSM2_test_y, SSM3_test_y, SSM4_test_y = (y_.to_list() for y_ in SSM_test_y)\n",
    "SSM2_test_x, SSM3_test_x, SSM4_test_x = (x_ for x_ in SSM_test_x)\n",
    "SSM2_model, SSM3_model, SSM4_model = (f'SVM_SSM{i+2}.model' for i in range(3))"
   ]
  },
  {
   "cell_type": "markdown",
   "id": "0eedf637-cdd3-48a6-b19c-cac679fff0d1",
   "metadata": {},
   "source": [
    "### 系统调参"
   ]
  },
  {
   "cell_type": "markdown",
   "id": "beab93fb-6af0-4857-84ce-91772a6391a1",
   "metadata": {},
   "source": [
    "### SSM2"
   ]
  },
  {
   "cell_type": "markdown",
   "id": "c49942c7-2803-45e8-9a80-c69d5b03424d",
   "metadata": {},
   "source": [
    "#### 超参数遍历匹配择优\n",
    "+ 依据上述所得到的随机最优匹配结果，进行遍历全部组合的匹配择优。"
   ]
  },
  {
   "cell_type": "code",
   "execution_count": 10,
   "id": "ade62c72-b763-412e-ba05-0688ddfa28df",
   "metadata": {
    "tags": []
   },
   "outputs": [
    {
     "name": "stdout",
     "output_type": "stream",
     "text": [
      "Fitting 5 folds for each of 1000 candidates, totalling 5000 fits\n",
      "{'C': 2.1306122448979594, 'gamma': 0.01, 'probability': True}\n"
     ]
    }
   ],
   "source": [
    "# Search optimal hyperparameter\n",
    "random_regression_seed=np.random.randint(low=1,high=230)\n",
    "C_range = np.linspace(0.1,20,50)#[0.001, 0.01, 0.1, 1.0, 10, 100, 1000] # default=1.0\n",
    "# kernal_range = ['rbf', 'linear', 'sigmoid', 'poly']\n",
    "gamma_range = np.linspace(0.01, 0.1,20)#[0.001, 0.0001]\n",
    "\n",
    "hp_range={#'kernal':kernal_range,\n",
    "          'C':C_range,\n",
    "          'gamma':gamma_range,\n",
    "          'probability': [True]\n",
    "}\n",
    "# Random search\n",
    "model_test_base = SVC()\n",
    "model_test_grid = GridSearchCV(estimator=model_test_base,\n",
    "                                                   param_grid=hp_range,\n",
    "                                                   n_jobs=-1,\n",
    "                                                   cv=5,\n",
    "                                                   verbose=1,\n",
    "                                                   scoring='roc_auc'\n",
    "                                                   )\n",
    "model_test_grid.fit(SSM2_train_x, SSM2_train_y)\n",
    "\n",
    "best_SVM_SSM2 = model_test_grid.best_params_\n",
    "pprint(best_SVM_SSM2)"
   ]
  },
  {
   "cell_type": "code",
   "execution_count": 11,
   "id": "c1b276be-30f1-4669-99fb-8e13c5f92073",
   "metadata": {},
   "outputs": [
    {
     "name": "stdout",
     "output_type": "stream",
     "text": [
      "0.7285714285714285\n"
     ]
    },
    {
     "data": {
      "text/plain": [
       "['/media/tx-deepocean/Data/2022/chongfu1/Model/Train/Model/SVM_SSM2.model']"
      ]
     },
     "execution_count": 11,
     "metadata": {},
     "output_type": "execute_result"
    }
   ],
   "source": [
    "# Build RF regression model with optimal hyperparameters\n",
    "SSM2=model_test_grid.best_estimator_\n",
    "# Predict test set data\n",
    "score = SSM2.score(SSM2_test_x, SSM2_test_y)\n",
    "print(score)\n",
    "joblib.dump(SSM2, os.path.join(modeldir, SSM2_model))"
   ]
  },
  {
   "cell_type": "code",
   "execution_count": 12,
   "id": "441f2f38-29ee-42a7-bec8-3ac059975e4d",
   "metadata": {},
   "outputs": [
    {
     "data": {
      "text/plain": [
       "{'accuracy': 0.7285714285714285,\n",
       " 'recall': 1.0,\n",
       " 'precision': 0.7076923076923077,\n",
       " 'f1': 0.8288288288288288,\n",
       " 'auc': 0.701086956521739,\n",
       " 'specificity': 0.20833333333333334}"
      ]
     },
     "execution_count": 12,
     "metadata": {},
     "output_type": "execute_result"
    }
   ],
   "source": [
    "model= joblib.load(os.path.join(modeldir, SSM2_model)) \n",
    "predict_label = model.predict(SSM2_test_x)#, probability=True) #预测的标签\n",
    "predict_score = model.predict_proba(SSM2_test_x)#得到标签0 (y_predict[:,0])和1 (y_predict[:,1])对应的概率\n",
    "label = SSM2_test_y  #真实标签\n",
    "eva_dic = classification_evaluation(label, predict_label, predict_score[:,1])\n",
    "eva_dic"
   ]
  },
  {
   "cell_type": "markdown",
   "id": "97235b70-eeea-44fc-ab32-6f6436112f83",
   "metadata": {},
   "source": [
    "### SSM3"
   ]
  },
  {
   "cell_type": "markdown",
   "id": "b3e45433-3dbc-4640-94a4-4d960b1bed80",
   "metadata": {},
   "source": [
    "#### 超参数遍历匹配择优\n",
    "+ 依据上述所得到的随机最优匹配结果，进行遍历全部组合的匹配择优。"
   ]
  },
  {
   "cell_type": "code",
   "execution_count": 13,
   "id": "fd6779df-f4d2-4d04-8b76-8349e8c675b6",
   "metadata": {
    "tags": []
   },
   "outputs": [
    {
     "name": "stdout",
     "output_type": "stream",
     "text": [
      "Fitting 5 folds for each of 500 candidates, totalling 2500 fits\n",
      "{'C': 0.5061224489795918, 'gamma': 0.06000000000000001, 'probability': True}\n"
     ]
    }
   ],
   "source": [
    "# Search optimal hyperparameter\n",
    "random_regression_seed=np.random.randint(low=1,high=230)\n",
    "\n",
    "C_range = np.linspace(0.1,20,50)#[0.001, 0.01, 0.1, 1.0, 10, 100, 1000] # default=1.0\n",
    "# kernal_range = ['rbf', 'linear', 'sigmoid', 'poly']\n",
    "gamma_range = np.linspace(0.01, 0.1,10)#[0.001, 0.0001]\n",
    "\n",
    "hp_range={#'kernal':kernal_range,\n",
    "          'C':C_range,\n",
    "          'gamma':gamma_range,\n",
    "          'probability': [True]\n",
    "}\n",
    "# Random search\n",
    "model_test_base = SVC()\n",
    "model_test_grid = GridSearchCV(estimator=model_test_base,\n",
    "                                                   param_grid=hp_range,\n",
    "                                                   n_jobs=-1,\n",
    "                                                   cv=5,\n",
    "                                                   verbose=1,\n",
    "                                                   scoring='balanced_accuracy'\n",
    "                                                   )\n",
    "model_test_grid.fit(SSM3_train_x, SSM3_train_y)\n",
    "\n",
    "best_SVM_SSM3 = model_test_grid.best_params_\n",
    "pprint(best_SVM_SSM3)"
   ]
  },
  {
   "cell_type": "code",
   "execution_count": 14,
   "id": "1f7f81d8-6e4c-422d-87e9-dc22050c5ddf",
   "metadata": {},
   "outputs": [
    {
     "name": "stdout",
     "output_type": "stream",
     "text": [
      "0.7\n"
     ]
    },
    {
     "data": {
      "text/plain": [
       "['/media/tx-deepocean/Data/2022/chongfu1/Model/Train/Model/SVM_SSM3.model']"
      ]
     },
     "execution_count": 14,
     "metadata": {},
     "output_type": "execute_result"
    }
   ],
   "source": [
    "# Build RF regression model with optimal hyperparameters\n",
    "SSM3=model_test_grid.best_estimator_\n",
    "# Predict test set data\n",
    "score = SSM3.score(SSM3_test_x, SSM3_test_y)\n",
    "print(score)\n",
    "joblib.dump(SSM3, os.path.join(modeldir, SSM3_model))"
   ]
  },
  {
   "cell_type": "code",
   "execution_count": 15,
   "id": "178f2818-2d34-4941-ad45-1faf5854ab7a",
   "metadata": {},
   "outputs": [
    {
     "data": {
      "text/plain": [
       "{'accuracy': 0.7,\n",
       " 'recall': 0.9347826086956522,\n",
       " 'precision': 0.7049180327868853,\n",
       " 'f1': 0.8037383177570093,\n",
       " 'auc': 0.7409420289855072,\n",
       " 'specificity': 0.25}"
      ]
     },
     "execution_count": 15,
     "metadata": {},
     "output_type": "execute_result"
    }
   ],
   "source": [
    "model= joblib.load(os.path.join(modeldir, SSM3_model)) \n",
    "predict_label = model.predict(SSM3_test_x)#, probability=True) #预测的标签\n",
    "predict_score = model.predict_proba(SSM3_test_x)#得到标签0 (y_predict[:,0])和1 (y_predict[:,1])对应的概率\n",
    "label = SSM3_test_y  #真实标签\n",
    "eva_dic = classification_evaluation(label, predict_label, predict_score[:,1])\n",
    "eva_dic"
   ]
  },
  {
   "cell_type": "markdown",
   "id": "8b4055b8-456e-4499-9084-d9c83b28c8fc",
   "metadata": {},
   "source": [
    "### SSM4"
   ]
  },
  {
   "cell_type": "markdown",
   "id": "77adaf0f-8865-4b16-9ad4-d311fb76db79",
   "metadata": {},
   "source": [
    "#### 超参数遍历匹配择优\n",
    "+ 依据上述所得到的随机最优匹配结果，进行遍历全部组合的匹配择优。"
   ]
  },
  {
   "cell_type": "code",
   "execution_count": 16,
   "id": "c4459d5c-f440-4d17-b648-d589855405c7",
   "metadata": {
    "tags": []
   },
   "outputs": [
    {
     "name": "stdout",
     "output_type": "stream",
     "text": [
      "Fitting 4 folds for each of 2000 candidates, totalling 8000 fits\n",
      "{'C': 13.768686868686867, 'gamma': 0.02936842105263158, 'probability': True}\n"
     ]
    }
   ],
   "source": [
    "# Search optimal hyperparameter\n",
    "random_regression_seed=np.random.randint(low=1,high=230)\n",
    "C_range = np.linspace(0.1,20,100)#[0.001, 0.01, 0.1, 1.0, 10, 100, 1000] # default=1.0\n",
    "# kernal_range = ['rbf', 'linear', 'sigmoid', 'poly']\n",
    "gamma_range = np.linspace(0.001, 0.05,20)#[0.001, 0.0001]\n",
    "\n",
    "hp_range={#'kernal':kernal_range,\n",
    "          'C':C_range,\n",
    "          'gamma':gamma_range,\n",
    "          'probability': [True]\n",
    "}\n",
    "# Random search\n",
    "model_test_base = SVC()\n",
    "model_test_grid = GridSearchCV(estimator=model_test_base,\n",
    "                                                   param_grid=hp_range,\n",
    "                                                   n_jobs=-1,\n",
    "                                                   cv=4,\n",
    "                                                   verbose=1,\n",
    "                                                   scoring='balanced_accuracy'\n",
    "                                                   )\n",
    "model_test_grid.fit(SSM4_train_x, SSM4_train_y)\n",
    "\n",
    "best_SVM_SSM4 = model_test_grid.best_params_\n",
    "pprint(best_SVM_SSM4)"
   ]
  },
  {
   "cell_type": "code",
   "execution_count": 17,
   "id": "1ef68f95-309f-497c-8109-f859387588d9",
   "metadata": {},
   "outputs": [
    {
     "name": "stdout",
     "output_type": "stream",
     "text": [
      "0.6857142857142857\n"
     ]
    },
    {
     "data": {
      "text/plain": [
       "['/media/tx-deepocean/Data/2022/chongfu1/Model/Train/Model/SVM_SSM4.model']"
      ]
     },
     "execution_count": 17,
     "metadata": {},
     "output_type": "execute_result"
    }
   ],
   "source": [
    "# Build RF regression model with optimal hyperparameters\n",
    "SSM4=model_test_grid.best_estimator_\n",
    "# Predict test set data\n",
    "score = SSM4.score(SSM4_test_x, SSM4_test_y)\n",
    "print(score)\n",
    "joblib.dump(SSM4, os.path.join(modeldir, SSM4_model))"
   ]
  },
  {
   "cell_type": "code",
   "execution_count": 18,
   "id": "0310a742-515a-41c8-a1e4-733dacee3194",
   "metadata": {},
   "outputs": [
    {
     "data": {
      "text/plain": [
       "{'accuracy': 0.6857142857142857,\n",
       " 'recall': 0.9782608695652174,\n",
       " 'precision': 0.6818181818181818,\n",
       " 'f1': 0.8035714285714285,\n",
       " 'auc': 0.7327898550724637,\n",
       " 'specificity': 0.125}"
      ]
     },
     "execution_count": 18,
     "metadata": {},
     "output_type": "execute_result"
    }
   ],
   "source": [
    "model= joblib.load(os.path.join(modeldir, SSM4_model)) \n",
    "predict_label = model.predict(SSM4_test_x)#, probability=True) #预测的标签\n",
    "predict_score = model.predict_proba(SSM4_test_x)#得到标签0 (y_predict[:,0])和1 (y_predict[:,1])对应的概率\n",
    "label = SSM4_test_y  #真实标签\n",
    "eva_dic = classification_evaluation(label, predict_label, predict_score[:,1])\n",
    "eva_dic"
   ]
  },
  {
   "cell_type": "markdown",
   "id": "fe7faf5e-50be-4d2e-a054-b02ce030cd6a",
   "metadata": {},
   "source": [
    "### DSM"
   ]
  },
  {
   "cell_type": "code",
   "execution_count": 19,
   "id": "b416aeae-c2e4-4b2b-99a8-0a6b6606d9d6",
   "metadata": {},
   "outputs": [],
   "source": [
    "# Load the DSM features.\n",
    "Dtag_cols = ['pid', 'label']\n",
    "DSM_train_slist = [pd.read_excel(os.path.join(traindir, 'DSM_feas_mrmr_sel.xlsx'), sheet_name=f'no_sequence{num}') for num in sequence_id]\n",
    "DSM_test_slist = [pd.read_excel(os.path.join(testdir, 'DSM_test.xlsx'), sheet_name=f'no_sequence{num}') for num in sequence_id]\n",
    "# Train data\n",
    "standardscaler = StandardScaler()\n",
    "DSM_train_slist = [df.sample(frac=1.0, random_state=random_state) for df in DSM_train_slist]\n",
    "DSM_train_y = [df['label'] for df in DSM_train_slist]\n",
    "DSM_train_x = [df.drop(Dtag_cols, axis=1) for df in DSM_train_slist]\n",
    "#DSM_train_x = [standardscaler.fit_transform(df) for df in DSM_train_x]\n",
    "# Test data\n",
    "#DSM_test_slist = [df.sample(frac=1.0, random_state=random_state) for df in DSM_test_slist]\n",
    "DSM_test_y = [df['label'] for df in DSM_test_slist]\n",
    "DSM_test_x = [df.drop(Dtag_cols, axis=1) for df in DSM_test_slist]\n",
    "#DSM_test_x = [standardscaler.fit_transform(df) for df in DSM_test_x]\n",
    "\n",
    "DSM2_train_y, DSM3_train_y, DSM4_train_y = (y_.to_list() for y_ in DSM_train_y)             \n",
    "DSM2_train_x, DSM3_train_x, DSM4_train_x = (np.array(x_) for x_ in DSM_train_x)\n",
    "DSM2_test_y, DSM3_test_y, DSM4_test_y = (y_.to_list() for y_ in DSM_test_y)\n",
    "DSM2_test_x, DSM3_test_x, DSM4_test_x = (np.array(x_) for x_ in DSM_test_x)\n",
    "DSM2_model, DSM3_model, DSM4_model = (f'SVM_DSM{i+2}.model' for i in range(3))"
   ]
  },
  {
   "cell_type": "code",
   "execution_count": 20,
   "id": "8a2f26f9-89c6-45d7-ad51-0fdd4dd31097",
   "metadata": {},
   "outputs": [
    {
     "name": "stdout",
     "output_type": "stream",
     "text": [
      "       glszm_SmallAreaEmphasis_logarithm2  glcm_InverseVariance_exponential2  \\\n",
      "label                                                                          \n",
      "0                                      55                                 55   \n",
      "1                                      55                                 55   \n",
      "\n",
      "       glrlm_ShortRunLowGrayLevelEmphasis_square4  \\\n",
      "label                                               \n",
      "0                                              55   \n",
      "1                                              55   \n",
      "\n",
      "       glszm_GrayLevelNonUniformity_wavelet-HHH2  \\\n",
      "label                                              \n",
      "0                                             55   \n",
      "1                                             55   \n",
      "\n",
      "       glcm_Correlation_log-sigma-3-0-mm-3D2  glszm_ZoneEntropy_exponential4  \\\n",
      "label                                                                          \n",
      "0                                         55                              55   \n",
      "1                                         55                              55   \n",
      "\n",
      "       firstorder_Skewness_logarithm2  \n",
      "label                                  \n",
      "0                                  55  \n",
      "1                                  55  \n"
     ]
    }
   ],
   "source": [
    "# 过采样\n",
    "from imblearn.over_sampling import SMOTE\n",
    "from imblearn.over_sampling import BorderlineSMOTE\n",
    "from imblearn.over_sampling import ADASYN \n",
    "from imblearn.under_sampling import TomekLinks\n",
    "from imblearn.under_sampling import ClusterCentroids \n",
    "train_df = DSM_train_slist[1]\n",
    "train_df = train_df.sample(frac=1.0, random_state=123)\n",
    "train_df = train_df.drop(['pid'], axis=1)\n",
    "train_X, train_Y = train_df.loc[:, train_df.columns != 'label'], train_df.loc[:, train_df.columns == 'label']\n",
    "\n",
    "smote = SMOTE(k_neighbors=3, random_state=2022)\n",
    "X_smote, Y_smote = smote.fit_resample(train_X, train_Y)\n",
    "df_smote = pd.concat([X_smote, Y_smote], axis=1)\n",
    "DSM3_train_x = np.array(df_smote.drop(['label'], axis=1))\n",
    "DSM3_train_y = np.array(df_smote['label'].to_list())\n",
    "\n",
    "# bsmote = BorderlineSMOTE(k_neighbors=2, random_state=2022)\n",
    "# X_smote, Y_smote = bsmote.fit_resample(train_X, train_Y)\n",
    "# df_smote = pd.concat([X_smote, Y_smote], axis=1)\n",
    "# DSM3_train_x = np.array(df_smote.drop(['label'], axis=1))\n",
    "# DSM3_train_y = np.array(df_smote['label'].to_list())\n",
    "# \n",
    "# adasyn = ADASYN(n_neighbors=3, random_state=42)\n",
    "# X_smote, Y_smote = adasyn.fit_resample(train_X, train_Y)\n",
    "# df_smote = pd.concat([X_smote, Y_smote], axis=1)\n",
    "# DSM3_train_x = np.array(df_smote.drop(['label'], axis=1))\n",
    "# DSM3_train_y = np.array(df_smote['label'].to_list())\n",
    "# \n",
    "tl = TomekLinks()\n",
    "X_smote, Y_smote = tl.fit_resample(train_X, train_Y)\n",
    "df_smote = pd.concat([X_smote, Y_smote], axis=1)\n",
    "# \n",
    "cc = ClusterCentroids(random_state=22)\n",
    "X_smote, Y_smote = cc.fit_resample(train_X, train_Y)\n",
    "df_smote = pd.concat([X_smote, Y_smote], axis=1)\n",
    "\n",
    "DSM3_train_x = df_smote.drop(['label'], axis=1)\n",
    "DSM3_train_y = df_smote['label'].to_list()\n",
    "print(df_smote.groupby('label').count())"
   ]
  },
  {
   "cell_type": "code",
   "execution_count": 94,
   "id": "30f209cb-1c03-426b-9768-148e40a2da99",
   "metadata": {
    "tags": []
   },
   "outputs": [
    {
     "data": {
      "text/html": [
       "<div>\n",
       "<style scoped>\n",
       "    .dataframe tbody tr th:only-of-type {\n",
       "        vertical-align: middle;\n",
       "    }\n",
       "\n",
       "    .dataframe tbody tr th {\n",
       "        vertical-align: top;\n",
       "    }\n",
       "\n",
       "    .dataframe thead th {\n",
       "        text-align: right;\n",
       "    }\n",
       "</style>\n",
       "<table border=\"1\" class=\"dataframe\">\n",
       "  <thead>\n",
       "    <tr style=\"text-align: right;\">\n",
       "      <th></th>\n",
       "      <th>pid</th>\n",
       "      <th>label</th>\n",
       "      <th>glszm_SmallAreaEmphasis_logarithm2</th>\n",
       "      <th>glcm_InverseVariance_exponential2</th>\n",
       "      <th>glrlm_ShortRunLowGrayLevelEmphasis_square4</th>\n",
       "      <th>glszm_GrayLevelNonUniformity_wavelet-HHH2</th>\n",
       "      <th>glcm_Correlation_log-sigma-3-0-mm-3D2</th>\n",
       "      <th>glszm_ZoneEntropy_exponential4</th>\n",
       "      <th>firstorder_Skewness_logarithm2</th>\n",
       "    </tr>\n",
       "  </thead>\n",
       "  <tbody>\n",
       "    <tr>\n",
       "      <th>0</th>\n",
       "      <td>1</td>\n",
       "      <td>1</td>\n",
       "      <td>-0.082571</td>\n",
       "      <td>-1.467897</td>\n",
       "      <td>-0.371897</td>\n",
       "      <td>-0.403232</td>\n",
       "      <td>-0.163733</td>\n",
       "      <td>-0.537051</td>\n",
       "      <td>-0.044727</td>\n",
       "    </tr>\n",
       "    <tr>\n",
       "      <th>1</th>\n",
       "      <td>2</td>\n",
       "      <td>0</td>\n",
       "      <td>0.343019</td>\n",
       "      <td>1.377483</td>\n",
       "      <td>-0.326643</td>\n",
       "      <td>2.612101</td>\n",
       "      <td>0.663478</td>\n",
       "      <td>0.046500</td>\n",
       "      <td>-1.606117</td>\n",
       "    </tr>\n",
       "    <tr>\n",
       "      <th>2</th>\n",
       "      <td>3</td>\n",
       "      <td>0</td>\n",
       "      <td>1.248603</td>\n",
       "      <td>0.698196</td>\n",
       "      <td>-0.326643</td>\n",
       "      <td>-0.536871</td>\n",
       "      <td>-2.005267</td>\n",
       "      <td>0.046500</td>\n",
       "      <td>-0.960588</td>\n",
       "    </tr>\n",
       "    <tr>\n",
       "      <th>3</th>\n",
       "      <td>4</td>\n",
       "      <td>1</td>\n",
       "      <td>0.044844</td>\n",
       "      <td>-0.316359</td>\n",
       "      <td>-1.180298</td>\n",
       "      <td>0.074876</td>\n",
       "      <td>0.596528</td>\n",
       "      <td>-0.746848</td>\n",
       "      <td>1.090658</td>\n",
       "    </tr>\n",
       "    <tr>\n",
       "      <th>4</th>\n",
       "      <td>5</td>\n",
       "      <td>1</td>\n",
       "      <td>-1.067449</td>\n",
       "      <td>2.091546</td>\n",
       "      <td>0.837405</td>\n",
       "      <td>-0.577231</td>\n",
       "      <td>0.388151</td>\n",
       "      <td>1.330975</td>\n",
       "      <td>-2.159078</td>\n",
       "    </tr>\n",
       "  </tbody>\n",
       "</table>\n",
       "</div>"
      ],
      "text/plain": [
       "   pid  label  glszm_SmallAreaEmphasis_logarithm2  \\\n",
       "0    1      1                           -0.082571   \n",
       "1    2      0                            0.343019   \n",
       "2    3      0                            1.248603   \n",
       "3    4      1                            0.044844   \n",
       "4    5      1                           -1.067449   \n",
       "\n",
       "   glcm_InverseVariance_exponential2  \\\n",
       "0                          -1.467897   \n",
       "1                           1.377483   \n",
       "2                           0.698196   \n",
       "3                          -0.316359   \n",
       "4                           2.091546   \n",
       "\n",
       "   glrlm_ShortRunLowGrayLevelEmphasis_square4  \\\n",
       "0                                   -0.371897   \n",
       "1                                   -0.326643   \n",
       "2                                   -0.326643   \n",
       "3                                   -1.180298   \n",
       "4                                    0.837405   \n",
       "\n",
       "   glszm_GrayLevelNonUniformity_wavelet-HHH2  \\\n",
       "0                                  -0.403232   \n",
       "1                                   2.612101   \n",
       "2                                  -0.536871   \n",
       "3                                   0.074876   \n",
       "4                                  -0.577231   \n",
       "\n",
       "   glcm_Correlation_log-sigma-3-0-mm-3D2  glszm_ZoneEntropy_exponential4  \\\n",
       "0                              -0.163733                       -0.537051   \n",
       "1                               0.663478                        0.046500   \n",
       "2                              -2.005267                        0.046500   \n",
       "3                               0.596528                       -0.746848   \n",
       "4                               0.388151                        1.330975   \n",
       "\n",
       "   firstorder_Skewness_logarithm2  \n",
       "0                       -0.044727  \n",
       "1                       -1.606117  \n",
       "2                       -0.960588  \n",
       "3                        1.090658  \n",
       "4                       -2.159078  "
      ]
     },
     "execution_count": 94,
     "metadata": {},
     "output_type": "execute_result"
    }
   ],
   "source": [
    "# external test\n",
    "DSM_test_external = pd.read_csv(os.path.join(testdir, 'DSM_test_external.csv'))\n",
    "DSM3_extest_y = DSM_test_external['label']\n",
    "DSM3_extest_x = DSM_test_external.drop(Dtag_cols, axis=1)\n",
    "DSM_test_external.head()"
   ]
  },
  {
   "cell_type": "code",
   "execution_count": 95,
   "id": "36e71239-90dd-4079-ab2d-ae4f44dbf7b0",
   "metadata": {
    "tags": []
   },
   "outputs": [
    {
     "name": "stdout",
     "output_type": "stream",
     "text": [
      "Fitting 5 folds for each of 2500 candidates, totalling 12500 fits\n",
      "{'C': 0.1, 'gamma': 0.12332653061224491, 'probability': True}\n"
     ]
    }
   ],
   "source": [
    "# Search optimal hyperparameter\n",
    "random_regression_seed=np.random.randint(low=1,high=230)\n",
    "\n",
    "C_range = np.linspace(0.1,20,50)#[0.001, 0.01, 0.1, 1.0, 10, 100, 1000] # default=1.0\n",
    "# kernal_range = ['rbf', 'linear', 'sigmoid', 'poly']\n",
    "gamma_range = np.linspace(0.001, 1,50)#[0.001, 0.0001]\n",
    "\n",
    "hp_range={#'kernal':kernal_range,\n",
    "          'C':C_range,\n",
    "          'gamma':gamma_range,\n",
    "          'probability': [True]\n",
    "}\n",
    "# Random search\n",
    "model_test_base = SVC()\n",
    "model_test_grid = GridSearchCV(estimator=model_test_base,\n",
    "                                                   param_grid=hp_range,\n",
    "                                                   n_jobs=-1,\n",
    "                                                   cv=5,\n",
    "                                                   verbose=1,\n",
    "                                                   scoring='balanced_accuracy'\n",
    "                                                   #scoring='neg_root_mean_squared_error',\n",
    "                                                   )\n",
    "model_test_grid.fit(DSM3_train_x, DSM3_train_y)\n",
    "\n",
    "best_SVM_DSM3 = model_test_grid.best_params_\n",
    "pprint(best_SVM_DSM3)"
   ]
  },
  {
   "cell_type": "code",
   "execution_count": 96,
   "id": "0bfc65d0-7a90-4bff-acef-09f160a0904e",
   "metadata": {},
   "outputs": [
    {
     "name": "stdout",
     "output_type": "stream",
     "text": [
      "0.6714285714285714\n"
     ]
    },
    {
     "data": {
      "text/plain": [
       "['/media/tx-deepocean/Data/2022/chongfu1/Model/Train/Model/SVM_DSM3.model']"
      ]
     },
     "execution_count": 96,
     "metadata": {},
     "output_type": "execute_result"
    }
   ],
   "source": [
    "# Build RF regression model with optimal hyperparameters\n",
    "DSM3=model_test_grid.best_estimator_\n",
    "# Predict test set data\n",
    "score = DSM3.score(DSM3_test_x, DSM3_test_y)\n",
    "print(score)\n",
    "joblib.dump(DSM3, os.path.join(modeldir, DSM3_model))"
   ]
  },
  {
   "cell_type": "code",
   "execution_count": 97,
   "id": "814a37bf-69a4-4249-8e3b-85387df3307d",
   "metadata": {},
   "outputs": [
    {
     "data": {
      "text/plain": [
       "{'accuracy': 0.6714285714285714,\n",
       " 'recall': 0.717391304347826,\n",
       " 'precision': 0.7674418604651163,\n",
       " 'f1': 0.7415730337078652,\n",
       " 'auc': 0.3528079710144928,\n",
       " 'specificity': 0.5833333333333334}"
      ]
     },
     "execution_count": 97,
     "metadata": {},
     "output_type": "execute_result"
    }
   ],
   "source": [
    "model= joblib.load(os.path.join(modeldir, DSM3_model)) \n",
    "predict_label = model.predict(DSM3_test_x)#, probability=True) #预测的标签\n",
    "predict_score = model.predict_proba(DSM3_test_x)#得到标签0 (y_predict[:,0])和1 (y_predict[:,1])对应的概率\n",
    "label = DSM3_test_y  #真实标签\n",
    "eva_dic = classification_evaluation(label, predict_label, predict_score[:,1])\n",
    "eva_dic"
   ]
  },
  {
   "cell_type": "code",
   "execution_count": 98,
   "id": "2ad22242-6f24-41be-b13e-fda7b963027e",
   "metadata": {
    "tags": []
   },
   "outputs": [
    {
     "data": {
      "text/plain": [
       "{'accuracy': 0.5777777777777777,\n",
       " 'recall': 0.6153846153846154,\n",
       " 'precision': 0.64,\n",
       " 'f1': 0.6274509803921569,\n",
       " 'auc': 0.4412955465587045,\n",
       " 'specificity': 0.5263157894736842}"
      ]
     },
     "execution_count": 98,
     "metadata": {},
     "output_type": "execute_result"
    }
   ],
   "source": [
    "model= joblib.load(os.path.join(modeldir, DSM3_model)) \n",
    "predict_label = model.predict(DSM3_extest_x) #预测的标签\n",
    "predict_score = model.predict_proba(DSM3_extest_x)#得到标签0 (y_predict[:,0])和1 (y_predict[:,1])对应的概率\n",
    "label = DSM3_extest_y  #真实标签\n",
    "eva_dic = classification_evaluation(label, predict_label, predict_score[:,1])\n",
    "eva_dic"
   ]
  },
  {
   "cell_type": "markdown",
   "id": "167e8f33-9bda-498a-8b67-0dd524051a3f",
   "metadata": {},
   "source": [
    "### ASM"
   ]
  },
  {
   "cell_type": "code",
   "execution_count": 336,
   "id": "fb8ea1dd-89e2-4ee8-983b-c73497fdfef4",
   "metadata": {},
   "outputs": [],
   "source": [
    "# Load the ASM features.\n",
    "Atag_cols = ['pid', 'label']\n",
    "ASM_train = pd.read_csv(os.path.join(traindir, 'ASM_mrmr_feas.csv')) \n",
    "ASM_test = pd.read_csv(os.path.join(testdir, 'ASM_test.csv')) \n",
    "# Train data\n",
    "standardscaler = StandardScaler()\n",
    "ASM_train = ASM_train.sample(frac=1.0, random_state=random_state) \n",
    "ASM_train_y = ASM_train['label'] \n",
    "ASM_train_x = ASM_train.drop(Atag_cols, axis=1) \n",
    "ASM_train_x = standardscaler.fit_transform(ASM_train_x) \n",
    "# Test data\n",
    "ASM_test = ASM_test.sample(frac=1.0, random_state=random_state)\n",
    "ASM_test_y = ASM_test['label']\n",
    "ASM_test_x =ASM_test.drop(Dtag_cols, axis=1)\n",
    "ASM_test_x = standardscaler.fit_transform(ASM_test_x)\n",
    "\n",
    "ASM_model = f'SVM_ASM.model'"
   ]
  },
  {
   "cell_type": "code",
   "execution_count": 358,
   "id": "c20ffa43-e438-4728-8d3c-c71fb08579c6",
   "metadata": {
    "tags": []
   },
   "outputs": [
    {
     "name": "stdout",
     "output_type": "stream",
     "text": [
      "Fitting 5 folds for each of 500 candidates, totalling 2500 fits\n",
      "{'C': 0.5061224489795918, 'gamma': 0.020000000000000004, 'probability': True}\n"
     ]
    }
   ],
   "source": [
    "# Search optimal hyperparameter\n",
    "random_regression_seed=np.random.randint(low=1,high=230)\n",
    "\n",
    "C_range = np.linspace(0.1,20,50)#[0.001, 0.01, 0.1, 1.0, 10, 100, 1000] # default=1.0\n",
    "# kernal_range = ['rbf', 'linear', 'sigmoid', 'poly']\n",
    "gamma_range = np.linspace(0.01, 0.1,10)#[0.001, 0.0001]\n",
    "\n",
    "hp_range={#'kernal':kernal_range,\n",
    "          'C':C_range,\n",
    "          'gamma':gamma_range,\n",
    "          'probability': [True]\n",
    "}\n",
    "# Random search\n",
    "model_test_base = SVC()\n",
    "model_test_grid = GridSearchCV(estimator=model_test_base,\n",
    "                                                   param_grid=hp_range,\n",
    "                                                   n_jobs=-1,\n",
    "                                                   cv=5,\n",
    "                                                   verbose=1,\n",
    "                                                   scoring='accuracy'\n",
    "                                                   )\n",
    "model_test_grid.fit(ASM_train_x, ASM_train_y)\n",
    "\n",
    "best_SVM_ASM = model_test_grid.best_params_\n",
    "pprint(best_SVM_ASM)"
   ]
  },
  {
   "cell_type": "code",
   "execution_count": 359,
   "id": "b588789e-3c73-4048-869f-923c13a7a240",
   "metadata": {},
   "outputs": [
    {
     "name": "stdout",
     "output_type": "stream",
     "text": [
      "0.7285714285714285\n"
     ]
    },
    {
     "data": {
      "text/plain": [
       "['/media/tx-deepocean/Data/2022/chongfu1/Model/Train/Model/SVM_ASM.model']"
      ]
     },
     "execution_count": 359,
     "metadata": {},
     "output_type": "execute_result"
    }
   ],
   "source": [
    "# Build RF regression model with optimal hyperparameters\n",
    "ASM=model_test_grid.best_estimator_\n",
    "# Predict test set data\n",
    "score = ASM.score(ASM_test_x, ASM_test_y)\n",
    "print(score)\n",
    "joblib.dump(ASM, os.path.join(modeldir, ASM_model))"
   ]
  },
  {
   "cell_type": "code",
   "execution_count": 360,
   "id": "3c814608-a560-4459-a942-e25e9d9c7d38",
   "metadata": {},
   "outputs": [
    {
     "data": {
      "text/plain": [
       "{'accuracy': 0.7285714285714285,\n",
       " 'recall': 0.9782608695652174,\n",
       " 'precision': 0.7142857142857143,\n",
       " 'f1': 0.8256880733944955,\n",
       " 'auc': 0.7182971014492754,\n",
       " 'specificity': 0.25}"
      ]
     },
     "execution_count": 360,
     "metadata": {},
     "output_type": "execute_result"
    }
   ],
   "source": [
    "model= joblib.load(os.path.join(modeldir, ASM_model)) \n",
    "predict_label = model.predict(ASM_test_x)#, probability=True) #预测的标签\n",
    "predict_score = model.predict_proba(ASM_test_x)#得到标签0 (y_predict[:,0])和1 (y_predict[:,1])对应的概率\n",
    "label = ASM_test_y  #真实标签\n",
    "eva_dic = classification_evaluation(label, predict_label, predict_score[:,1])\n",
    "eva_dic"
   ]
  },
  {
   "cell_type": "markdown",
   "id": "75cd2f68-8cbc-44cd-950a-07f9e6e01885",
   "metadata": {},
   "source": [
    "### Clinical"
   ]
  },
  {
   "cell_type": "code",
   "execution_count": 31,
   "id": "40f9bcfb-41e8-424e-81be-881e9b01b426",
   "metadata": {},
   "outputs": [],
   "source": [
    "# Load the Clinical features.\n",
    "Atag_cols = ['pid', 'label']\n",
    "Clinical_train = pd.read_csv(os.path.join(traindir, 'clinical_lasso_sel.csv')) \n",
    "Clinical_test = pd.read_csv(os.path.join(testdir, 'clinical_test.csv')) \n",
    "# Train data\n",
    "standardscaler = StandardScaler()\n",
    "Clinical_train = Clinical_train.sample(frac=1.0, random_state=random_state) \n",
    "Clinical_train_y = Clinical_train['label'] \n",
    "Clinical_train_x = Clinical_train.drop(Atag_cols, axis=1) \n",
    "#Clinical_train_x = standardscaler.fit_transform(Clinical_train_x) \n",
    "# Test data\n",
    "#Clinical_test = Clinical_test.sample(frac=1.0, random_state=random_state)\n",
    "Clinical_test_y = Clinical_test['label']\n",
    "Clinical_test_x =Clinical_test.drop(Dtag_cols, axis=1)\n",
    "#Clinical_test_x = standardscaler.fit_transform(Clinical_test_x)\n",
    "\n",
    "Clinical_model = f'SVM_Clinical.model'"
   ]
  },
  {
   "cell_type": "code",
   "execution_count": 32,
   "id": "2e0afd24-0fa6-4d6e-bcbd-152b113ac7fa",
   "metadata": {},
   "outputs": [
    {
     "name": "stdout",
     "output_type": "stream",
     "text": [
      "Fitting 3 folds for each of 500 candidates, totalling 1500 fits\n",
      "{'C': 20.0, 'gamma': 0.07, 'probability': True}\n"
     ]
    }
   ],
   "source": [
    "# Search optimal hyperparameter\n",
    "random_regression_seed=np.random.randint(low=1,high=230)\n",
    "\n",
    "C_range = np.linspace(0.1,20,50)#[0.001, 0.01, 0.1, 1.0, 10, 100, 1000] # default=1.0\n",
    "# kernal_range = ['rbf', 'linear', 'sigmoid', 'poly']\n",
    "gamma_range = np.linspace(0.01, 0.1,10)#[0.001, 0.0001]\n",
    "\n",
    "hp_range={#'kernal':kernal_range,\n",
    "          'C':C_range,\n",
    "          'gamma':gamma_range,\n",
    "          'probability': [True]\n",
    "}\n",
    "# Random search\n",
    "model_test_base = SVC()\n",
    "model_test_grid = GridSearchCV(estimator=model_test_base,\n",
    "                                                   param_grid=hp_range,\n",
    "                                                   n_jobs=-1,\n",
    "                                                   cv=3,\n",
    "                                                   verbose=1,\n",
    "                                                   scoring='balanced_accuracy'\n",
    "                                                   )\n",
    "model_test_grid.fit(Clinical_train_x, Clinical_train_y)\n",
    "\n",
    "best_SVM_Clinical = model_test_grid.best_params_\n",
    "pprint(best_SVM_Clinical)"
   ]
  },
  {
   "cell_type": "code",
   "execution_count": 33,
   "id": "367f534d-65d8-456c-a09e-60a4106153de",
   "metadata": {},
   "outputs": [
    {
     "name": "stdout",
     "output_type": "stream",
     "text": [
      "0.8571428571428571\n"
     ]
    },
    {
     "data": {
      "text/plain": [
       "['/media/tx-deepocean/Data/2022/chongfu1/Model/Train/Model/SVM_Clinical.model']"
      ]
     },
     "execution_count": 33,
     "metadata": {},
     "output_type": "execute_result"
    }
   ],
   "source": [
    "# Build RF regression model with optimal hyperparameters\n",
    "Clinical=model_test_grid.best_estimator_\n",
    "# Predict test set data\n",
    "score = Clinical.score(Clinical_test_x, Clinical_test_y)\n",
    "print(score)\n",
    "joblib.dump(Clinical, os.path.join(modeldir, Clinical_model))"
   ]
  },
  {
   "cell_type": "code",
   "execution_count": 34,
   "id": "cb8c9105-89a0-40b2-9820-cdd63349805f",
   "metadata": {},
   "outputs": [
    {
     "data": {
      "text/plain": [
       "{'accuracy': 0.8571428571428571,\n",
       " 'recall': 0.8695652173913043,\n",
       " 'precision': 0.9090909090909091,\n",
       " 'f1': 0.888888888888889,\n",
       " 'auc': 0.8885869565217391,\n",
       " 'specificity': 0.8333333333333334}"
      ]
     },
     "execution_count": 34,
     "metadata": {},
     "output_type": "execute_result"
    }
   ],
   "source": [
    "model= joblib.load(os.path.join(modeldir, Clinical_model)) \n",
    "predict_label = model.predict(Clinical_test_x)#, probability=True) #预测的标签\n",
    "predict_score = model.predict_proba(Clinical_test_x)#得到标签0 (y_predict[:,0])和1 (y_predict[:,1])对应的概率\n",
    "label = Clinical_test_y  #真实标签\n",
    "eva_dic = classification_evaluation(label, predict_label, predict_score[:,1])\n",
    "eva_dic"
   ]
  },
  {
   "cell_type": "markdown",
   "id": "14effb9e-d9f4-4c52-9ba0-f7c34f11bb53",
   "metadata": {},
   "source": [
    "### 绘制混淆矩阵\n",
    "\n",
    "有些概念比较混淆，例如准确率、精准率等。\n",
    "\n",
    "准确率(accurary)：（正确预测0的个数+正确预测1的个数）/ 所有样本数\n",
    "\n",
    "精确率(precision)=查准率：预测为1中真实为1的样本数 / 预测为1的样本数\n",
    "\n",
    "真阳性率(True Positive Rate, TPR)=灵敏度(sensitivity)=敏感度=召回率(recall)=标签1的查全率：正确预测1的个数 / 实际1的样本数\n",
    "\n",
    "假阳性率(False Positive Rate, FPR)=1-真阴率 ：预测为0中真实为1的样本数 / 实际0的样本数\n",
    "\n",
    "真阴性率(True Negative Rate,TNR)=特异度(specificity)=标签0的查全率：正确预测0的个数 / 实际0的样本数"
   ]
  },
  {
   "cell_type": "markdown",
   "id": "9f508d75-3c69-4849-a464-700ee9c88c7b",
   "metadata": {},
   "source": [
    "## DSM confusion_matrix"
   ]
  },
  {
   "cell_type": "code",
   "execution_count": 247,
   "id": "5a533b75-5d13-4325-b79c-f27cd9028d9c",
   "metadata": {},
   "outputs": [],
   "source": [
    "import matplotlib as mpl\n",
    "import matplotlib.pyplot as plt\n",
    "from sklearn.metrics import roc_curve, auc  \n",
    "from sklearn.metrics import roc_auc_score\n",
    "from sklearn.model_selection import cross_val_score,train_test_split\n",
    "import matplotlib.ticker as ticker\n",
    "from matplotlib.ticker import MultipleLocator, FormatStrFormatter, FuncFormatter, ScalarFormatter\n",
    "import numpy as np\n",
    "import pandas as pd\n",
    "\n",
    "# Set the global font same as the sci-paper.\n",
    "plt.rc('font',family='Times New Roman')\n",
    "# 修改公式中默认字体\n",
    "plt.rcParams['mathtext.default'] = 'regular'\n",
    "# Set the figure size\n",
    "plt.rcParams['figure.figsize'] = (12, 10) \n",
    "plt.rcParams['axes.labelsize'] = 42\n",
    "\n",
    "mpl.rcParams['pdf.fonttype'] = 42\n",
    "mpl.rcParams['ps.fonttype'] = 42\n",
    "mpl.rcParams['font.family'] = 'Times New Roman'\n",
    "mpl.rcParams['lines.color'] = 'r'\n",
    "\n",
    "# 定义字体font1\n",
    "font1 = {'family': 'Times New Roman',\n",
    "'weight': 'normal',\n",
    "'size': 15,\n",
    "}\n",
    "\n",
    "\n",
    "from math import sqrt\n",
    "\n",
    "# Calculate the confidence interval of the \n",
    "def roc_auc_ci(y_true, y_score, positive=1):\n",
    "    AUC = roc_auc_score(y_true, y_score)\n",
    "    N1 = sum(y_true == positive)\n",
    "    N2 = sum(y_true != positive)\n",
    "    Q1 = AUC / (2 - AUC)\n",
    "    Q2 = 2*AUC**2 / (1 + AUC)\n",
    "    SE_AUC = sqrt((AUC*(1 - AUC) + (N1 - 1)*(Q1 - AUC**2) + (N2 - 1)*(Q2 - AUC**2)) / (N1*N2))\n",
    "    lower = AUC - 1.96*SE_AUC\n",
    "    upper = AUC + 1.96*SE_AUC\n",
    "    if lower < 0:\n",
    "        lower = 0\n",
    "    if upper > 1:\n",
    "        upper = 1\n",
    "    return (lower, upper)\n",
    "\n",
    "# Define the ROC Plot on the subplot(ax).\n",
    "def roc_plot_inside(y_true, y_score, label, ax, positive=1):\n",
    "    y_true = np.array(y_true)\n",
    "    y_score = np.array(y_score)\n",
    "    fpr,tpr,threshold = roc_curve(y_true, y_score, pos_label=positive) ###计算真正率和假                            \n",
    "    roc_auc = auc(fpr,tpr) ###计算auc的值\n",
    "    roc_auc_low, roc_auc_up = roc_auc_ci(y_true, y_score, positive)\n",
    "    if roc_auc_up > 1.0:\n",
    "        roc_auc_up = 1.0\n",
    "    ax.plot(fpr, tpr, \n",
    "             lw=2, label='{3} (AUC={0:0.3f},95%CI:({1:0.3f}-{2:0.3f}))'.format(roc_auc,roc_auc_low,roc_auc_up,label)) ###假正率为横坐标，真正率为纵坐标做曲线\n",
    "    \n",
    "    \n",
    "# 计算混淆矩阵\n",
    "from sklearn.metrics import confusion_matrix    #导入计算混淆矩阵的包\n",
    "from sklearn.metrics import precision_score, recall_score, f1_score\n",
    "from sklearn.metrics import accuracy_score\n",
    "from pylab import mpl\n",
    "mpl.rcParams['font.family'] = 'Times New Roman'\n",
    "import seaborn as sns #导入包\n",
    "\n",
    "# To draw the  confusion-matrix based on the truth and predicted label.\n",
    "# out_fig: the output fig name(include path);\n",
    "def confusion_matrix_plot(true_label, predict, out_fig, fig_title):\n",
    "    C = confusion_matrix(true_label, predict)\n",
    "    fig, ax = plt.subplots(figsize=(12,10))\n",
    "    df=pd.DataFrame(C)\n",
    "    sns.heatmap(df, fmt='g', annot=True, cmap='Blues', ax=ax, annot_kws={\"size\":35})\n",
    "    ax.set_xlabel('Predict',fontsize=42, color='k') #x轴label的文本和字体大小\n",
    "    ax.set_ylabel('True',fontsize=42, color='k') #y轴label的文本和字体大小\n",
    "    ax.tick_params(labelsize=35)\n",
    "    #设置colorbar的刻度字体大小\n",
    "    cax = plt.gcf().axes[-1] \n",
    "    cax.tick_params(labelsize=35)\n",
    "    #设置colorbar的label文本和字体大小\n",
    "    cbar = ax.collections[0].colorbar\n",
    "    # cbar.set_label(r'$NMI$',fontdict=font1)\n",
    "    ax.set_title(fig_title, fontsize=42)\n",
    "    plt.savefig(out_fig,dpi=300, bbox_inches='tight')\n",
    "    \n",
    "def calcu_evaluation(true_label, predict):\n",
    "    C = confusion_matrix(true_label, predict)\n",
    "    TP = C[1,1]\n",
    "    FP = C[0,1]\n",
    "    TN = C[0,0]\n",
    "    FN = C[1,0]\n",
    "    sensitivity = TP/(TP+FN)\n",
    "    specificity = TN/(TN+FP)\n",
    "    accuracy = (TP+TN)/(TP+TN+FP+FN)\n",
    "    return sensitivity, specificity, accuracy"
   ]
  },
  {
   "cell_type": "code",
   "execution_count": 248,
   "id": "118bb74e-6f78-49eb-b199-b3c85765971e",
   "metadata": {},
   "outputs": [
    {
     "name": "stdout",
     "output_type": "stream",
     "text": [
      "sensitivity, sepcificity and accuracy are (0.9565217391304348, 0.25, 0.7142857142857143), respectively\n"
     ]
    },
    {
     "data": {
      "image/png": "[encoded data removed]",
      "text/plain": [
       "<Figure size 864x720 with 2 Axes>"
      ]
     },
     "metadata": {
      "needs_background": "light"
     },
     "output_type": "display_data"
    }
   ],
   "source": [
    "model= joblib.load(os.path.join(modeldir, DSM3_model)) \n",
    "y_pred = model.predict(DSM3_test_x)#, probability=True) #预测的标签\n",
    "y_score = model.predict_proba(DSM3_test_x)#得到标签0 (y_predict[:,0])和1 (y_predict[:,1])对应的概率\n",
    "y_true = DSM3_test_y  #真实标签\n",
    "confusion_matrix_plot(y_true, y_pred,'./IMG/SVM_DSM3_confusion.png', 'SVM:T1CE+T2WI')\n",
    "print(f'sensitivity, sepcificity and accuracy are {calcu_evaluation(y_true, y_pred)}, respectively')"
   ]
  },
  {
   "cell_type": "markdown",
   "id": "794fa01c-4f8a-496b-ad43-7fe2a3477d52",
   "metadata": {},
   "source": [
    "### 绘制ROC图表"
   ]
  },
  {
   "cell_type": "code",
   "execution_count": 82,
   "id": "614e70de-00b7-4206-a581-6b064d4f6157",
   "metadata": {},
   "outputs": [],
   "source": [
    "model_forest = joblib.load(os.path.join(modeldir, 'model_forest0.model')) #这是自己训练模型，记得替换自己的。\n",
    "predict_label = model_forest.predict(rforest_test_x) #预测的标签\n",
    "y_predict = model_forest.predict_proba(rforest_test_x)#得到标签0 (y_predict[:,0])和1 (y_predict[:,1])对应的概率\n",
    "label = rforest_test_y.to_list()  #真实标签"
   ]
  },
  {
   "cell_type": "code",
   "execution_count": 92,
   "id": "e3f7e977-1fd6-48ae-81d7-f635e4c2891a",
   "metadata": {},
   "outputs": [
    {
     "data": {
      "text/plain": [
       "<Figure size 864x720 with 0 Axes>"
      ]
     },
     "metadata": {},
     "output_type": "display_data"
    },
    {
     "data": {
      "image/png": "[encoded data removed]",
      "text/plain": [
       "<Figure size 864x720 with 1 Axes>"
      ]
     },
     "metadata": {
      "needs_background": "light"
     },
     "output_type": "display_data"
    }
   ],
   "source": [
    "plt.clf()\n",
    "fig = plt.figure()\n",
    "\n",
    "# Set offset for margin\n",
    "left, bottom, width, height = 0.15, 0.15, 0.8, 0.8\n",
    "ax = fig.add_axes([left,bottom,width,height])\n",
    "ax.set_xlim(-0.05, 1.05)\n",
    "ax.set_ylim(-0.05, 1.05)\n",
    "\n",
    "roc_plot_inside(label, y_predict[:,0], 'RandomForest negative', ax, positive=0)\n",
    "roc_plot_inside(label, y_predict[:,1], 'RandomForest positive', ax, positive=1)\n",
    "ax.plot([0, 1], [0, 1], lw=2, color='grey', linestyle='--')\n",
    "# Set width of retangle\n",
    "ax.spines['left'].set_linewidth(2)\n",
    "ax.spines['right'].set_linewidth(2)\n",
    "ax.spines['top'].set_linewidth(2)\n",
    "ax.spines['bottom'].set_linewidth(2)\n",
    "ax.tick_params(labelsize=40)\n",
    "\n",
    "# Set x, y-axis label and fontsize.\n",
    "ax.set_ylabel('Sensitivity')\n",
    "ax.set_xlabel('1-Specificity')\n",
    "ax.xaxis.label.set_size(40)\n",
    "ax.yaxis.label.set_size(40)\n",
    "\n",
    "# Set ticks\n",
    "ax.tick_params(labelsize=35)\n",
    "ax.tick_params(which='major',length=10)\n",
    "ax.tick_params(which='minor',length=5)\n",
    "xinter = 0.2\n",
    "yinter = 0.2\n",
    "xmajorLocator   = MultipleLocator(xinter) #将x主刻度标签设置为20的倍数\n",
    "xmajorFormatter = FormatStrFormatter('%5.1f') #设置x轴标签文本的格式\n",
    "xminorLocator   = MultipleLocator(xinter/5) #将x轴次刻度标签设置为5的倍数\n",
    "ymajorLocator   = MultipleLocator(yinter) #将y轴主刻度标签设置为0.2的倍数\n",
    "ymajorFormatter = FormatStrFormatter('%5.1f') #设置y轴标签文本的格式\n",
    "yminorLocator   = MultipleLocator(yinter/5) #将此y轴次刻度标签设置为0.1的倍数\n",
    "ax.xaxis.set_major_locator(xmajorLocator)\n",
    "ax.xaxis.set_major_formatter(xmajorFormatter)\n",
    "ax.yaxis.set_major_locator(ymajorLocator)\n",
    "ax.yaxis.set_major_formatter(ScalarFormatter(useMathText=True))\n",
    "ax.ticklabel_format(style='sci', scilimits=(-1,2), axis='y')\n",
    "#显示次刻度标签的位置,没有标签文本\n",
    "ax.xaxis.set_minor_locator(xminorLocator)\n",
    "ax.yaxis.set_minor_locator(yminorLocator)\n",
    "ax.yaxis.offsetText.set_fontsize(30)\n",
    "\n",
    "legend = ax.legend(loc = 0, prop=font1)#, prop = font1, framealpha=1.0)\n",
    "frame = legend.get_frame()\n",
    "frame.set_alpha(0)\n",
    "frame.set_facecolor('none') # 设置图例legend背景透明\n",
    "fig.savefig(\"./Data/IMG/ROC.png\", dpi=300)"
   ]
  },
  {
   "cell_type": "markdown",
   "id": "db1618b4-f47a-4a7a-a41b-61e293ed541a",
   "metadata": {},
   "source": [
    "### 绘制PR curve"
   ]
  },
  {
   "cell_type": "code",
   "execution_count": 90,
   "id": "8dbce76c-8e41-4b47-9f8e-8df23154a599",
   "metadata": {},
   "outputs": [
    {
     "name": "stderr",
     "output_type": "stream",
     "text": [
      "/home/tx-deepocean/anaconda3/envs/python3.7/lib/python3.7/site-packages/sklearn/utils/deprecation.py:87: FutureWarning: Function plot_precision_recall_curve is deprecated; Function `plot_precision_recall_curve` is deprecated in 1.0 and will be removed in 1.2. Use one of the class methods: PrecisionRecallDisplay.from_predictions or PrecisionRecallDisplay.from_estimator.\n",
      "  warnings.warn(msg, category=FutureWarning)\n"
     ]
    },
    {
     "data": {
      "text/plain": [
       "<sklearn.metrics._plot.precision_recall_curve.PrecisionRecallDisplay at 0x7fe7f277bf10>"
      ]
     },
     "execution_count": 90,
     "metadata": {},
     "output_type": "execute_result"
    },
    {
     "data": {
      "image/png": "[encoded data removed]",
      "text/plain": [
       "<Figure size 864x720 with 1 Axes>"
      ]
     },
     "metadata": {
      "needs_background": "light"
     },
     "output_type": "display_data"
    }
   ],
   "source": [
    "#绘制PR曲线，一行代码\n",
    "from sklearn.metrics import plot_precision_recall_curve\n",
    "plot_precision_recall_curve(model_forest, rforest_test_x, rforest_test_y,name='PR',pos_label=1)"
   ]
  },
  {
   "cell_type": "code",
   "execution_count": 91,
   "id": "80906efa-6ef9-45dd-804a-1d506d1a4e82",
   "metadata": {},
   "outputs": [
    {
     "data": {
      "text/plain": [
       "<sklearn.metrics._plot.precision_recall_curve.PrecisionRecallDisplay at 0x7fe7e1242690>"
      ]
     },
     "execution_count": 91,
     "metadata": {},
     "output_type": "execute_result"
    },
    {
     "data": {
      "image/png": "[encoded data removed]",
      "text/plain": [
       "<Figure size 864x720 with 1 Axes>"
      ]
     },
     "metadata": {
      "needs_background": "light"
     },
     "output_type": "display_data"
    }
   ],
   "source": [
    "from sklearn.metrics import PrecisionRecallDisplay\n",
    "PrecisionRecallDisplay.from_estimator(model_forest, rforest_test_x, rforest_test_y,name='PR',pos_label=1)"
   ]
  },
  {
   "cell_type": "code",
   "execution_count": 95,
   "id": "6a499966-a9b7-4d36-9211-10a093650fac",
   "metadata": {},
   "outputs": [
    {
     "data": {
      "text/plain": [
       "['ConfusionMatrixDisplay',\n",
       " 'DetCurveDisplay',\n",
       " 'DistanceMetric',\n",
       " 'PrecisionRecallDisplay',\n",
       " 'RocCurveDisplay',\n",
       " 'SCORERS',\n",
       " '__all__',\n",
       " '__builtins__',\n",
       " '__cached__',\n",
       " '__doc__',\n",
       " '__file__',\n",
       " '__loader__',\n",
       " '__name__',\n",
       " '__package__',\n",
       " '__path__',\n",
       " '__spec__',\n",
       " '_base',\n",
       " '_classification',\n",
       " '_dist_metrics',\n",
       " '_pairwise_fast',\n",
       " '_plot',\n",
       " '_ranking',\n",
       " '_regression',\n",
       " '_scorer',\n",
       " 'accuracy_score',\n",
       " 'adjusted_mutual_info_score',\n",
       " 'adjusted_rand_score',\n",
       " 'auc',\n",
       " 'average_precision_score',\n",
       " 'balanced_accuracy_score',\n",
       " 'brier_score_loss',\n",
       " 'calinski_harabasz_score',\n",
       " 'check_scoring',\n",
       " 'classification_report',\n",
       " 'cluster',\n",
       " 'cohen_kappa_score',\n",
       " 'completeness_score',\n",
       " 'confusion_matrix',\n",
       " 'consensus_score',\n",
       " 'coverage_error',\n",
       " 'd2_tweedie_score',\n",
       " 'davies_bouldin_score',\n",
       " 'dcg_score',\n",
       " 'det_curve',\n",
       " 'euclidean_distances',\n",
       " 'explained_variance_score',\n",
       " 'f1_score',\n",
       " 'fbeta_score',\n",
       " 'fowlkes_mallows_score',\n",
       " 'get_scorer',\n",
       " 'hamming_loss',\n",
       " 'hinge_loss',\n",
       " 'homogeneity_completeness_v_measure',\n",
       " 'homogeneity_score',\n",
       " 'jaccard_score',\n",
       " 'label_ranking_average_precision_score',\n",
       " 'label_ranking_loss',\n",
       " 'log_loss',\n",
       " 'make_scorer',\n",
       " 'matthews_corrcoef',\n",
       " 'max_error',\n",
       " 'mean_absolute_error',\n",
       " 'mean_absolute_percentage_error',\n",
       " 'mean_gamma_deviance',\n",
       " 'mean_pinball_loss',\n",
       " 'mean_poisson_deviance',\n",
       " 'mean_squared_error',\n",
       " 'mean_squared_log_error',\n",
       " 'mean_tweedie_deviance',\n",
       " 'median_absolute_error',\n",
       " 'multilabel_confusion_matrix',\n",
       " 'mutual_info_score',\n",
       " 'nan_euclidean_distances',\n",
       " 'ndcg_score',\n",
       " 'normalized_mutual_info_score',\n",
       " 'pair_confusion_matrix',\n",
       " 'pairwise',\n",
       " 'pairwise_distances',\n",
       " 'pairwise_distances_argmin',\n",
       " 'pairwise_distances_argmin_min',\n",
       " 'pairwise_distances_chunked',\n",
       " 'pairwise_kernels',\n",
       " 'plot_confusion_matrix',\n",
       " 'plot_det_curve',\n",
       " 'plot_precision_recall_curve',\n",
       " 'plot_roc_curve',\n",
       " 'precision_recall_curve',\n",
       " 'precision_recall_fscore_support',\n",
       " 'precision_score',\n",
       " 'r2_score',\n",
       " 'rand_score',\n",
       " 'recall_score',\n",
       " 'roc_auc_score',\n",
       " 'roc_curve',\n",
       " 'silhouette_samples',\n",
       " 'silhouette_score',\n",
       " 'top_k_accuracy_score',\n",
       " 'v_measure_score',\n",
       " 'zero_one_loss']"
      ]
     },
     "execution_count": 95,
     "metadata": {},
     "output_type": "execute_result"
    }
   ],
   "source": [
    "import sklearn\n",
    "dir(sklearn.metrics)"
   ]
  },
  {
   "cell_type": "code",
   "execution_count": null,
   "id": "85b9148f-c37b-46b7-9462-dccb7254ccda",
   "metadata": {},
   "outputs": [],
   "source": []
  }
 ],
 "metadata": {
  "kernelspec": {
   "display_name": "chongfu1",
   "language": "python",
   "name": "chongfu1"
  },
  "language_info": {
   "codemirror_mode": {
    "name": "ipython",
    "version": 3
   },
   "file_extension": ".py",
   "mimetype": "text/x-python",
   "name": "python",
   "nbconvert_exporter": "python",
   "pygments_lexer": "ipython3",
   "version": "3.7.5"
  }
 },
 "nbformat": 4,
 "nbformat_minor": 5
}
