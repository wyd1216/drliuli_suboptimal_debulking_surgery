{
 "cells": [
  {
   "cell_type": "code",
   "execution_count": 4,
   "id": "34c57e43-f949-4e84-84e7-d338ee8872d0",
   "metadata": {},
   "outputs": [],
   "source": [
    "import pandas as pd"
   ]
  },
  {
   "cell_type": "code",
   "execution_count": 5,
   "id": "05f93b16-86a8-4f10-aa7f-0bc18ef958af",
   "metadata": {},
   "outputs": [],
   "source": [
    "import numpy as np\n",
    "from matplotlib import pyplot as plt\n",
    "import scipy.stats as st\n",
    "from sklearn import metrics\n",
    "\n",
    "class DelongTest():\n",
    "    def __init__(self,preds1,preds2,label,threshold=0.05):\n",
    "        '''\n",
    "        preds1:the output of model1\n",
    "        preds2:the output of model2\n",
    "        label :the actual label\n",
    "        '''\n",
    "        self._preds1=preds1\n",
    "        self._preds2=preds2\n",
    "        self._label=label\n",
    "        self.threshold=threshold\n",
    "        #self._show_result()\n",
    "\n",
    "    def _auc(self,X, Y)->float:\n",
    "        return 1/(len(X)*len(Y)) * sum([self._kernel(x, y) for x in X for y in Y])\n",
    "\n",
    "    def _kernel(self,X, Y)->float:\n",
    "        '''\n",
    "        Mann-Whitney statistic\n",
    "        '''\n",
    "        return .5 if Y==X else int(Y < X)\n",
    "\n",
    "    def _structural_components(self,X, Y)->list:\n",
    "        V10 = [1/len(Y) * sum([self._kernel(x, y) for y in Y]) for x in X]\n",
    "        V01 = [1/len(X) * sum([self._kernel(x, y) for x in X]) for y in Y]\n",
    "        return V10, V01\n",
    "\n",
    "    def _get_S_entry(self,V_A, V_B, auc_A, auc_B)->float:\n",
    "        return 1/(len(V_A)-1) * sum([(a-auc_A)*(b-auc_B) for a,b in zip(V_A, V_B)])\n",
    "    \n",
    "    def _z_score(self,var_A, var_B, covar_AB, auc_A, auc_B):\n",
    "        return (auc_A - auc_B)/((var_A + var_B - 2*covar_AB )**(.5)+ 1e-8)\n",
    "\n",
    "    def _group_preds_by_label(self,preds, actual)->list:\n",
    "        X = [p for (p, a) in zip(preds, actual) if a]\n",
    "        Y = [p for (p, a) in zip(preds, actual) if not a]\n",
    "        return X, Y\n",
    "\n",
    "    def _compute_z_p(self):\n",
    "        X_A, Y_A = self._group_preds_by_label(self._preds1, self._label)\n",
    "        X_B, Y_B = self._group_preds_by_label(self._preds2, self._label)\n",
    "\n",
    "        V_A10, V_A01 = self._structural_components(X_A, Y_A)\n",
    "        V_B10, V_B01 = self._structural_components(X_B, Y_B)\n",
    "\n",
    "        auc_A = self._auc(X_A, Y_A)\n",
    "        auc_B = self._auc(X_B, Y_B)\n",
    "\n",
    "        # Compute entries of covariance matrix S (covar_AB = covar_BA)\n",
    "        var_A = (self._get_S_entry(V_A10, V_A10, auc_A, auc_A) * 1/len(V_A10)+ self._get_S_entry(V_A01, V_A01, auc_A, auc_A) * 1/len(V_A01))\n",
    "        var_B = (self._get_S_entry(V_B10, V_B10, auc_B, auc_B) * 1/len(V_B10)+ self._get_S_entry(V_B01, V_B01, auc_B, auc_B) * 1/len(V_B01))\n",
    "        covar_AB = (self._get_S_entry(V_A10, V_B10, auc_A, auc_B) * 1/len(V_A10)+ self._get_S_entry(V_A01, V_B01, auc_A, auc_B) * 1/len(V_A01))\n",
    "\n",
    "        # Two tailed test\n",
    "        z = self._z_score(var_A, var_B, covar_AB, auc_A, auc_B)\n",
    "        p = st.norm.sf(abs(z))*2\n",
    "\n",
    "        return z,p\n",
    "\n",
    "    def _show_result(self):\n",
    "        z,p=self._compute_z_p()\n",
    "        print(f\"z score = {z:.5f};\\np value = {p:.5f};\")\n",
    "        if p < self.threshold :\n",
    "            print(\"There is a significant difference\")\n",
    "        else:\n",
    "            print(\"There is NO significant difference\")\n"
   ]
  },
  {
   "cell_type": "code",
   "execution_count": 12,
   "id": "a0d6c8ba-b2c4-4b9f-aff0-2ea5d8f76222",
   "metadata": {},
   "outputs": [
    {
     "data": {
      "text/html": [
       "<div>\n",
       "<style scoped>\n",
       "    .dataframe tbody tr th:only-of-type {\n",
       "        vertical-align: middle;\n",
       "    }\n",
       "\n",
       "    .dataframe tbody tr th {\n",
       "        vertical-align: top;\n",
       "    }\n",
       "\n",
       "    .dataframe thead th {\n",
       "        text-align: right;\n",
       "    }\n",
       "</style>\n",
       "<table border=\"1\" class=\"dataframe\">\n",
       "  <thead>\n",
       "    <tr style=\"text-align: right;\">\n",
       "      <th></th>\n",
       "      <th>y_true</th>\n",
       "      <th>y_pred</th>\n",
       "      <th>y_score</th>\n",
       "    </tr>\n",
       "  </thead>\n",
       "  <tbody>\n",
       "    <tr>\n",
       "      <th>0</th>\n",
       "      <td>1</td>\n",
       "      <td>False</td>\n",
       "      <td>0.651646</td>\n",
       "    </tr>\n",
       "    <tr>\n",
       "      <th>1</th>\n",
       "      <td>0</td>\n",
       "      <td>False</td>\n",
       "      <td>0.028857</td>\n",
       "    </tr>\n",
       "    <tr>\n",
       "      <th>2</th>\n",
       "      <td>0</td>\n",
       "      <td>False</td>\n",
       "      <td>0.278621</td>\n",
       "    </tr>\n",
       "    <tr>\n",
       "      <th>3</th>\n",
       "      <td>1</td>\n",
       "      <td>True</td>\n",
       "      <td>0.920497</td>\n",
       "    </tr>\n",
       "    <tr>\n",
       "      <th>4</th>\n",
       "      <td>1</td>\n",
       "      <td>True</td>\n",
       "      <td>0.969395</td>\n",
       "    </tr>\n",
       "  </tbody>\n",
       "</table>\n",
       "</div>"
      ],
      "text/plain": [
       "   y_true  y_pred   y_score\n",
       "0       1   False  0.651646\n",
       "1       0   False  0.028857\n",
       "2       0   False  0.278621\n",
       "3       1    True  0.920497\n",
       "4       1    True  0.969395"
      ]
     },
     "execution_count": 12,
     "metadata": {},
     "output_type": "execute_result"
    }
   ],
   "source": [
    "cliradio_train = pd.read_csv('./out_data/clinical_radio_train.csv')\n",
    "cliradio_test = pd.read_csv('./out_data/clinical_radio_test.csv')\n",
    "cliradio_extest = pd.read_csv('./out_data/clinical_radio_extest.csv')\n",
    "cliradio_extest.head()"
   ]
  },
  {
   "cell_type": "code",
   "execution_count": 8,
   "id": "ca766dcc-4334-4ccf-bacf-0446b17b98ba",
   "metadata": {},
   "outputs": [],
   "source": [
    "cli_train = pd.read_csv('./out_data/clinical_train.csv')\n",
    "cli_test = pd.read_csv('./out_data/clinical_test.csv')\n",
    "cli_extest = pd.read_csv('./out_data/clinical_extest.csv')"
   ]
  },
  {
   "cell_type": "code",
   "execution_count": 27,
   "id": "2624f4d6-67c6-457e-a1c4-66fa0e74ed92",
   "metadata": {},
   "outputs": [
    {
     "data": {
      "text/plain": [
       "training    158\n",
       "test         70\n",
       "external     45\n",
       "Name: dataset, dtype: int64"
      ]
     },
     "execution_count": 27,
     "metadata": {},
     "output_type": "execute_result"
    }
   ],
   "source": [
    "radio = pd.read_csv('../Train/out_data/nomogram_feas_radiomics.csv')\n",
    "radio_train = radio[radio['dataset']=='training']\n",
    "radio_test = radio[radio['dataset']=='test']\n",
    "radio_extest = radio[radio['dataset']=='external']\n",
    "radio.head(2)\n",
    "radio['dataset'].value_counts()"
   ]
  },
  {
   "cell_type": "code",
   "execution_count": 28,
   "id": "21733e50-97b3-43bc-85e9-9b4c181c5633",
   "metadata": {},
   "outputs": [],
   "source": [
    "# radio\n",
    "radio_train_score = radio_train['radiomics_score']\n",
    "radio_test_score = radio_test['radiomics_score']\n",
    "radio_extest_score = radio_extest['radiomics_score']\n",
    "\n",
    "# clinical\n",
    "cli_train_score = cli_train['y_score']\n",
    "cli_test_score = cli_test['y_score']\n",
    "cli_extest_score = cli_extest['y_score']\n",
    "\n",
    "# clinical\n",
    "cliradio_train_score = cliradio_train['y_score']\n",
    "cliradio_test_score = cliradio_test['y_score']\n",
    "cliradio_extest_score = cliradio_extest['y_score']\n",
    "\n",
    "# y_true\n",
    "cliradio_train_true = cliradio_train['y_true']\n",
    "cliradio_test_true = cliradio_test['y_true']\n",
    "cliradio_extest_true = cliradio_extest['y_true']"
   ]
  },
  {
   "cell_type": "code",
   "execution_count": 30,
   "id": "456ad967-26d8-49ee-9b6d-cb0645b46832",
   "metadata": {},
   "outputs": [
    {
     "name": "stdout",
     "output_type": "stream",
     "text": [
      "0-0 p-value = 1.0\n",
      "0-1 p-value = 0.011169848503998393\n",
      "0-2 p-value = 0.0020452839181291055\n",
      "1-0 p-value = 0.011169848503998393\n",
      "1-1 p-value = 1.0\n",
      "1-2 p-value = 0.8348067363896076\n",
      "2-0 p-value = 0.0020452839181291055\n",
      "2-1 p-value = 0.8348067363896076\n",
      "2-2 p-value = 1.0\n"
     ]
    }
   ],
   "source": [
    "# test set\n",
    "score_list = [radio_test_score,\n",
    "              cli_test_score,\n",
    "              cliradio_test_score\n",
    "             ]\n",
    "score_list\n",
    "y_true = cliradio_test_true\n",
    "\n",
    "\n",
    "for i, s1 in enumerate(score_list):\n",
    "    for j, s2 in enumerate(score_list):\n",
    "        print(f'{i}-{j} p-value = {DelongTest(s1, s2, y_true)._compute_z_p()[1]}')"
   ]
  },
  {
   "cell_type": "code",
   "execution_count": 31,
   "id": "b76a7336-6301-4b13-b76b-b8deb86780ef",
   "metadata": {},
   "outputs": [
    {
     "name": "stdout",
     "output_type": "stream",
     "text": [
      "45\n",
      "45\n",
      "45\n",
      "45\n",
      "0-0 p-value = 1.0\n",
      "0-1 p-value = 0.38187091753362723\n",
      "0-2 p-value = 0.057496418488634\n",
      "1-0 p-value = 0.38187091753362723\n",
      "1-1 p-value = 1.0\n",
      "1-2 p-value = 0.5267146341221188\n",
      "2-0 p-value = 0.057496418488634\n",
      "2-1 p-value = 0.5267146341221188\n",
      "2-2 p-value = 1.0\n"
     ]
    }
   ],
   "source": [
    "# extest set\n",
    "score_list = [radio_extest_score,\n",
    "              cli_extest_score,\n",
    "              cliradio_extest_score\n",
    "             ]\n",
    "score_list\n",
    "y_true = cliradio_extest_true\n",
    "print(len(y_true))\n",
    "print(len(radio_extest_score))\n",
    "print(len(cli_extest_score))\n",
    "print(len(cliradio_extest_score))\n",
    "\n",
    "for i, s1 in enumerate(score_list):\n",
    "    for j, s2 in enumerate(score_list):\n",
    "        print(f'{i}-{j} p-value = {DelongTest(s1, s2, y_true)._compute_z_p()[1]}')"
   ]
  },
  {
   "cell_type": "code",
   "execution_count": 35,
   "id": "dae747e3-e58b-4353-a1a1-e15c2cc7d879",
   "metadata": {},
   "outputs": [
    {
     "data": {
      "text/plain": [
       "['y_true', 'y_pred', 'y_score']"
      ]
     },
     "execution_count": 35,
     "metadata": {},
     "output_type": "execute_result"
    }
   ],
   "source": [
    "list(cliradio_extest)"
   ]
  },
  {
   "cell_type": "code",
   "execution_count": 36,
   "id": "cac82774-9a7b-4678-abef-b5eaf12da405",
   "metadata": {},
   "outputs": [
    {
     "name": "stdout",
     "output_type": "stream",
     "text": [
      "115\n",
      "45\n",
      "45\n",
      "45\n",
      "0-0 p-value = 1.0\n",
      "0-1 p-value = 0.007195977393302671\n",
      "0-2 p-value = 0.004310628523995916\n",
      "1-0 p-value = 0.007195977393302671\n",
      "1-1 p-value = 1.0\n",
      "1-2 p-value = 9.547577206167866e-08\n",
      "2-0 p-value = 0.005497621973929766\n",
      "2-1 p-value = 7.256287901700801e-08\n",
      "2-2 p-value = 1.0\n"
     ]
    }
   ],
   "source": [
    "# extest set\n",
    "score_list = [list(radio_test_score)+list(radio_extest_score),\n",
    "              list(cli_test_score)+list(cli_extest_score),\n",
    "              list(cliradio_extest_score)+list(cliradio_extest_score)\n",
    "             ]\n",
    "score_list\n",
    "y_true = list(cliradio_test_true)+list(cliradio_extest_true)\n",
    "print(len(y_true))\n",
    "print(len(radio_extest_score))\n",
    "print(len(cli_extest_score))\n",
    "print(len(cliradio_extest_score))\n",
    "\n",
    "for i, s1 in enumerate(score_list):\n",
    "    for j, s2 in enumerate(score_list):\n",
    "        print(f'{i}-{j} p-value = {DelongTest(s1, s2, y_true)._compute_z_p()[1]}')"
   ]
  },
  {
   "cell_type": "code",
   "execution_count": 37,
   "id": "2c47b1af-66e3-4c56-9a6d-a50627d0e3fd",
   "metadata": {},
   "outputs": [
    {
     "data": {
      "text/plain": [
       "[1, 2]"
      ]
     },
     "execution_count": 37,
     "metadata": {},
     "output_type": "execute_result"
    }
   ],
   "source": [
    "a = [1,2,3,4]\n",
    "a = a[:2]\n",
    "a"
   ]
  },
  {
   "cell_type": "code",
   "execution_count": 41,
   "id": "b0894983-b298-4691-9fb4-e2303e70a21b",
   "metadata": {},
   "outputs": [
    {
     "data": {
      "text/plain": [
       "array([[[-2048., -2048., -2048.],\n",
       "        [-2048., -2048., -2048.],\n",
       "        [-2048., -2048., -2048.]],\n",
       "\n",
       "       [[-2048., -2048., -2048.],\n",
       "        [-2048., -2048., -2048.],\n",
       "        [-2048., -2048., -2048.]],\n",
       "\n",
       "       [[-2048., -2048., -2048.],\n",
       "        [-2048., -2048., -2048.],\n",
       "        [-2048., -2048., -2048.]]])"
      ]
     },
     "execution_count": 41,
     "metadata": {},
     "output_type": "execute_result"
    }
   ],
   "source": [
    "import numpy as np\n",
    "n1 = np.ones([3,3,3])\n",
    "-2048*np.ones(n1.shape)"
   ]
  },
  {
   "cell_type": "code",
   "execution_count": null,
   "id": "dd5d9ba6-14fe-45d0-8778-2368bf9a0d0d",
   "metadata": {},
   "outputs": [],
   "source": []
  }
 ],
 "metadata": {
  "kernelspec": {
   "display_name": "WModel1",
   "language": "python",
   "name": "wmodel1"
  },
  "language_info": {
   "codemirror_mode": {
    "name": "ipython",
    "version": 3
   },
   "file_extension": ".py",
   "mimetype": "text/x-python",
   "name": "python",
   "nbconvert_exporter": "python",
   "pygments_lexer": "ipython3",
   "version": "3.7.5"
  }
 },
 "nbformat": 4,
 "nbformat_minor": 5
}
